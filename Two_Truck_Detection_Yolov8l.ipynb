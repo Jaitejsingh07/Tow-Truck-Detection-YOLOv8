{
 "cells": [
  {
   "cell_type": "code",
   "execution_count": 2,
   "id": "1c639bcb",
   "metadata": {},
   "outputs": [],
   "source": [
    "import zipfile\n",
    "\n",
    "# Path to your zip file\n",
    "zip_file_path = 'Data.zip'\n",
    "\n",
    "# Directory where you want to extract the contents of the zip file\n",
    "#extract_dir = 'path/to/extract/directory'\n",
    "\n",
    "# Open and extract the zip file\n",
    "with zipfile.ZipFile(zip_file_path, 'r') as zip_ref:\n",
    "    zip_ref.extractall()"
   ]
  },
  {
   "cell_type": "code",
   "execution_count": 4,
   "id": "01c6fcc3",
   "metadata": {},
   "outputs": [
    {
     "data": {
      "text/plain": [
       "True"
      ]
     },
     "execution_count": 4,
     "metadata": {},
     "output_type": "execute_result"
    }
   ],
   "source": [
    "import torch\n",
    "torch.cuda.is_available()"
   ]
  },
  {
   "cell_type": "code",
   "execution_count": 5,
   "id": "560c40f5",
   "metadata": {},
   "outputs": [
    {
     "name": "stdout",
     "output_type": "stream",
     "text": [
      "Ultralytics YOLOv8.1.17 🚀 Python-3.8.10 torch-1.10.0+cu113 CUDA:0 (NVIDIA RTX A5000, 24256MiB)\n",
      "Setup complete ✅ (64 CPUs, 62.5 GB RAM, 98.2/227.9 GB disk)\n"
     ]
    }
   ],
   "source": [
    "!pip install ultralytics\n",
    "from IPython import display\n",
    "display.clear_output()\n",
    "\n",
    "import ultralytics\n",
    "ultralytics.checks()"
   ]
  },
  {
   "cell_type": "code",
   "execution_count": 1,
   "id": "a4ab18fe",
   "metadata": {},
   "outputs": [
    {
     "name": "stderr",
     "output_type": "stream",
     "text": [
      "/usr/local/lib/python3.8/dist-packages/tqdm/auto.py:21: TqdmWarning: IProgress not found. Please update jupyter and ipywidgets. See https://ipywidgets.readthedocs.io/en/stable/user_install.html\n",
      "  from .autonotebook import tqdm as notebook_tqdm\n"
     ]
    },
    {
     "name": "stdout",
     "output_type": "stream",
     "text": [
      "Ultralytics YOLOv8.1.17 🚀 Python-3.8.10 torch-1.10.0+cu113 CUDA:1 (NVIDIA RTX A5000, 24256MiB)\n",
      "WARNING ⚠️ Upgrade to torch>=2.0.0 for deterministic training.\n",
      "\u001b[34m\u001b[1mengine/trainer: \u001b[0mtask=detect, mode=train, model=yolov8l.pt, data=config.yaml, epochs=50, time=None, patience=100, batch=8, imgsz=640, save=True, save_period=-1, cache=False, device=1, workers=8, project=None, name=train29, exist_ok=False, pretrained=True, optimizer=auto, verbose=True, seed=0, deterministic=True, single_cls=False, rect=False, cos_lr=False, close_mosaic=10, resume=False, amp=True, fraction=1.0, profile=False, freeze=None, multi_scale=False, overlap_mask=True, mask_ratio=4, dropout=0.0, val=True, split=val, save_json=False, save_hybrid=False, conf=None, iou=0.7, max_det=300, half=False, dnn=False, plots=True, source=None, vid_stride=1, stream_buffer=False, visualize=False, augment=False, agnostic_nms=False, classes=None, retina_masks=False, embed=None, show=False, save_frames=False, save_txt=False, save_conf=False, save_crop=False, show_labels=True, show_conf=True, show_boxes=True, line_width=None, format=torchscript, keras=False, optimize=False, int8=False, dynamic=False, simplify=False, opset=None, workspace=4, nms=False, lr0=0.01, lrf=0.01, momentum=0.937, weight_decay=0.0005, warmup_epochs=3.0, warmup_momentum=0.8, warmup_bias_lr=0.1, box=7.5, cls=0.5, dfl=1.5, pose=12.0, kobj=1.0, label_smoothing=0.0, nbs=64, hsv_h=0.015, hsv_s=0.7, hsv_v=0.4, degrees=0.0, translate=0.1, scale=0.5, shear=0.0, perspective=0.0, flipud=0.0, fliplr=0.5, mosaic=1.0, mixup=0.0, copy_paste=0.0, auto_augment=randaugment, erasing=0.4, crop_fraction=1.0, cfg=None, tracker=botsort.yaml, save_dir=runs/detect/train29\n",
      "Overriding model.yaml nc=80 with nc=2\n",
      "\n",
      "                   from  n    params  module                                       arguments                     \n",
      "  0                  -1  1      1856  ultralytics.nn.modules.conv.Conv             [3, 64, 3, 2]                 \n",
      "  1                  -1  1     73984  ultralytics.nn.modules.conv.Conv             [64, 128, 3, 2]               \n",
      "  2                  -1  3    279808  ultralytics.nn.modules.block.C2f             [128, 128, 3, True]           \n",
      "  3                  -1  1    295424  ultralytics.nn.modules.conv.Conv             [128, 256, 3, 2]              \n",
      "  4                  -1  6   2101248  ultralytics.nn.modules.block.C2f             [256, 256, 6, True]           \n",
      "  5                  -1  1   1180672  ultralytics.nn.modules.conv.Conv             [256, 512, 3, 2]              \n",
      "  6                  -1  6   8396800  ultralytics.nn.modules.block.C2f             [512, 512, 6, True]           \n",
      "  7                  -1  1   2360320  ultralytics.nn.modules.conv.Conv             [512, 512, 3, 2]              \n",
      "  8                  -1  3   4461568  ultralytics.nn.modules.block.C2f             [512, 512, 3, True]           \n",
      "  9                  -1  1    656896  ultralytics.nn.modules.block.SPPF            [512, 512, 5]                 \n",
      " 10                  -1  1         0  torch.nn.modules.upsampling.Upsample         [None, 2, 'nearest']          \n",
      " 11             [-1, 6]  1         0  ultralytics.nn.modules.conv.Concat           [1]                           \n",
      " 12                  -1  3   4723712  ultralytics.nn.modules.block.C2f             [1024, 512, 3]                \n",
      " 13                  -1  1         0  torch.nn.modules.upsampling.Upsample         [None, 2, 'nearest']          \n",
      " 14             [-1, 4]  1         0  ultralytics.nn.modules.conv.Concat           [1]                           \n",
      " 15                  -1  3   1247744  ultralytics.nn.modules.block.C2f             [768, 256, 3]                 \n",
      " 16                  -1  1    590336  ultralytics.nn.modules.conv.Conv             [256, 256, 3, 2]              \n",
      " 17            [-1, 12]  1         0  ultralytics.nn.modules.conv.Concat           [1]                           \n",
      " 18                  -1  3   4592640  ultralytics.nn.modules.block.C2f             [768, 512, 3]                 \n",
      " 19                  -1  1   2360320  ultralytics.nn.modules.conv.Conv             [512, 512, 3, 2]              \n",
      " 20             [-1, 9]  1         0  ultralytics.nn.modules.conv.Concat           [1]                           \n",
      " 21                  -1  3   4723712  ultralytics.nn.modules.block.C2f             [1024, 512, 3]                \n",
      " 22        [15, 18, 21]  1   5584342  ultralytics.nn.modules.head.Detect           [2, [256, 512, 512]]          \n",
      "Model summary: 365 layers, 43631382 parameters, 43631366 gradients, 165.4 GFLOPs\n",
      "\n",
      "Transferred 589/595 items from pretrained weights\n",
      "\u001b[34m\u001b[1mTensorBoard: \u001b[0mWARNING ⚠️ TensorBoard not initialized correctly, not logging this run. module 'numpy' has no attribute 'object'.\n",
      "`np.object` was a deprecated alias for the builtin `object`. To avoid this error in existing code, use `object` by itself. Doing this will not modify any behavior and is safe. \n",
      "The aliases was originally deprecated in NumPy 1.20; for more details and guidance see the original release note at:\n",
      "    https://numpy.org/devdocs/release/1.20.0-notes.html#deprecations\n"
     ]
    },
    {
     "name": "stderr",
     "output_type": "stream",
     "text": [
      "/usr/local/lib/python3.8/dist-packages/tensorflow/python/framework/dtypes.py:585: FutureWarning: In the future `np.object` will be defined as the corresponding NumPy scalar.\n",
      "  np.object,\n"
     ]
    },
    {
     "name": "stdout",
     "output_type": "stream",
     "text": [
      "Freezing layer 'model.22.dfl.conv.weight'\n",
      "\u001b[34m\u001b[1mAMP: \u001b[0mrunning Automatic Mixed Precision (AMP) checks with YOLOv8n...\n",
      "\u001b[34m\u001b[1mAMP: \u001b[0mchecks passed ✅\n"
     ]
    },
    {
     "name": "stderr",
     "output_type": "stream",
     "text": [
      "\u001b[34m\u001b[1mtrain: \u001b[0mScanning /LAB/labels/train.cache... 1502 images, 0 backgrounds, 0 corrupt: 100%|██████████| 1502/1502 [00:00<?, ?it/s]\n",
      "\u001b[34m\u001b[1mval: \u001b[0mScanning /LAB/labels/val.cache... 150 images, 0 backgrounds, 0 corrupt: 100%|██████████| 150/150 [00:00<?, ?it/s]\n"
     ]
    },
    {
     "name": "stdout",
     "output_type": "stream",
     "text": [
      "module 'numpy' has no attribute 'typeDict'\n",
      "\u001b[34m\u001b[1moptimizer:\u001b[0m 'optimizer=auto' found, ignoring 'lr0=0.01' and 'momentum=0.937' and determining best 'optimizer', 'lr0' and 'momentum' automatically... \n",
      "\u001b[34m\u001b[1moptimizer:\u001b[0m AdamW(lr=0.001667, momentum=0.9) with parameter groups 97 weight(decay=0.0), 104 weight(decay=0.0005), 103 bias(decay=0.0)\n",
      "Image sizes 640 train, 640 val\n",
      "Using 8 dataloader workers\n",
      "Logging results to \u001b[1mruns/detect/train29\u001b[0m\n",
      "Starting training for 50 epochs...\n",
      "\n",
      "      Epoch    GPU_mem   box_loss   cls_loss   dfl_loss  Instances       Size\n"
     ]
    },
    {
     "name": "stderr",
     "output_type": "stream",
     "text": [
      "       1/50      5.28G      1.357      1.909      1.769         20        640: 100%|██████████| 188/188 [00:36<00:00,  5.17it/s]\n",
      "                 Class     Images  Instances      Box(P          R      mAP50  mAP50-95): 100%|██████████| 10/10 [00:01<00:00,  7.88it/s]\n"
     ]
    },
    {
     "name": "stdout",
     "output_type": "stream",
     "text": [
      "                   all        150        152     0.0197      0.354     0.0192    0.00704\n",
      "\n",
      "      Epoch    GPU_mem   box_loss   cls_loss   dfl_loss  Instances       Size\n"
     ]
    },
    {
     "name": "stderr",
     "output_type": "stream",
     "text": [
      "       2/50      5.64G      1.538      1.865      1.905         19        640: 100%|██████████| 188/188 [00:33<00:00,  5.68it/s]\n",
      "                 Class     Images  Instances      Box(P          R      mAP50  mAP50-95): 100%|██████████| 10/10 [00:01<00:00,  8.36it/s]\n"
     ]
    },
    {
     "name": "stdout",
     "output_type": "stream",
     "text": [
      "                   all        150        152      0.249      0.407      0.205     0.0701\n",
      "\n",
      "      Epoch    GPU_mem   box_loss   cls_loss   dfl_loss  Instances       Size\n"
     ]
    },
    {
     "name": "stderr",
     "output_type": "stream",
     "text": [
      "       3/50      5.62G      1.501      1.787      1.857         18        640: 100%|██████████| 188/188 [00:32<00:00,  5.83it/s]\n",
      "                 Class     Images  Instances      Box(P          R      mAP50  mAP50-95): 100%|██████████| 10/10 [00:01<00:00,  8.51it/s]"
     ]
    },
    {
     "name": "stdout",
     "output_type": "stream",
     "text": [
      "                   all        150        152     0.0991      0.214     0.0447     0.0129\n"
     ]
    },
    {
     "name": "stderr",
     "output_type": "stream",
     "text": [
      "\n"
     ]
    },
    {
     "name": "stdout",
     "output_type": "stream",
     "text": [
      "\n",
      "      Epoch    GPU_mem   box_loss   cls_loss   dfl_loss  Instances       Size\n"
     ]
    },
    {
     "name": "stderr",
     "output_type": "stream",
     "text": [
      "       4/50      5.62G      1.424      1.638      1.792         18        640: 100%|██████████| 188/188 [00:32<00:00,  5.81it/s]\n",
      "                 Class     Images  Instances      Box(P          R      mAP50  mAP50-95): 100%|██████████| 10/10 [00:01<00:00,  8.58it/s]"
     ]
    },
    {
     "name": "stdout",
     "output_type": "stream",
     "text": [
      "                   all        150        152      0.592      0.639      0.474      0.229\n"
     ]
    },
    {
     "name": "stderr",
     "output_type": "stream",
     "text": [
      "\n"
     ]
    },
    {
     "name": "stdout",
     "output_type": "stream",
     "text": [
      "\n",
      "      Epoch    GPU_mem   box_loss   cls_loss   dfl_loss  Instances       Size\n"
     ]
    },
    {
     "name": "stderr",
     "output_type": "stream",
     "text": [
      "       5/50      5.64G      1.361      1.533      1.744         14        640: 100%|██████████| 188/188 [00:32<00:00,  5.73it/s]\n",
      "                 Class     Images  Instances      Box(P          R      mAP50  mAP50-95): 100%|██████████| 10/10 [00:01<00:00,  8.53it/s]"
     ]
    },
    {
     "name": "stdout",
     "output_type": "stream",
     "text": [
      "                   all        150        152      0.632      0.567      0.601      0.376\n"
     ]
    },
    {
     "name": "stderr",
     "output_type": "stream",
     "text": [
      "\n"
     ]
    },
    {
     "name": "stdout",
     "output_type": "stream",
     "text": [
      "\n",
      "      Epoch    GPU_mem   box_loss   cls_loss   dfl_loss  Instances       Size\n"
     ]
    },
    {
     "name": "stderr",
     "output_type": "stream",
     "text": [
      "       6/50      5.62G      1.318      1.482      1.701         17        640: 100%|██████████| 188/188 [00:32<00:00,  5.80it/s]\n",
      "                 Class     Images  Instances      Box(P          R      mAP50  mAP50-95): 100%|██████████| 10/10 [00:01<00:00,  8.44it/s]"
     ]
    },
    {
     "name": "stdout",
     "output_type": "stream",
     "text": [
      "                   all        150        152      0.832      0.634      0.738       0.47\n"
     ]
    },
    {
     "name": "stderr",
     "output_type": "stream",
     "text": [
      "\n"
     ]
    },
    {
     "name": "stdout",
     "output_type": "stream",
     "text": [
      "\n",
      "      Epoch    GPU_mem   box_loss   cls_loss   dfl_loss  Instances       Size\n"
     ]
    },
    {
     "name": "stderr",
     "output_type": "stream",
     "text": [
      "       7/50      5.62G       1.27      1.418      1.668         15        640: 100%|██████████| 188/188 [00:31<00:00,  5.89it/s]\n",
      "                 Class     Images  Instances      Box(P          R      mAP50  mAP50-95): 100%|██████████| 10/10 [00:01<00:00,  8.49it/s]"
     ]
    },
    {
     "name": "stdout",
     "output_type": "stream",
     "text": [
      "                   all        150        152      0.568      0.582      0.633      0.399\n"
     ]
    },
    {
     "name": "stderr",
     "output_type": "stream",
     "text": [
      "\n"
     ]
    },
    {
     "name": "stdout",
     "output_type": "stream",
     "text": [
      "\n",
      "      Epoch    GPU_mem   box_loss   cls_loss   dfl_loss  Instances       Size\n"
     ]
    },
    {
     "name": "stderr",
     "output_type": "stream",
     "text": [
      "       8/50      5.62G      1.227      1.358      1.626         16        640: 100%|██████████| 188/188 [00:32<00:00,  5.85it/s]\n",
      "                 Class     Images  Instances      Box(P          R      mAP50  mAP50-95): 100%|██████████| 10/10 [00:01<00:00,  8.42it/s]"
     ]
    },
    {
     "name": "stdout",
     "output_type": "stream",
     "text": [
      "                   all        150        152      0.744      0.582      0.714      0.477\n"
     ]
    },
    {
     "name": "stderr",
     "output_type": "stream",
     "text": [
      "\n"
     ]
    },
    {
     "name": "stdout",
     "output_type": "stream",
     "text": [
      "\n",
      "      Epoch    GPU_mem   box_loss   cls_loss   dfl_loss  Instances       Size\n"
     ]
    },
    {
     "name": "stderr",
     "output_type": "stream",
     "text": [
      "       9/50      5.62G      1.204      1.299      1.612         16        640: 100%|██████████| 188/188 [00:31<00:00,  5.88it/s]\n",
      "                 Class     Images  Instances      Box(P          R      mAP50  mAP50-95): 100%|██████████| 10/10 [00:01<00:00,  8.62it/s]"
     ]
    },
    {
     "name": "stdout",
     "output_type": "stream",
     "text": [
      "                   all        150        152      0.663      0.732       0.79       0.54\n"
     ]
    },
    {
     "name": "stderr",
     "output_type": "stream",
     "text": [
      "\n"
     ]
    },
    {
     "name": "stdout",
     "output_type": "stream",
     "text": [
      "\n",
      "      Epoch    GPU_mem   box_loss   cls_loss   dfl_loss  Instances       Size\n"
     ]
    },
    {
     "name": "stderr",
     "output_type": "stream",
     "text": [
      "      10/50      5.64G      1.179      1.279      1.586         20        640: 100%|██████████| 188/188 [00:31<00:00,  5.89it/s]\n",
      "                 Class     Images  Instances      Box(P          R      mAP50  mAP50-95): 100%|██████████| 10/10 [00:01<00:00,  8.49it/s]"
     ]
    },
    {
     "name": "stdout",
     "output_type": "stream",
     "text": [
      "                   all        150        152      0.861      0.669      0.804      0.554\n"
     ]
    },
    {
     "name": "stderr",
     "output_type": "stream",
     "text": [
      "\n"
     ]
    },
    {
     "name": "stdout",
     "output_type": "stream",
     "text": [
      "\n",
      "      Epoch    GPU_mem   box_loss   cls_loss   dfl_loss  Instances       Size\n"
     ]
    },
    {
     "name": "stderr",
     "output_type": "stream",
     "text": [
      "      11/50      5.64G       1.14      1.228      1.562         17        640: 100%|██████████| 188/188 [00:31<00:00,  5.88it/s]\n",
      "                 Class     Images  Instances      Box(P          R      mAP50  mAP50-95): 100%|██████████| 10/10 [00:01<00:00,  8.66it/s]"
     ]
    },
    {
     "name": "stdout",
     "output_type": "stream",
     "text": [
      "                   all        150        152      0.888      0.616      0.758      0.522\n"
     ]
    },
    {
     "name": "stderr",
     "output_type": "stream",
     "text": [
      "\n"
     ]
    },
    {
     "name": "stdout",
     "output_type": "stream",
     "text": [
      "\n",
      "      Epoch    GPU_mem   box_loss   cls_loss   dfl_loss  Instances       Size\n"
     ]
    },
    {
     "name": "stderr",
     "output_type": "stream",
     "text": [
      "      12/50      5.64G      1.122      1.186      1.557         19        640: 100%|██████████| 188/188 [00:32<00:00,  5.85it/s]\n",
      "                 Class     Images  Instances      Box(P          R      mAP50  mAP50-95): 100%|██████████| 10/10 [00:01<00:00,  8.39it/s]"
     ]
    },
    {
     "name": "stdout",
     "output_type": "stream",
     "text": [
      "                   all        150        152      0.722      0.764       0.83      0.586\n"
     ]
    },
    {
     "name": "stderr",
     "output_type": "stream",
     "text": [
      "\n"
     ]
    },
    {
     "name": "stdout",
     "output_type": "stream",
     "text": [
      "\n",
      "      Epoch    GPU_mem   box_loss   cls_loss   dfl_loss  Instances       Size\n"
     ]
    },
    {
     "name": "stderr",
     "output_type": "stream",
     "text": [
      "      13/50      5.64G      1.094      1.193      1.519         17        640: 100%|██████████| 188/188 [00:32<00:00,  5.87it/s]\n",
      "                 Class     Images  Instances      Box(P          R      mAP50  mAP50-95): 100%|██████████| 10/10 [00:01<00:00,  8.45it/s]"
     ]
    },
    {
     "name": "stdout",
     "output_type": "stream",
     "text": [
      "                   all        150        152      0.886      0.621      0.777      0.536\n"
     ]
    },
    {
     "name": "stderr",
     "output_type": "stream",
     "text": [
      "\n"
     ]
    },
    {
     "name": "stdout",
     "output_type": "stream",
     "text": [
      "\n",
      "      Epoch    GPU_mem   box_loss   cls_loss   dfl_loss  Instances       Size\n"
     ]
    },
    {
     "name": "stderr",
     "output_type": "stream",
     "text": [
      "      14/50      5.64G      1.069      1.183      1.517         15        640: 100%|██████████| 188/188 [00:32<00:00,  5.86it/s]\n",
      "                 Class     Images  Instances      Box(P          R      mAP50  mAP50-95): 100%|██████████| 10/10 [00:01<00:00,  8.66it/s]"
     ]
    },
    {
     "name": "stdout",
     "output_type": "stream",
     "text": [
      "                   all        150        152      0.719      0.788      0.835      0.595\n"
     ]
    },
    {
     "name": "stderr",
     "output_type": "stream",
     "text": [
      "\n"
     ]
    },
    {
     "name": "stdout",
     "output_type": "stream",
     "text": [
      "\n",
      "      Epoch    GPU_mem   box_loss   cls_loss   dfl_loss  Instances       Size\n"
     ]
    },
    {
     "name": "stderr",
     "output_type": "stream",
     "text": [
      "      15/50      5.63G      1.091      1.152      1.529         18        640: 100%|██████████| 188/188 [00:31<00:00,  5.88it/s]\n",
      "                 Class     Images  Instances      Box(P          R      mAP50  mAP50-95): 100%|██████████| 10/10 [00:01<00:00,  8.69it/s]"
     ]
    },
    {
     "name": "stdout",
     "output_type": "stream",
     "text": [
      "                   all        150        152       0.79       0.77      0.865      0.604\n"
     ]
    },
    {
     "name": "stderr",
     "output_type": "stream",
     "text": [
      "\n"
     ]
    },
    {
     "name": "stdout",
     "output_type": "stream",
     "text": [
      "\n",
      "      Epoch    GPU_mem   box_loss   cls_loss   dfl_loss  Instances       Size\n"
     ]
    },
    {
     "name": "stderr",
     "output_type": "stream",
     "text": [
      "      16/50      5.62G      1.058      1.104      1.495         17        640: 100%|██████████| 188/188 [00:31<00:00,  5.88it/s]\n",
      "                 Class     Images  Instances      Box(P          R      mAP50  mAP50-95): 100%|██████████| 10/10 [00:01<00:00,  8.60it/s]"
     ]
    },
    {
     "name": "stdout",
     "output_type": "stream",
     "text": [
      "                   all        150        152      0.796      0.727      0.851      0.598\n"
     ]
    },
    {
     "name": "stderr",
     "output_type": "stream",
     "text": [
      "\n"
     ]
    },
    {
     "name": "stdout",
     "output_type": "stream",
     "text": [
      "\n",
      "      Epoch    GPU_mem   box_loss   cls_loss   dfl_loss  Instances       Size\n"
     ]
    },
    {
     "name": "stderr",
     "output_type": "stream",
     "text": [
      "      17/50      5.62G      1.039      1.097      1.489         17        640: 100%|██████████| 188/188 [00:32<00:00,  5.82it/s]\n",
      "                 Class     Images  Instances      Box(P          R      mAP50  mAP50-95): 100%|██████████| 10/10 [00:01<00:00,  8.72it/s]"
     ]
    },
    {
     "name": "stdout",
     "output_type": "stream",
     "text": [
      "                   all        150        152      0.794      0.779      0.865      0.633\n"
     ]
    },
    {
     "name": "stderr",
     "output_type": "stream",
     "text": [
      "\n"
     ]
    },
    {
     "name": "stdout",
     "output_type": "stream",
     "text": [
      "\n",
      "      Epoch    GPU_mem   box_loss   cls_loss   dfl_loss  Instances       Size\n"
     ]
    },
    {
     "name": "stderr",
     "output_type": "stream",
     "text": [
      "      18/50      5.63G      1.039      1.096      1.473         18        640: 100%|██████████| 188/188 [00:32<00:00,  5.86it/s]\n",
      "                 Class     Images  Instances      Box(P          R      mAP50  mAP50-95): 100%|██████████| 10/10 [00:01<00:00,  8.70it/s]"
     ]
    },
    {
     "name": "stdout",
     "output_type": "stream",
     "text": [
      "                   all        150        152      0.803      0.829      0.883      0.664\n"
     ]
    },
    {
     "name": "stderr",
     "output_type": "stream",
     "text": [
      "\n"
     ]
    },
    {
     "name": "stdout",
     "output_type": "stream",
     "text": [
      "\n",
      "      Epoch    GPU_mem   box_loss   cls_loss   dfl_loss  Instances       Size\n"
     ]
    },
    {
     "name": "stderr",
     "output_type": "stream",
     "text": [
      "      19/50      5.64G      1.022      1.054      1.464         17        640: 100%|██████████| 188/188 [00:32<00:00,  5.75it/s]\n",
      "                 Class     Images  Instances      Box(P          R      mAP50  mAP50-95): 100%|██████████| 10/10 [00:01<00:00,  8.68it/s]"
     ]
    },
    {
     "name": "stdout",
     "output_type": "stream",
     "text": [
      "                   all        150        152      0.853      0.774      0.877      0.666\n"
     ]
    },
    {
     "name": "stderr",
     "output_type": "stream",
     "text": [
      "\n"
     ]
    },
    {
     "name": "stdout",
     "output_type": "stream",
     "text": [
      "\n",
      "      Epoch    GPU_mem   box_loss   cls_loss   dfl_loss  Instances       Size\n"
     ]
    },
    {
     "name": "stderr",
     "output_type": "stream",
     "text": [
      "      20/50      5.63G      1.005      1.027      1.461         15        640: 100%|██████████| 188/188 [00:31<00:00,  5.89it/s]\n",
      "                 Class     Images  Instances      Box(P          R      mAP50  mAP50-95): 100%|██████████| 10/10 [00:01<00:00,  8.58it/s]"
     ]
    },
    {
     "name": "stdout",
     "output_type": "stream",
     "text": [
      "                   all        150        152      0.733      0.816       0.85      0.637\n"
     ]
    },
    {
     "name": "stderr",
     "output_type": "stream",
     "text": [
      "\n"
     ]
    },
    {
     "name": "stdout",
     "output_type": "stream",
     "text": [
      "\n",
      "      Epoch    GPU_mem   box_loss   cls_loss   dfl_loss  Instances       Size\n"
     ]
    },
    {
     "name": "stderr",
     "output_type": "stream",
     "text": [
      "      21/50      5.63G     0.9937      1.024      1.449         13        640: 100%|██████████| 188/188 [00:32<00:00,  5.83it/s]\n",
      "                 Class     Images  Instances      Box(P          R      mAP50  mAP50-95): 100%|██████████| 10/10 [00:01<00:00,  8.49it/s]"
     ]
    },
    {
     "name": "stdout",
     "output_type": "stream",
     "text": [
      "                   all        150        152      0.739      0.765      0.848      0.642\n"
     ]
    },
    {
     "name": "stderr",
     "output_type": "stream",
     "text": [
      "\n"
     ]
    },
    {
     "name": "stdout",
     "output_type": "stream",
     "text": [
      "\n",
      "      Epoch    GPU_mem   box_loss   cls_loss   dfl_loss  Instances       Size\n"
     ]
    },
    {
     "name": "stderr",
     "output_type": "stream",
     "text": [
      "      22/50      5.64G     0.9905      1.009      1.438         15        640: 100%|██████████| 188/188 [00:31<00:00,  5.88it/s]\n",
      "                 Class     Images  Instances      Box(P          R      mAP50  mAP50-95): 100%|██████████| 10/10 [00:01<00:00,  8.64it/s]"
     ]
    },
    {
     "name": "stdout",
     "output_type": "stream",
     "text": [
      "                   all        150        152      0.741      0.789      0.853      0.624\n"
     ]
    },
    {
     "name": "stderr",
     "output_type": "stream",
     "text": [
      "\n"
     ]
    },
    {
     "name": "stdout",
     "output_type": "stream",
     "text": [
      "\n",
      "      Epoch    GPU_mem   box_loss   cls_loss   dfl_loss  Instances       Size\n"
     ]
    },
    {
     "name": "stderr",
     "output_type": "stream",
     "text": [
      "      23/50      5.63G      0.966     0.9778       1.41         19        640: 100%|██████████| 188/188 [00:31<00:00,  5.88it/s]\n",
      "                 Class     Images  Instances      Box(P          R      mAP50  mAP50-95): 100%|██████████| 10/10 [00:01<00:00,  8.63it/s]"
     ]
    },
    {
     "name": "stdout",
     "output_type": "stream",
     "text": [
      "                   all        150        152      0.757      0.796      0.877      0.627\n"
     ]
    },
    {
     "name": "stderr",
     "output_type": "stream",
     "text": [
      "\n"
     ]
    },
    {
     "name": "stdout",
     "output_type": "stream",
     "text": [
      "\n",
      "      Epoch    GPU_mem   box_loss   cls_loss   dfl_loss  Instances       Size\n"
     ]
    },
    {
     "name": "stderr",
     "output_type": "stream",
     "text": [
      "      24/50      5.63G     0.9469     0.9607      1.413         15        640: 100%|██████████| 188/188 [00:31<00:00,  5.90it/s]\n",
      "                 Class     Images  Instances      Box(P          R      mAP50  mAP50-95): 100%|██████████| 10/10 [00:01<00:00,  8.76it/s]"
     ]
    },
    {
     "name": "stdout",
     "output_type": "stream",
     "text": [
      "                   all        150        152      0.845      0.779      0.878      0.669\n"
     ]
    },
    {
     "name": "stderr",
     "output_type": "stream",
     "text": [
      "\n"
     ]
    },
    {
     "name": "stdout",
     "output_type": "stream",
     "text": [
      "\n",
      "      Epoch    GPU_mem   box_loss   cls_loss   dfl_loss  Instances       Size\n"
     ]
    },
    {
     "name": "stderr",
     "output_type": "stream",
     "text": [
      "      25/50      5.64G     0.9748     0.9797      1.423         14        640: 100%|██████████| 188/188 [00:32<00:00,  5.83it/s]\n",
      "                 Class     Images  Instances      Box(P          R      mAP50  mAP50-95): 100%|██████████| 10/10 [00:01<00:00,  8.46it/s]"
     ]
    },
    {
     "name": "stdout",
     "output_type": "stream",
     "text": [
      "                   all        150        152       0.88      0.744      0.894      0.675\n"
     ]
    },
    {
     "name": "stderr",
     "output_type": "stream",
     "text": [
      "\n"
     ]
    },
    {
     "name": "stdout",
     "output_type": "stream",
     "text": [
      "\n",
      "      Epoch    GPU_mem   box_loss   cls_loss   dfl_loss  Instances       Size\n"
     ]
    },
    {
     "name": "stderr",
     "output_type": "stream",
     "text": [
      "      26/50      5.62G      0.962     0.9407      1.413         22        640: 100%|██████████| 188/188 [00:31<00:00,  5.92it/s]\n",
      "                 Class     Images  Instances      Box(P          R      mAP50  mAP50-95): 100%|██████████| 10/10 [00:01<00:00,  8.62it/s]"
     ]
    },
    {
     "name": "stdout",
     "output_type": "stream",
     "text": [
      "                   all        150        152      0.866      0.779       0.88      0.671\n"
     ]
    },
    {
     "name": "stderr",
     "output_type": "stream",
     "text": [
      "\n"
     ]
    },
    {
     "name": "stdout",
     "output_type": "stream",
     "text": [
      "\n",
      "      Epoch    GPU_mem   box_loss   cls_loss   dfl_loss  Instances       Size\n"
     ]
    },
    {
     "name": "stderr",
     "output_type": "stream",
     "text": [
      "      27/50      5.63G     0.9415     0.9366      1.408         14        640: 100%|██████████| 188/188 [00:32<00:00,  5.79it/s]\n",
      "                 Class     Images  Instances      Box(P          R      mAP50  mAP50-95): 100%|██████████| 10/10 [00:01<00:00,  8.71it/s]"
     ]
    },
    {
     "name": "stdout",
     "output_type": "stream",
     "text": [
      "                   all        150        152        0.8      0.801      0.867      0.657\n"
     ]
    },
    {
     "name": "stderr",
     "output_type": "stream",
     "text": [
      "\n"
     ]
    },
    {
     "name": "stdout",
     "output_type": "stream",
     "text": [
      "\n",
      "      Epoch    GPU_mem   box_loss   cls_loss   dfl_loss  Instances       Size\n"
     ]
    },
    {
     "name": "stderr",
     "output_type": "stream",
     "text": [
      "      28/50      5.64G     0.9409     0.9419      1.392         14        640: 100%|██████████| 188/188 [00:32<00:00,  5.79it/s]\n",
      "                 Class     Images  Instances      Box(P          R      mAP50  mAP50-95): 100%|██████████| 10/10 [00:01<00:00,  8.63it/s]"
     ]
    },
    {
     "name": "stdout",
     "output_type": "stream",
     "text": [
      "                   all        150        152       0.83      0.809      0.894      0.694\n"
     ]
    },
    {
     "name": "stderr",
     "output_type": "stream",
     "text": [
      "\n"
     ]
    },
    {
     "name": "stdout",
     "output_type": "stream",
     "text": [
      "\n",
      "      Epoch    GPU_mem   box_loss   cls_loss   dfl_loss  Instances       Size\n"
     ]
    },
    {
     "name": "stderr",
     "output_type": "stream",
     "text": [
      "      29/50      5.63G     0.9205     0.9302      1.383         17        640: 100%|██████████| 188/188 [00:31<00:00,  5.90it/s]\n",
      "                 Class     Images  Instances      Box(P          R      mAP50  mAP50-95): 100%|██████████| 10/10 [00:01<00:00,  8.54it/s]"
     ]
    },
    {
     "name": "stdout",
     "output_type": "stream",
     "text": [
      "                   all        150        152      0.811      0.801      0.893      0.684\n"
     ]
    },
    {
     "name": "stderr",
     "output_type": "stream",
     "text": [
      "\n"
     ]
    },
    {
     "name": "stdout",
     "output_type": "stream",
     "text": [
      "\n",
      "      Epoch    GPU_mem   box_loss   cls_loss   dfl_loss  Instances       Size\n"
     ]
    },
    {
     "name": "stderr",
     "output_type": "stream",
     "text": [
      "      30/50      5.64G     0.9032     0.8896      1.374         11        640: 100%|██████████| 188/188 [00:31<00:00,  5.88it/s]\n",
      "                 Class     Images  Instances      Box(P          R      mAP50  mAP50-95): 100%|██████████| 10/10 [00:01<00:00,  8.70it/s]"
     ]
    },
    {
     "name": "stdout",
     "output_type": "stream",
     "text": [
      "                   all        150        152      0.808      0.846      0.903      0.677\n"
     ]
    },
    {
     "name": "stderr",
     "output_type": "stream",
     "text": [
      "\n"
     ]
    },
    {
     "name": "stdout",
     "output_type": "stream",
     "text": [
      "\n",
      "      Epoch    GPU_mem   box_loss   cls_loss   dfl_loss  Instances       Size\n"
     ]
    },
    {
     "name": "stderr",
     "output_type": "stream",
     "text": [
      "      31/50      5.64G     0.9103     0.8765      1.376         17        640: 100%|██████████| 188/188 [00:32<00:00,  5.76it/s]\n",
      "                 Class     Images  Instances      Box(P          R      mAP50  mAP50-95): 100%|██████████| 10/10 [00:01<00:00,  8.70it/s]"
     ]
    },
    {
     "name": "stdout",
     "output_type": "stream",
     "text": [
      "                   all        150        152      0.906      0.727      0.903      0.681\n"
     ]
    },
    {
     "name": "stderr",
     "output_type": "stream",
     "text": [
      "\n"
     ]
    },
    {
     "name": "stdout",
     "output_type": "stream",
     "text": [
      "\n",
      "      Epoch    GPU_mem   box_loss   cls_loss   dfl_loss  Instances       Size\n"
     ]
    },
    {
     "name": "stderr",
     "output_type": "stream",
     "text": [
      "      32/50      5.64G     0.8913     0.8686      1.366         16        640: 100%|██████████| 188/188 [00:32<00:00,  5.87it/s]\n",
      "                 Class     Images  Instances      Box(P          R      mAP50  mAP50-95): 100%|██████████| 10/10 [00:01<00:00,  8.76it/s]"
     ]
    },
    {
     "name": "stdout",
     "output_type": "stream",
     "text": [
      "                   all        150        152      0.865      0.756      0.882      0.681\n"
     ]
    },
    {
     "name": "stderr",
     "output_type": "stream",
     "text": [
      "\n"
     ]
    },
    {
     "name": "stdout",
     "output_type": "stream",
     "text": [
      "\n",
      "      Epoch    GPU_mem   box_loss   cls_loss   dfl_loss  Instances       Size\n"
     ]
    },
    {
     "name": "stderr",
     "output_type": "stream",
     "text": [
      "      33/50      5.62G     0.9014     0.8772       1.37         17        640: 100%|██████████| 188/188 [00:31<00:00,  5.88it/s]\n",
      "                 Class     Images  Instances      Box(P          R      mAP50  mAP50-95): 100%|██████████| 10/10 [00:01<00:00,  8.43it/s]"
     ]
    },
    {
     "name": "stdout",
     "output_type": "stream",
     "text": [
      "                   all        150        152      0.806      0.809      0.873      0.649\n"
     ]
    },
    {
     "name": "stderr",
     "output_type": "stream",
     "text": [
      "\n"
     ]
    },
    {
     "name": "stdout",
     "output_type": "stream",
     "text": [
      "\n",
      "      Epoch    GPU_mem   box_loss   cls_loss   dfl_loss  Instances       Size\n"
     ]
    },
    {
     "name": "stderr",
     "output_type": "stream",
     "text": [
      "      34/50      5.63G     0.8877     0.8633      1.363         10        640: 100%|██████████| 188/188 [00:31<00:00,  5.89it/s]\n",
      "                 Class     Images  Instances      Box(P          R      mAP50  mAP50-95): 100%|██████████| 10/10 [00:01<00:00,  8.67it/s]"
     ]
    },
    {
     "name": "stdout",
     "output_type": "stream",
     "text": [
      "                   all        150        152      0.875      0.791      0.892      0.706\n"
     ]
    },
    {
     "name": "stderr",
     "output_type": "stream",
     "text": [
      "\n"
     ]
    },
    {
     "name": "stdout",
     "output_type": "stream",
     "text": [
      "\n",
      "      Epoch    GPU_mem   box_loss   cls_loss   dfl_loss  Instances       Size\n"
     ]
    },
    {
     "name": "stderr",
     "output_type": "stream",
     "text": [
      "      35/50      5.62G     0.8719     0.8375      1.348         16        640: 100%|██████████| 188/188 [00:31<00:00,  5.91it/s]\n",
      "                 Class     Images  Instances      Box(P          R      mAP50  mAP50-95): 100%|██████████| 10/10 [00:01<00:00,  8.67it/s]"
     ]
    },
    {
     "name": "stdout",
     "output_type": "stream",
     "text": [
      "                   all        150        152      0.864      0.817      0.902      0.687\n"
     ]
    },
    {
     "name": "stderr",
     "output_type": "stream",
     "text": [
      "\n"
     ]
    },
    {
     "name": "stdout",
     "output_type": "stream",
     "text": [
      "\n",
      "      Epoch    GPU_mem   box_loss   cls_loss   dfl_loss  Instances       Size\n"
     ]
    },
    {
     "name": "stderr",
     "output_type": "stream",
     "text": [
      "      36/50      5.62G     0.8551      0.827      1.336         17        640: 100%|██████████| 188/188 [00:31<00:00,  5.90it/s]\n",
      "                 Class     Images  Instances      Box(P          R      mAP50  mAP50-95): 100%|██████████| 10/10 [00:01<00:00,  8.66it/s]"
     ]
    },
    {
     "name": "stdout",
     "output_type": "stream",
     "text": [
      "                   all        150        152      0.884      0.775      0.901      0.689\n"
     ]
    },
    {
     "name": "stderr",
     "output_type": "stream",
     "text": [
      "\n"
     ]
    },
    {
     "name": "stdout",
     "output_type": "stream",
     "text": [
      "\n",
      "      Epoch    GPU_mem   box_loss   cls_loss   dfl_loss  Instances       Size\n"
     ]
    },
    {
     "name": "stderr",
     "output_type": "stream",
     "text": [
      "      37/50      5.64G     0.8472     0.8554      1.335         17        640: 100%|██████████| 188/188 [00:31<00:00,  5.88it/s]\n",
      "                 Class     Images  Instances      Box(P          R      mAP50  mAP50-95): 100%|██████████| 10/10 [00:01<00:00,  8.66it/s]"
     ]
    },
    {
     "name": "stdout",
     "output_type": "stream",
     "text": [
      "                   all        150        152      0.883      0.767      0.891      0.678\n"
     ]
    },
    {
     "name": "stderr",
     "output_type": "stream",
     "text": [
      "\n"
     ]
    },
    {
     "name": "stdout",
     "output_type": "stream",
     "text": [
      "\n",
      "      Epoch    GPU_mem   box_loss   cls_loss   dfl_loss  Instances       Size\n"
     ]
    },
    {
     "name": "stderr",
     "output_type": "stream",
     "text": [
      "      38/50      5.65G     0.8515     0.8125      1.336         17        640: 100%|██████████| 188/188 [00:31<00:00,  5.89it/s]\n",
      "                 Class     Images  Instances      Box(P          R      mAP50  mAP50-95): 100%|██████████| 10/10 [00:01<00:00,  8.72it/s]"
     ]
    },
    {
     "name": "stdout",
     "output_type": "stream",
     "text": [
      "                   all        150        152      0.835       0.74      0.876      0.688\n"
     ]
    },
    {
     "name": "stderr",
     "output_type": "stream",
     "text": [
      "\n"
     ]
    },
    {
     "name": "stdout",
     "output_type": "stream",
     "text": [
      "\n",
      "      Epoch    GPU_mem   box_loss   cls_loss   dfl_loss  Instances       Size\n"
     ]
    },
    {
     "name": "stderr",
     "output_type": "stream",
     "text": [
      "      39/50      5.65G     0.8496     0.8031      1.319         19        640: 100%|██████████| 188/188 [00:32<00:00,  5.87it/s]\n",
      "                 Class     Images  Instances      Box(P          R      mAP50  mAP50-95): 100%|██████████| 10/10 [00:01<00:00,  8.72it/s]"
     ]
    },
    {
     "name": "stdout",
     "output_type": "stream",
     "text": [
      "                   all        150        152       0.88      0.753      0.885      0.673\n"
     ]
    },
    {
     "name": "stderr",
     "output_type": "stream",
     "text": [
      "\n"
     ]
    },
    {
     "name": "stdout",
     "output_type": "stream",
     "text": [
      "\n",
      "      Epoch    GPU_mem   box_loss   cls_loss   dfl_loss  Instances       Size\n"
     ]
    },
    {
     "name": "stderr",
     "output_type": "stream",
     "text": [
      "      40/50      5.64G     0.8214     0.7818       1.31         18        640: 100%|██████████| 188/188 [00:31<00:00,  5.90it/s]\n",
      "                 Class     Images  Instances      Box(P          R      mAP50  mAP50-95): 100%|██████████| 10/10 [00:01<00:00,  8.73it/s]"
     ]
    },
    {
     "name": "stdout",
     "output_type": "stream",
     "text": [
      "                   all        150        152       0.87        0.8      0.886      0.683\n"
     ]
    },
    {
     "name": "stderr",
     "output_type": "stream",
     "text": [
      "\n"
     ]
    },
    {
     "name": "stdout",
     "output_type": "stream",
     "text": [
      "Closing dataloader mosaic\n",
      "\n",
      "      Epoch    GPU_mem   box_loss   cls_loss   dfl_loss  Instances       Size\n"
     ]
    },
    {
     "name": "stderr",
     "output_type": "stream",
     "text": [
      "      41/50      5.62G     0.7296     0.6385      1.409          6        640: 100%|██████████| 188/188 [00:33<00:00,  5.65it/s]\n",
      "                 Class     Images  Instances      Box(P          R      mAP50  mAP50-95): 100%|██████████| 10/10 [00:01<00:00,  8.47it/s]"
     ]
    },
    {
     "name": "stdout",
     "output_type": "stream",
     "text": [
      "                   all        150        152      0.887      0.772      0.897       0.68\n"
     ]
    },
    {
     "name": "stderr",
     "output_type": "stream",
     "text": [
      "\n"
     ]
    },
    {
     "name": "stdout",
     "output_type": "stream",
     "text": [
      "\n",
      "      Epoch    GPU_mem   box_loss   cls_loss   dfl_loss  Instances       Size\n"
     ]
    },
    {
     "name": "stderr",
     "output_type": "stream",
     "text": [
      "      42/50      5.64G     0.7177     0.6081       1.37          6        640: 100%|██████████| 188/188 [00:32<00:00,  5.77it/s]\n",
      "                 Class     Images  Instances      Box(P          R      mAP50  mAP50-95): 100%|██████████| 10/10 [00:01<00:00,  8.73it/s]"
     ]
    },
    {
     "name": "stdout",
     "output_type": "stream",
     "text": [
      "                   all        150        152      0.856      0.739      0.876      0.655\n"
     ]
    },
    {
     "name": "stderr",
     "output_type": "stream",
     "text": [
      "\n"
     ]
    },
    {
     "name": "stdout",
     "output_type": "stream",
     "text": [
      "\n",
      "      Epoch    GPU_mem   box_loss   cls_loss   dfl_loss  Instances       Size\n"
     ]
    },
    {
     "name": "stderr",
     "output_type": "stream",
     "text": [
      "      43/50      5.62G      0.696     0.5878      1.346          6        640: 100%|██████████| 188/188 [00:32<00:00,  5.75it/s]\n",
      "                 Class     Images  Instances      Box(P          R      mAP50  mAP50-95): 100%|██████████| 10/10 [00:01<00:00,  8.83it/s]"
     ]
    },
    {
     "name": "stdout",
     "output_type": "stream",
     "text": [
      "                   all        150        152      0.868      0.808      0.878      0.683\n"
     ]
    },
    {
     "name": "stderr",
     "output_type": "stream",
     "text": [
      "\n"
     ]
    },
    {
     "name": "stdout",
     "output_type": "stream",
     "text": [
      "\n",
      "      Epoch    GPU_mem   box_loss   cls_loss   dfl_loss  Instances       Size\n"
     ]
    },
    {
     "name": "stderr",
     "output_type": "stream",
     "text": [
      "      44/50      5.62G     0.6779     0.5498       1.33          6        640: 100%|██████████| 188/188 [00:31<00:00,  5.97it/s]\n",
      "                 Class     Images  Instances      Box(P          R      mAP50  mAP50-95): 100%|██████████| 10/10 [00:01<00:00,  8.72it/s]"
     ]
    },
    {
     "name": "stdout",
     "output_type": "stream",
     "text": [
      "                   all        150        152      0.893      0.788      0.885      0.693\n"
     ]
    },
    {
     "name": "stderr",
     "output_type": "stream",
     "text": [
      "\n"
     ]
    },
    {
     "name": "stdout",
     "output_type": "stream",
     "text": [
      "\n",
      "      Epoch    GPU_mem   box_loss   cls_loss   dfl_loss  Instances       Size\n"
     ]
    },
    {
     "name": "stderr",
     "output_type": "stream",
     "text": [
      "      45/50      5.64G     0.6594     0.5429      1.319          7        640: 100%|██████████| 188/188 [00:32<00:00,  5.76it/s]\n",
      "                 Class     Images  Instances      Box(P          R      mAP50  mAP50-95): 100%|██████████| 10/10 [00:01<00:00,  8.58it/s]"
     ]
    },
    {
     "name": "stdout",
     "output_type": "stream",
     "text": [
      "                   all        150        152      0.885      0.795      0.894      0.692\n"
     ]
    },
    {
     "name": "stderr",
     "output_type": "stream",
     "text": [
      "\n"
     ]
    },
    {
     "name": "stdout",
     "output_type": "stream",
     "text": [
      "\n",
      "      Epoch    GPU_mem   box_loss   cls_loss   dfl_loss  Instances       Size\n"
     ]
    },
    {
     "name": "stderr",
     "output_type": "stream",
     "text": [
      "      46/50      5.65G     0.6444     0.5151      1.312          6        640: 100%|██████████| 188/188 [00:32<00:00,  5.77it/s]\n",
      "                 Class     Images  Instances      Box(P          R      mAP50  mAP50-95): 100%|██████████| 10/10 [00:01<00:00,  8.68it/s]"
     ]
    },
    {
     "name": "stdout",
     "output_type": "stream",
     "text": [
      "                   all        150        152      0.863      0.778      0.884      0.698\n"
     ]
    },
    {
     "name": "stderr",
     "output_type": "stream",
     "text": [
      "\n"
     ]
    },
    {
     "name": "stdout",
     "output_type": "stream",
     "text": [
      "\n",
      "      Epoch    GPU_mem   box_loss   cls_loss   dfl_loss  Instances       Size\n"
     ]
    },
    {
     "name": "stderr",
     "output_type": "stream",
     "text": [
      "      47/50      5.64G     0.6289     0.4958      1.279          9        640: 100%|██████████| 188/188 [00:32<00:00,  5.76it/s]\n",
      "                 Class     Images  Instances      Box(P          R      mAP50  mAP50-95): 100%|██████████| 10/10 [00:01<00:00,  8.62it/s]"
     ]
    },
    {
     "name": "stdout",
     "output_type": "stream",
     "text": [
      "                   all        150        152      0.877      0.739      0.873      0.682\n"
     ]
    },
    {
     "name": "stderr",
     "output_type": "stream",
     "text": [
      "\n"
     ]
    },
    {
     "name": "stdout",
     "output_type": "stream",
     "text": [
      "\n",
      "      Epoch    GPU_mem   box_loss   cls_loss   dfl_loss  Instances       Size\n"
     ]
    },
    {
     "name": "stderr",
     "output_type": "stream",
     "text": [
      "      48/50      5.62G     0.6176     0.4647      1.279          6        640: 100%|██████████| 188/188 [00:32<00:00,  5.80it/s]\n",
      "                 Class     Images  Instances      Box(P          R      mAP50  mAP50-95): 100%|██████████| 10/10 [00:01<00:00,  8.75it/s]"
     ]
    },
    {
     "name": "stdout",
     "output_type": "stream",
     "text": [
      "                   all        150        152      0.784      0.804      0.879      0.693\n"
     ]
    },
    {
     "name": "stderr",
     "output_type": "stream",
     "text": [
      "\n"
     ]
    },
    {
     "name": "stdout",
     "output_type": "stream",
     "text": [
      "\n",
      "      Epoch    GPU_mem   box_loss   cls_loss   dfl_loss  Instances       Size\n"
     ]
    },
    {
     "name": "stderr",
     "output_type": "stream",
     "text": [
      "      49/50      5.64G     0.6066     0.4698       1.26          6        640: 100%|██████████| 188/188 [00:32<00:00,  5.80it/s]\n",
      "                 Class     Images  Instances      Box(P          R      mAP50  mAP50-95): 100%|██████████| 10/10 [00:01<00:00,  8.72it/s]"
     ]
    },
    {
     "name": "stdout",
     "output_type": "stream",
     "text": [
      "                   all        150        152      0.864      0.799      0.887        0.7\n"
     ]
    },
    {
     "name": "stderr",
     "output_type": "stream",
     "text": [
      "\n"
     ]
    },
    {
     "name": "stdout",
     "output_type": "stream",
     "text": [
      "\n",
      "      Epoch    GPU_mem   box_loss   cls_loss   dfl_loss  Instances       Size\n"
     ]
    },
    {
     "name": "stderr",
     "output_type": "stream",
     "text": [
      "      50/50      5.64G     0.5819     0.4383      1.234          6        640: 100%|██████████| 188/188 [00:32<00:00,  5.80it/s]\n",
      "                 Class     Images  Instances      Box(P          R      mAP50  mAP50-95): 100%|██████████| 10/10 [00:01<00:00,  8.65it/s]"
     ]
    },
    {
     "name": "stdout",
     "output_type": "stream",
     "text": [
      "                   all        150        152      0.894      0.728      0.894      0.709\n"
     ]
    },
    {
     "name": "stderr",
     "output_type": "stream",
     "text": [
      "\n"
     ]
    },
    {
     "name": "stdout",
     "output_type": "stream",
     "text": [
      "\n",
      "50 epochs completed in 0.550 hours.\n",
      "Optimizer stripped from runs/detect/train29/weights/last.pt, 87.7MB\n",
      "Optimizer stripped from runs/detect/train29/weights/best.pt, 87.7MB\n",
      "\n",
      "Validating runs/detect/train29/weights/best.pt...\n",
      "Ultralytics YOLOv8.1.17 🚀 Python-3.8.10 torch-1.10.0+cu113 CUDA:1 (NVIDIA RTX A5000, 24256MiB)\n",
      "Model summary (fused): 268 layers, 43608150 parameters, 0 gradients, 164.8 GFLOPs\n"
     ]
    },
    {
     "name": "stderr",
     "output_type": "stream",
     "text": [
      "                 Class     Images  Instances      Box(P          R      mAP50  mAP50-95): 100%|██████████| 10/10 [00:04<00:00,  2.43it/s]\n"
     ]
    },
    {
     "name": "stdout",
     "output_type": "stream",
     "text": [
      "                   all        150        152      0.894      0.728      0.894       0.71\n",
      "             Tow_Truck        150         95      0.882      0.789       0.92      0.732\n",
      "Tow_Truck_with_vehicle        150         57      0.905      0.667      0.868      0.689\n",
      "WARNING ⚠️ ConfusionMatrix plot failure: module 'numpy' has no attribute 'typeDict'\n",
      "WARNING ⚠️ ConfusionMatrix plot failure: module 'numpy' has no attribute 'typeDict'\n",
      "Speed: 0.9ms preprocess, 6.4ms inference, 0.0ms loss, 2.8ms postprocess per image\n",
      "Results saved to \u001b[1mruns/detect/train29\u001b[0m\n",
      "Ultralytics YOLOv8.1.17 🚀 Python-3.8.10 torch-1.10.0+cu113 CUDA:1 (NVIDIA RTX A5000, 24256MiB)\n",
      "Model summary (fused): 268 layers, 43608150 parameters, 0 gradients, 164.8 GFLOPs\n",
      "\n",
      "\u001b[34m\u001b[1mPyTorch:\u001b[0m starting from 'runs/detect/train29/weights/best.pt' with input shape (1, 3, 640, 640) BCHW and output shape(s) (1, 6, 8400) (83.6 MB)\n",
      "\n",
      "\u001b[34m\u001b[1mTorchScript:\u001b[0m starting export with torch 1.10.0+cu113...\n",
      "\u001b[34m\u001b[1mTorchScript:\u001b[0m export success ✅ 1.7s, saved as 'runs/detect/train29/weights/best.torchscript' (166.9 MB)\n",
      "\n",
      "Export complete (2.3s)\n",
      "Results saved to \u001b[1m/LAB/runs/detect/train29/weights\u001b[0m\n",
      "Predict:         yolo predict task=detect model=runs/detect/train29/weights/best.torchscript imgsz=640  \n",
      "Validate:        yolo val task=detect model=runs/detect/train29/weights/best.torchscript imgsz=640 data=config.yaml  \n",
      "Visualize:       https://netron.app\n"
     ]
    }
   ],
   "source": [
    "import os\n",
    "\n",
    "from ultralytics import YOLO\n",
    "\n",
    "model = YOLO('yolov8l.pt')  # load a pretrained model (recommended for training)\n",
    "results = model.train(data='config.yaml', epochs=50 , batch=8 , save=True, device=1)\n",
    "ts = model.export(format='torchscript')"
   ]
  },
  {
   "cell_type": "code",
   "execution_count": 3,
   "id": "e0773f53",
   "metadata": {},
   "outputs": [
    {
     "name": "stdout",
     "output_type": "stream",
     "text": [
      "WARNING ⚠️ Unable to automatically guess model task, assuming 'task=detect'. Explicitly define task for your model, i.e. 'task=detect', 'segment', 'classify','pose' or 'obb'.\n",
      "Loading Yolov8s.torchscript for TorchScript inference...\n",
      "\n",
      "\n",
      "WARNING ⚠️ inference results will accumulate in RAM unless `stream=True` is passed, causing potential out-of-memory\n",
      "errors for large sources or long-running streams and videos. See https://docs.ultralytics.com/modes/predict/ for help.\n",
      "\n",
      "Example:\n",
      "    results = model(source=..., stream=True)  # generator of Results objects\n",
      "    for r in results:\n",
      "        boxes = r.boxes  # Boxes object for bbox outputs\n",
      "        masks = r.masks  # Masks object for segment masks outputs\n",
      "        probs = r.probs  # Class probabilities for classification outputs\n",
      "\n",
      "video 1/1 (1/1231) /LAB/test3.mp4: 640x640 1 Tow_Truck_with_vehicle, 11.9ms\n",
      "video 1/1 (2/1231) /LAB/test3.mp4: 640x640 1 Tow_Truck_with_vehicle, 6.6ms\n",
      "video 1/1 (3/1231) /LAB/test3.mp4: 640x640 1 Tow_Truck_with_vehicle, 6.7ms\n",
      "video 1/1 (4/1231) /LAB/test3.mp4: 640x640 2 Tow_Truck_with_vehicles, 6.4ms\n",
      "video 1/1 (5/1231) /LAB/test3.mp4: 640x640 2 Tow_Truck_with_vehicles, 6.3ms\n",
      "video 1/1 (6/1231) /LAB/test3.mp4: 640x640 2 Tow_Truck_with_vehicles, 6.3ms\n",
      "video 1/1 (7/1231) /LAB/test3.mp4: 640x640 1 Tow_Truck_with_vehicle, 6.3ms\n",
      "video 1/1 (8/1231) /LAB/test3.mp4: 640x640 1 Tow_Truck_with_vehicle, 6.3ms\n",
      "video 1/1 (9/1231) /LAB/test3.mp4: 640x640 2 Tow_Truck_with_vehicles, 6.3ms\n",
      "video 1/1 (10/1231) /LAB/test3.mp4: 640x640 2 Tow_Truck_with_vehicles, 6.2ms\n",
      "video 1/1 (11/1231) /LAB/test3.mp4: 640x640 1 Tow_Truck_with_vehicle, 6.2ms\n",
      "video 1/1 (12/1231) /LAB/test3.mp4: 640x640 1 Tow_Truck_with_vehicle, 6.4ms\n",
      "video 1/1 (13/1231) /LAB/test3.mp4: 640x640 1 Tow_Truck_with_vehicle, 6.3ms\n",
      "video 1/1 (14/1231) /LAB/test3.mp4: 640x640 1 Tow_Truck_with_vehicle, 6.2ms\n",
      "video 1/1 (15/1231) /LAB/test3.mp4: 640x640 1 Tow_Truck_with_vehicle, 6.4ms\n",
      "video 1/1 (16/1231) /LAB/test3.mp4: 640x640 2 Tow_Truck_with_vehicles, 6.2ms\n",
      "video 1/1 (17/1231) /LAB/test3.mp4: 640x640 2 Tow_Truck_with_vehicles, 6.3ms\n",
      "video 1/1 (18/1231) /LAB/test3.mp4: 640x640 1 Tow_Truck_with_vehicle, 6.2ms\n",
      "video 1/1 (19/1231) /LAB/test3.mp4: 640x640 (no detections), 6.4ms\n",
      "video 1/1 (20/1231) /LAB/test3.mp4: 640x640 1 Tow_Truck_with_vehicle, 6.2ms\n",
      "video 1/1 (21/1231) /LAB/test3.mp4: 640x640 1 Tow_Truck_with_vehicle, 6.2ms\n",
      "video 1/1 (22/1231) /LAB/test3.mp4: 640x640 1 Tow_Truck_with_vehicle, 6.2ms\n",
      "video 1/1 (23/1231) /LAB/test3.mp4: 640x640 2 Tow_Truck_with_vehicles, 6.2ms\n",
      "video 1/1 (24/1231) /LAB/test3.mp4: 640x640 2 Tow_Truck_with_vehicles, 6.3ms\n",
      "video 1/1 (25/1231) /LAB/test3.mp4: 640x640 2 Tow_Truck_with_vehicles, 6.4ms\n",
      "video 1/1 (26/1231) /LAB/test3.mp4: 640x640 2 Tow_Truck_with_vehicles, 6.1ms\n",
      "video 1/1 (27/1231) /LAB/test3.mp4: 640x640 2 Tow_Truck_with_vehicles, 6.3ms\n",
      "video 1/1 (28/1231) /LAB/test3.mp4: 640x640 2 Tow_Truck_with_vehicles, 6.4ms\n",
      "video 1/1 (29/1231) /LAB/test3.mp4: 640x640 1 Tow_Truck_with_vehicle, 6.4ms\n",
      "video 1/1 (30/1231) /LAB/test3.mp4: 640x640 1 Tow_Truck_with_vehicle, 6.2ms\n",
      "video 1/1 (31/1231) /LAB/test3.mp4: 640x640 1 Tow_Truck_with_vehicle, 6.2ms\n",
      "video 1/1 (32/1231) /LAB/test3.mp4: 640x640 1 Tow_Truck_with_vehicle, 6.2ms\n",
      "video 1/1 (33/1231) /LAB/test3.mp4: 640x640 2 Tow_Truck_with_vehicles, 6.3ms\n",
      "video 1/1 (34/1231) /LAB/test3.mp4: 640x640 2 Tow_Truck_with_vehicles, 6.3ms\n",
      "video 1/1 (35/1231) /LAB/test3.mp4: 640x640 1 Tow_Truck_with_vehicle, 6.3ms\n",
      "video 1/1 (36/1231) /LAB/test3.mp4: 640x640 1 Tow_Truck_with_vehicle, 6.3ms\n",
      "video 1/1 (37/1231) /LAB/test3.mp4: 640x640 1 Tow_Truck_with_vehicle, 6.3ms\n",
      "video 1/1 (38/1231) /LAB/test3.mp4: 640x640 1 Tow_Truck_with_vehicle, 6.2ms\n",
      "video 1/1 (39/1231) /LAB/test3.mp4: 640x640 1 Tow_Truck_with_vehicle, 6.6ms\n",
      "video 1/1 (40/1231) /LAB/test3.mp4: 640x640 (no detections), 6.2ms\n",
      "video 1/1 (41/1231) /LAB/test3.mp4: 640x640 (no detections), 6.4ms\n",
      "video 1/1 (42/1231) /LAB/test3.mp4: 640x640 (no detections), 6.3ms\n",
      "video 1/1 (43/1231) /LAB/test3.mp4: 640x640 (no detections), 7.2ms\n",
      "video 1/1 (44/1231) /LAB/test3.mp4: 640x640 (no detections), 6.2ms\n",
      "video 1/1 (45/1231) /LAB/test3.mp4: 640x640 1 Tow_Truck_with_vehicle, 6.3ms\n",
      "video 1/1 (46/1231) /LAB/test3.mp4: 640x640 1 Tow_Truck_with_vehicle, 6.3ms\n",
      "video 1/1 (47/1231) /LAB/test3.mp4: 640x640 1 Tow_Truck_with_vehicle, 6.2ms\n",
      "video 1/1 (48/1231) /LAB/test3.mp4: 640x640 2 Tow_Truck_with_vehicles, 6.2ms\n",
      "video 1/1 (49/1231) /LAB/test3.mp4: 640x640 1 Tow_Truck_with_vehicle, 6.3ms\n",
      "video 1/1 (50/1231) /LAB/test3.mp4: 640x640 2 Tow_Truck_with_vehicles, 6.3ms\n",
      "video 1/1 (51/1231) /LAB/test3.mp4: 640x640 2 Tow_Truck_with_vehicles, 6.2ms\n",
      "video 1/1 (52/1231) /LAB/test3.mp4: 640x640 2 Tow_Truck_with_vehicles, 7.1ms\n",
      "video 1/1 (53/1231) /LAB/test3.mp4: 640x640 (no detections), 6.2ms\n",
      "video 1/1 (54/1231) /LAB/test3.mp4: 640x640 1 Tow_Truck_with_vehicle, 6.2ms\n",
      "video 1/1 (55/1231) /LAB/test3.mp4: 640x640 1 Tow_Truck_with_vehicle, 6.3ms\n",
      "video 1/1 (56/1231) /LAB/test3.mp4: 640x640 1 Tow_Truck_with_vehicle, 6.3ms\n",
      "video 1/1 (57/1231) /LAB/test3.mp4: 640x640 1 Tow_Truck_with_vehicle, 6.2ms\n",
      "video 1/1 (58/1231) /LAB/test3.mp4: 640x640 1 Tow_Truck_with_vehicle, 6.3ms\n",
      "video 1/1 (59/1231) /LAB/test3.mp4: 640x640 (no detections), 6.3ms\n",
      "video 1/1 (60/1231) /LAB/test3.mp4: 640x640 (no detections), 6.4ms\n",
      "video 1/1 (61/1231) /LAB/test3.mp4: 640x640 (no detections), 6.4ms\n",
      "video 1/1 (62/1231) /LAB/test3.mp4: 640x640 (no detections), 6.3ms\n",
      "video 1/1 (63/1231) /LAB/test3.mp4: 640x640 (no detections), 6.1ms\n",
      "video 1/1 (64/1231) /LAB/test3.mp4: 640x640 (no detections), 6.4ms\n",
      "video 1/1 (65/1231) /LAB/test3.mp4: 640x640 (no detections), 6.3ms\n",
      "video 1/1 (66/1231) /LAB/test3.mp4: 640x640 1 Tow_Truck_with_vehicle, 6.4ms\n",
      "video 1/1 (67/1231) /LAB/test3.mp4: 640x640 1 Tow_Truck_with_vehicle, 6.3ms\n",
      "video 1/1 (68/1231) /LAB/test3.mp4: 640x640 1 Tow_Truck_with_vehicle, 6.3ms\n",
      "video 1/1 (69/1231) /LAB/test3.mp4: 640x640 1 Tow_Truck_with_vehicle, 6.4ms\n",
      "video 1/1 (70/1231) /LAB/test3.mp4: 640x640 1 Tow_Truck_with_vehicle, 7.2ms\n",
      "video 1/1 (71/1231) /LAB/test3.mp4: 640x640 1 Tow_Truck_with_vehicle, 6.2ms\n",
      "video 1/1 (72/1231) /LAB/test3.mp4: 640x640 (no detections), 6.2ms\n",
      "video 1/1 (73/1231) /LAB/test3.mp4: 640x640 (no detections), 6.2ms\n",
      "video 1/1 (74/1231) /LAB/test3.mp4: 640x640 (no detections), 6.4ms\n",
      "video 1/1 (75/1231) /LAB/test3.mp4: 640x640 (no detections), 6.2ms\n",
      "video 1/1 (76/1231) /LAB/test3.mp4: 640x640 (no detections), 6.2ms\n",
      "video 1/1 (77/1231) /LAB/test3.mp4: 640x640 (no detections), 6.4ms\n",
      "video 1/1 (78/1231) /LAB/test3.mp4: 640x640 (no detections), 6.3ms\n",
      "video 1/1 (79/1231) /LAB/test3.mp4: 640x640 (no detections), 6.3ms\n",
      "video 1/1 (80/1231) /LAB/test3.mp4: 640x640 (no detections), 6.5ms\n",
      "video 1/1 (81/1231) /LAB/test3.mp4: 640x640 (no detections), 6.2ms\n",
      "video 1/1 (82/1231) /LAB/test3.mp4: 640x640 (no detections), 6.2ms\n",
      "video 1/1 (83/1231) /LAB/test3.mp4: 640x640 (no detections), 6.3ms\n",
      "video 1/1 (84/1231) /LAB/test3.mp4: 640x640 1 Tow_Truck_with_vehicle, 6.2ms\n",
      "video 1/1 (85/1231) /LAB/test3.mp4: 640x640 1 Tow_Truck_with_vehicle, 6.3ms\n",
      "video 1/1 (86/1231) /LAB/test3.mp4: 640x640 1 Tow_Truck_with_vehicle, 6.3ms\n",
      "video 1/1 (87/1231) /LAB/test3.mp4: 640x640 1 Tow_Truck_with_vehicle, 6.3ms\n",
      "video 1/1 (88/1231) /LAB/test3.mp4: 640x640 1 Tow_Truck_with_vehicle, 6.4ms\n",
      "video 1/1 (89/1231) /LAB/test3.mp4: 640x640 (no detections), 6.4ms\n",
      "video 1/1 (90/1231) /LAB/test3.mp4: 640x640 (no detections), 6.4ms\n",
      "video 1/1 (91/1231) /LAB/test3.mp4: 640x640 (no detections), 6.4ms\n",
      "video 1/1 (92/1231) /LAB/test3.mp4: 640x640 (no detections), 6.1ms\n",
      "video 1/1 (93/1231) /LAB/test3.mp4: 640x640 (no detections), 6.3ms\n",
      "video 1/1 (94/1231) /LAB/test3.mp4: 640x640 (no detections), 6.3ms\n",
      "video 1/1 (95/1231) /LAB/test3.mp4: 640x640 1 Tow_Truck_with_vehicle, 6.4ms\n",
      "video 1/1 (96/1231) /LAB/test3.mp4: 640x640 1 Tow_Truck_with_vehicle, 6.2ms\n",
      "video 1/1 (97/1231) /LAB/test3.mp4: 640x640 1 Tow_Truck_with_vehicle, 6.3ms\n",
      "video 1/1 (98/1231) /LAB/test3.mp4: 640x640 1 Tow_Truck_with_vehicle, 7.2ms\n",
      "video 1/1 (99/1231) /LAB/test3.mp4: 640x640 1 Tow_Truck_with_vehicle, 6.4ms\n",
      "video 1/1 (100/1231) /LAB/test3.mp4: 640x640 1 Tow_Truck_with_vehicle, 6.3ms\n",
      "video 1/1 (101/1231) /LAB/test3.mp4: 640x640 1 Tow_Truck, 1 Tow_Truck_with_vehicle, 6.3ms\n",
      "video 1/1 (102/1231) /LAB/test3.mp4: 640x640 1 Tow_Truck_with_vehicle, 6.3ms\n",
      "video 1/1 (103/1231) /LAB/test3.mp4: 640x640 1 Tow_Truck_with_vehicle, 6.3ms\n",
      "video 1/1 (104/1231) /LAB/test3.mp4: 640x640 1 Tow_Truck, 1 Tow_Truck_with_vehicle, 6.2ms\n",
      "video 1/1 (105/1231) /LAB/test3.mp4: 640x640 1 Tow_Truck_with_vehicle, 6.2ms\n",
      "video 1/1 (106/1231) /LAB/test3.mp4: 640x640 (no detections), 6.3ms\n",
      "video 1/1 (107/1231) /LAB/test3.mp4: 640x640 (no detections), 6.4ms\n",
      "video 1/1 (108/1231) /LAB/test3.mp4: 640x640 (no detections), 6.2ms\n",
      "video 1/1 (109/1231) /LAB/test3.mp4: 640x640 (no detections), 6.3ms\n",
      "video 1/1 (110/1231) /LAB/test3.mp4: 640x640 1 Tow_Truck_with_vehicle, 6.6ms\n",
      "video 1/1 (111/1231) /LAB/test3.mp4: 640x640 1 Tow_Truck_with_vehicle, 6.3ms\n",
      "video 1/1 (112/1231) /LAB/test3.mp4: 640x640 1 Tow_Truck_with_vehicle, 6.3ms\n",
      "video 1/1 (113/1231) /LAB/test3.mp4: 640x640 1 Tow_Truck_with_vehicle, 6.3ms\n",
      "video 1/1 (114/1231) /LAB/test3.mp4: 640x640 (no detections), 6.3ms\n",
      "video 1/1 (115/1231) /LAB/test3.mp4: 640x640 1 Tow_Truck_with_vehicle, 6.5ms\n",
      "video 1/1 (116/1231) /LAB/test3.mp4: 640x640 1 Tow_Truck_with_vehicle, 6.2ms\n",
      "video 1/1 (117/1231) /LAB/test3.mp4: 640x640 (no detections), 6.3ms\n",
      "video 1/1 (118/1231) /LAB/test3.mp4: 640x640 (no detections), 6.1ms\n",
      "video 1/1 (119/1231) /LAB/test3.mp4: 640x640 1 Tow_Truck, 6.3ms\n",
      "video 1/1 (120/1231) /LAB/test3.mp4: 640x640 1 Tow_Truck, 1 Tow_Truck_with_vehicle, 6.2ms\n",
      "video 1/1 (121/1231) /LAB/test3.mp4: 640x640 1 Tow_Truck, 1 Tow_Truck_with_vehicle, 6.3ms\n",
      "video 1/1 (122/1231) /LAB/test3.mp4: 640x640 1 Tow_Truck, 2 Tow_Truck_with_vehicles, 6.2ms\n",
      "video 1/1 (123/1231) /LAB/test3.mp4: 640x640 1 Tow_Truck, 2 Tow_Truck_with_vehicles, 6.3ms\n",
      "video 1/1 (124/1231) /LAB/test3.mp4: 640x640 1 Tow_Truck, 1 Tow_Truck_with_vehicle, 6.2ms\n",
      "video 1/1 (125/1231) /LAB/test3.mp4: 640x640 1 Tow_Truck, 1 Tow_Truck_with_vehicle, 6.3ms\n",
      "video 1/1 (126/1231) /LAB/test3.mp4: 640x640 1 Tow_Truck, 2 Tow_Truck_with_vehicles, 6.2ms\n",
      "video 1/1 (127/1231) /LAB/test3.mp4: 640x640 1 Tow_Truck, 2 Tow_Truck_with_vehicles, 6.4ms\n",
      "video 1/1 (128/1231) /LAB/test3.mp4: 640x640 1 Tow_Truck, 2 Tow_Truck_with_vehicles, 6.5ms\n",
      "video 1/1 (129/1231) /LAB/test3.mp4: 640x640 1 Tow_Truck, 1 Tow_Truck_with_vehicle, 6.2ms\n",
      "video 1/1 (130/1231) /LAB/test3.mp4: 640x640 1 Tow_Truck, 1 Tow_Truck_with_vehicle, 6.4ms\n",
      "video 1/1 (131/1231) /LAB/test3.mp4: 640x640 1 Tow_Truck, 6.3ms\n",
      "video 1/1 (132/1231) /LAB/test3.mp4: 640x640 1 Tow_Truck, 6.2ms\n",
      "video 1/1 (133/1231) /LAB/test3.mp4: 640x640 1 Tow_Truck, 1 Tow_Truck_with_vehicle, 6.2ms\n",
      "video 1/1 (134/1231) /LAB/test3.mp4: 640x640 1 Tow_Truck, 1 Tow_Truck_with_vehicle, 6.2ms\n",
      "video 1/1 (135/1231) /LAB/test3.mp4: 640x640 1 Tow_Truck, 1 Tow_Truck_with_vehicle, 6.3ms\n",
      "video 1/1 (136/1231) /LAB/test3.mp4: 640x640 1 Tow_Truck, 1 Tow_Truck_with_vehicle, 6.2ms\n",
      "video 1/1 (137/1231) /LAB/test3.mp4: 640x640 1 Tow_Truck, 1 Tow_Truck_with_vehicle, 6.4ms\n",
      "video 1/1 (138/1231) /LAB/test3.mp4: 640x640 1 Tow_Truck, 1 Tow_Truck_with_vehicle, 6.4ms\n",
      "video 1/1 (139/1231) /LAB/test3.mp4: 640x640 1 Tow_Truck, 1 Tow_Truck_with_vehicle, 6.4ms\n",
      "video 1/1 (140/1231) /LAB/test3.mp4: 640x640 1 Tow_Truck, 1 Tow_Truck_with_vehicle, 6.7ms\n",
      "video 1/1 (141/1231) /LAB/test3.mp4: 640x640 1 Tow_Truck, 1 Tow_Truck_with_vehicle, 6.2ms\n",
      "video 1/1 (142/1231) /LAB/test3.mp4: 640x640 1 Tow_Truck, 1 Tow_Truck_with_vehicle, 6.4ms\n",
      "video 1/1 (143/1231) /LAB/test3.mp4: 640x640 1 Tow_Truck, 2 Tow_Truck_with_vehicles, 6.2ms\n",
      "video 1/1 (144/1231) /LAB/test3.mp4: 640x640 2 Tow_Trucks, 6.3ms\n",
      "video 1/1 (145/1231) /LAB/test3.mp4: 640x640 2 Tow_Trucks, 1 Tow_Truck_with_vehicle, 6.2ms\n",
      "video 1/1 (146/1231) /LAB/test3.mp4: 640x640 1 Tow_Truck, 2 Tow_Truck_with_vehicles, 6.3ms\n",
      "video 1/1 (147/1231) /LAB/test3.mp4: 640x640 1 Tow_Truck, 2 Tow_Truck_with_vehicles, 6.1ms\n",
      "video 1/1 (148/1231) /LAB/test3.mp4: 640x640 1 Tow_Truck, 1 Tow_Truck_with_vehicle, 6.2ms\n",
      "video 1/1 (149/1231) /LAB/test3.mp4: 640x640 2 Tow_Trucks, 6.2ms\n",
      "video 1/1 (150/1231) /LAB/test3.mp4: 640x640 2 Tow_Trucks, 6.2ms\n",
      "video 1/1 (151/1231) /LAB/test3.mp4: 640x640 2 Tow_Trucks, 6.3ms\n",
      "video 1/1 (152/1231) /LAB/test3.mp4: 640x640 2 Tow_Trucks, 6.2ms\n",
      "video 1/1 (153/1231) /LAB/test3.mp4: 640x640 3 Tow_Trucks, 1 Tow_Truck_with_vehicle, 6.3ms\n",
      "video 1/1 (154/1231) /LAB/test3.mp4: 640x640 3 Tow_Trucks, 6.3ms\n",
      "video 1/1 (155/1231) /LAB/test3.mp4: 640x640 3 Tow_Trucks, 6.2ms\n",
      "video 1/1 (156/1231) /LAB/test3.mp4: 640x640 3 Tow_Trucks, 6.2ms\n",
      "video 1/1 (157/1231) /LAB/test3.mp4: 640x640 3 Tow_Trucks, 6.3ms\n",
      "video 1/1 (158/1231) /LAB/test3.mp4: 640x640 3 Tow_Trucks, 6.3ms\n",
      "video 1/1 (159/1231) /LAB/test3.mp4: 640x640 2 Tow_Trucks, 6.4ms\n",
      "video 1/1 (160/1231) /LAB/test3.mp4: 640x640 2 Tow_Trucks, 1 Tow_Truck_with_vehicle, 6.3ms\n",
      "video 1/1 (161/1231) /LAB/test3.mp4: 640x640 2 Tow_Trucks, 1 Tow_Truck_with_vehicle, 6.1ms\n",
      "video 1/1 (162/1231) /LAB/test3.mp4: 640x640 2 Tow_Trucks, 1 Tow_Truck_with_vehicle, 6.3ms\n",
      "video 1/1 (163/1231) /LAB/test3.mp4: 640x640 1 Tow_Truck, 1 Tow_Truck_with_vehicle, 6.2ms\n",
      "video 1/1 (164/1231) /LAB/test3.mp4: 640x640 1 Tow_Truck, 1 Tow_Truck_with_vehicle, 6.4ms\n",
      "video 1/1 (165/1231) /LAB/test3.mp4: 640x640 1 Tow_Truck, 1 Tow_Truck_with_vehicle, 6.3ms\n",
      "video 1/1 (166/1231) /LAB/test3.mp4: 640x640 1 Tow_Truck, 1 Tow_Truck_with_vehicle, 6.3ms\n",
      "video 1/1 (167/1231) /LAB/test3.mp4: 640x640 1 Tow_Truck, 1 Tow_Truck_with_vehicle, 6.2ms\n",
      "video 1/1 (168/1231) /LAB/test3.mp4: 640x640 1 Tow_Truck, 1 Tow_Truck_with_vehicle, 6.4ms\n",
      "video 1/1 (169/1231) /LAB/test3.mp4: 640x640 1 Tow_Truck, 1 Tow_Truck_with_vehicle, 6.2ms\n",
      "video 1/1 (170/1231) /LAB/test3.mp4: 640x640 1 Tow_Truck, 1 Tow_Truck_with_vehicle, 6.2ms\n",
      "video 1/1 (171/1231) /LAB/test3.mp4: 640x640 1 Tow_Truck_with_vehicle, 7.1ms\n",
      "video 1/1 (172/1231) /LAB/test3.mp4: 640x640 1 Tow_Truck_with_vehicle, 6.2ms\n",
      "video 1/1 (173/1231) /LAB/test3.mp4: 640x640 1 Tow_Truck, 1 Tow_Truck_with_vehicle, 6.2ms\n",
      "video 1/1 (174/1231) /LAB/test3.mp4: 640x640 2 Tow_Trucks, 6.2ms\n",
      "video 1/1 (175/1231) /LAB/test3.mp4: 640x640 2 Tow_Trucks, 2 Tow_Truck_with_vehicles, 6.4ms\n",
      "video 1/1 (176/1231) /LAB/test3.mp4: 640x640 1 Tow_Truck, 2 Tow_Truck_with_vehicles, 6.4ms\n",
      "video 1/1 (177/1231) /LAB/test3.mp4: 640x640 1 Tow_Truck, 2 Tow_Truck_with_vehicles, 6.3ms\n",
      "video 1/1 (178/1231) /LAB/test3.mp4: 640x640 1 Tow_Truck, 1 Tow_Truck_with_vehicle, 6.3ms\n",
      "video 1/1 (179/1231) /LAB/test3.mp4: 640x640 1 Tow_Truck, 6.4ms\n",
      "video 1/1 (180/1231) /LAB/test3.mp4: 640x640 1 Tow_Truck, 6.3ms\n",
      "video 1/1 (181/1231) /LAB/test3.mp4: 640x640 1 Tow_Truck, 6.4ms\n",
      "video 1/1 (182/1231) /LAB/test3.mp4: 640x640 1 Tow_Truck, 6.2ms\n",
      "video 1/1 (183/1231) /LAB/test3.mp4: 640x640 2 Tow_Truck_with_vehicles, 6.2ms\n",
      "video 1/1 (184/1231) /LAB/test3.mp4: 640x640 1 Tow_Truck, 6.3ms\n",
      "video 1/1 (185/1231) /LAB/test3.mp4: 640x640 1 Tow_Truck, 2 Tow_Truck_with_vehicles, 6.3ms\n",
      "video 1/1 (186/1231) /LAB/test3.mp4: 640x640 1 Tow_Truck, 2 Tow_Truck_with_vehicles, 6.2ms\n",
      "video 1/1 (187/1231) /LAB/test3.mp4: 640x640 1 Tow_Truck, 2 Tow_Truck_with_vehicles, 6.2ms\n",
      "video 1/1 (188/1231) /LAB/test3.mp4: 640x640 2 Tow_Trucks, 1 Tow_Truck_with_vehicle, 7.3ms\n",
      "video 1/1 (189/1231) /LAB/test3.mp4: 640x640 1 Tow_Truck, 2 Tow_Truck_with_vehicles, 6.3ms\n",
      "video 1/1 (190/1231) /LAB/test3.mp4: 640x640 1 Tow_Truck, 2 Tow_Truck_with_vehicles, 6.3ms\n",
      "video 1/1 (191/1231) /LAB/test3.mp4: 640x640 1 Tow_Truck, 2 Tow_Truck_with_vehicles, 6.2ms\n",
      "video 1/1 (192/1231) /LAB/test3.mp4: 640x640 2 Tow_Truck_with_vehicles, 6.2ms\n",
      "video 1/1 (193/1231) /LAB/test3.mp4: 640x640 1 Tow_Truck, 2 Tow_Truck_with_vehicles, 6.1ms\n",
      "video 1/1 (194/1231) /LAB/test3.mp4: 640x640 2 Tow_Truck_with_vehicles, 6.5ms\n",
      "video 1/1 (195/1231) /LAB/test3.mp4: 640x640 2 Tow_Truck_with_vehicles, 6.2ms\n",
      "video 1/1 (196/1231) /LAB/test3.mp4: 640x640 2 Tow_Trucks, 1 Tow_Truck_with_vehicle, 6.3ms\n",
      "video 1/1 (197/1231) /LAB/test3.mp4: 640x640 2 Tow_Trucks, 1 Tow_Truck_with_vehicle, 6.5ms\n",
      "video 1/1 (198/1231) /LAB/test3.mp4: 640x640 2 Tow_Trucks, 1 Tow_Truck_with_vehicle, 6.2ms\n",
      "video 1/1 (199/1231) /LAB/test3.mp4: 640x640 2 Tow_Trucks, 1 Tow_Truck_with_vehicle, 6.6ms\n",
      "video 1/1 (200/1231) /LAB/test3.mp4: 640x640 1 Tow_Truck, 1 Tow_Truck_with_vehicle, 6.3ms\n",
      "video 1/1 (201/1231) /LAB/test3.mp4: 640x640 1 Tow_Truck, 1 Tow_Truck_with_vehicle, 6.2ms\n",
      "video 1/1 (202/1231) /LAB/test3.mp4: 640x640 1 Tow_Truck, 1 Tow_Truck_with_vehicle, 6.2ms\n",
      "video 1/1 (203/1231) /LAB/test3.mp4: 640x640 2 Tow_Trucks, 1 Tow_Truck_with_vehicle, 6.3ms\n",
      "video 1/1 (204/1231) /LAB/test3.mp4: 640x640 1 Tow_Truck, 1 Tow_Truck_with_vehicle, 6.3ms\n",
      "video 1/1 (205/1231) /LAB/test3.mp4: 640x640 1 Tow_Truck, 1 Tow_Truck_with_vehicle, 6.3ms\n",
      "video 1/1 (206/1231) /LAB/test3.mp4: 640x640 1 Tow_Truck, 1 Tow_Truck_with_vehicle, 6.2ms\n",
      "video 1/1 (207/1231) /LAB/test3.mp4: 640x640 1 Tow_Truck, 1 Tow_Truck_with_vehicle, 6.2ms\n",
      "video 1/1 (208/1231) /LAB/test3.mp4: 640x640 1 Tow_Truck, 1 Tow_Truck_with_vehicle, 6.4ms\n",
      "video 1/1 (209/1231) /LAB/test3.mp4: 640x640 1 Tow_Truck, 1 Tow_Truck_with_vehicle, 6.1ms\n",
      "video 1/1 (210/1231) /LAB/test3.mp4: 640x640 1 Tow_Truck, 1 Tow_Truck_with_vehicle, 6.3ms\n",
      "video 1/1 (211/1231) /LAB/test3.mp4: 640x640 1 Tow_Truck, 2 Tow_Truck_with_vehicles, 6.2ms\n",
      "video 1/1 (212/1231) /LAB/test3.mp4: 640x640 1 Tow_Truck, 1 Tow_Truck_with_vehicle, 6.3ms\n",
      "video 1/1 (213/1231) /LAB/test3.mp4: 640x640 1 Tow_Truck, 1 Tow_Truck_with_vehicle, 6.2ms\n",
      "video 1/1 (214/1231) /LAB/test3.mp4: 640x640 1 Tow_Truck, 2 Tow_Truck_with_vehicles, 6.3ms\n",
      "video 1/1 (215/1231) /LAB/test3.mp4: 640x640 1 Tow_Truck, 2 Tow_Truck_with_vehicles, 6.2ms\n",
      "video 1/1 (216/1231) /LAB/test3.mp4: 640x640 1 Tow_Truck, 1 Tow_Truck_with_vehicle, 6.2ms\n",
      "video 1/1 (217/1231) /LAB/test3.mp4: 640x640 1 Tow_Truck, 1 Tow_Truck_with_vehicle, 6.2ms\n",
      "video 1/1 (218/1231) /LAB/test3.mp4: 640x640 1 Tow_Truck, 2 Tow_Truck_with_vehicles, 6.3ms\n",
      "video 1/1 (219/1231) /LAB/test3.mp4: 640x640 1 Tow_Truck, 1 Tow_Truck_with_vehicle, 6.2ms\n",
      "video 1/1 (220/1231) /LAB/test3.mp4: 640x640 1 Tow_Truck, 1 Tow_Truck_with_vehicle, 6.3ms\n",
      "video 1/1 (221/1231) /LAB/test3.mp4: 640x640 2 Tow_Trucks, 1 Tow_Truck_with_vehicle, 6.2ms\n",
      "video 1/1 (222/1231) /LAB/test3.mp4: 640x640 2 Tow_Trucks, 1 Tow_Truck_with_vehicle, 6.3ms\n",
      "video 1/1 (223/1231) /LAB/test3.mp4: 640x640 2 Tow_Trucks, 1 Tow_Truck_with_vehicle, 6.4ms\n",
      "video 1/1 (224/1231) /LAB/test3.mp4: 640x640 2 Tow_Trucks, 6.3ms\n",
      "video 1/1 (225/1231) /LAB/test3.mp4: 640x640 2 Tow_Trucks, 1 Tow_Truck_with_vehicle, 6.2ms\n",
      "video 1/1 (226/1231) /LAB/test3.mp4: 640x640 2 Tow_Trucks, 1 Tow_Truck_with_vehicle, 6.4ms\n",
      "video 1/1 (227/1231) /LAB/test3.mp4: 640x640 2 Tow_Trucks, 1 Tow_Truck_with_vehicle, 6.2ms\n",
      "video 1/1 (228/1231) /LAB/test3.mp4: 640x640 1 Tow_Truck, 1 Tow_Truck_with_vehicle, 6.2ms\n",
      "video 1/1 (229/1231) /LAB/test3.mp4: 640x640 1 Tow_Truck, 1 Tow_Truck_with_vehicle, 6.2ms\n",
      "video 1/1 (230/1231) /LAB/test3.mp4: 640x640 3 Tow_Truck_with_vehicles, 6.3ms\n",
      "video 1/1 (231/1231) /LAB/test3.mp4: 640x640 3 Tow_Truck_with_vehicles, 6.1ms\n",
      "video 1/1 (232/1231) /LAB/test3.mp4: 640x640 3 Tow_Truck_with_vehicles, 6.3ms\n",
      "video 1/1 (233/1231) /LAB/test3.mp4: 640x640 3 Tow_Truck_with_vehicles, 6.2ms\n",
      "video 1/1 (234/1231) /LAB/test3.mp4: 640x640 3 Tow_Truck_with_vehicles, 6.4ms\n",
      "video 1/1 (235/1231) /LAB/test3.mp4: 640x640 3 Tow_Truck_with_vehicles, 6.4ms\n",
      "video 1/1 (236/1231) /LAB/test3.mp4: 640x640 3 Tow_Truck_with_vehicles, 6.2ms\n",
      "video 1/1 (237/1231) /LAB/test3.mp4: 640x640 3 Tow_Truck_with_vehicles, 6.3ms\n",
      "video 1/1 (238/1231) /LAB/test3.mp4: 640x640 3 Tow_Truck_with_vehicles, 7.1ms\n",
      "video 1/1 (239/1231) /LAB/test3.mp4: 640x640 3 Tow_Truck_with_vehicles, 6.2ms\n",
      "video 1/1 (240/1231) /LAB/test3.mp4: 640x640 2 Tow_Truck_with_vehicles, 6.3ms\n",
      "video 1/1 (241/1231) /LAB/test3.mp4: 640x640 1 Tow_Truck, 2 Tow_Truck_with_vehicles, 6.2ms\n",
      "video 1/1 (242/1231) /LAB/test3.mp4: 640x640 1 Tow_Truck, 3 Tow_Truck_with_vehicles, 6.3ms\n",
      "video 1/1 (243/1231) /LAB/test3.mp4: 640x640 1 Tow_Truck, 1 Tow_Truck_with_vehicle, 6.3ms\n",
      "video 1/1 (244/1231) /LAB/test3.mp4: 640x640 2 Tow_Truck_with_vehicles, 6.3ms\n",
      "video 1/1 (245/1231) /LAB/test3.mp4: 640x640 1 Tow_Truck, 1 Tow_Truck_with_vehicle, 6.2ms\n",
      "video 1/1 (246/1231) /LAB/test3.mp4: 640x640 1 Tow_Truck, 1 Tow_Truck_with_vehicle, 6.2ms\n",
      "video 1/1 (247/1231) /LAB/test3.mp4: 640x640 1 Tow_Truck, 1 Tow_Truck_with_vehicle, 6.2ms\n",
      "video 1/1 (248/1231) /LAB/test3.mp4: 640x640 1 Tow_Truck, 1 Tow_Truck_with_vehicle, 6.2ms\n",
      "video 1/1 (249/1231) /LAB/test3.mp4: 640x640 1 Tow_Truck, 1 Tow_Truck_with_vehicle, 6.2ms\n",
      "video 1/1 (250/1231) /LAB/test3.mp4: 640x640 1 Tow_Truck, 1 Tow_Truck_with_vehicle, 6.4ms\n",
      "video 1/1 (251/1231) /LAB/test3.mp4: 640x640 1 Tow_Truck, 1 Tow_Truck_with_vehicle, 6.3ms\n",
      "video 1/1 (252/1231) /LAB/test3.mp4: 640x640 1 Tow_Truck_with_vehicle, 6.2ms\n",
      "video 1/1 (253/1231) /LAB/test3.mp4: 640x640 1 Tow_Truck, 6.3ms\n",
      "video 1/1 (254/1231) /LAB/test3.mp4: 640x640 (no detections), 6.3ms\n",
      "video 1/1 (255/1231) /LAB/test3.mp4: 640x640 (no detections), 6.3ms\n",
      "video 1/1 (256/1231) /LAB/test3.mp4: 640x640 (no detections), 6.2ms\n",
      "video 1/1 (257/1231) /LAB/test3.mp4: 640x640 (no detections), 6.3ms\n",
      "video 1/1 (258/1231) /LAB/test3.mp4: 640x640 1 Tow_Truck, 6.3ms\n",
      "video 1/1 (259/1231) /LAB/test3.mp4: 640x640 1 Tow_Truck, 6.2ms\n",
      "video 1/1 (260/1231) /LAB/test3.mp4: 640x640 1 Tow_Truck, 6.4ms\n",
      "video 1/1 (261/1231) /LAB/test3.mp4: 640x640 1 Tow_Truck, 6.2ms\n",
      "video 1/1 (262/1231) /LAB/test3.mp4: 640x640 1 Tow_Truck, 6.2ms\n",
      "video 1/1 (263/1231) /LAB/test3.mp4: 640x640 1 Tow_Truck, 6.3ms\n",
      "video 1/1 (264/1231) /LAB/test3.mp4: 640x640 1 Tow_Truck, 6.4ms\n",
      "video 1/1 (265/1231) /LAB/test3.mp4: 640x640 1 Tow_Truck, 6.2ms\n",
      "video 1/1 (266/1231) /LAB/test3.mp4: 640x640 1 Tow_Truck, 6.2ms\n",
      "video 1/1 (267/1231) /LAB/test3.mp4: 640x640 1 Tow_Truck, 6.5ms\n",
      "video 1/1 (268/1231) /LAB/test3.mp4: 640x640 2 Tow_Trucks, 6.3ms\n",
      "video 1/1 (269/1231) /LAB/test3.mp4: 640x640 2 Tow_Trucks, 6.3ms\n",
      "video 1/1 (270/1231) /LAB/test3.mp4: 640x640 (no detections), 6.3ms\n",
      "video 1/1 (271/1231) /LAB/test3.mp4: 640x640 1 Tow_Truck, 1 Tow_Truck_with_vehicle, 6.3ms\n",
      "video 1/1 (272/1231) /LAB/test3.mp4: 640x640 1 Tow_Truck_with_vehicle, 6.4ms\n",
      "video 1/1 (273/1231) /LAB/test3.mp4: 640x640 (no detections), 6.2ms\n",
      "video 1/1 (274/1231) /LAB/test3.mp4: 640x640 (no detections), 6.3ms\n",
      "video 1/1 (275/1231) /LAB/test3.mp4: 640x640 (no detections), 6.5ms\n",
      "video 1/1 (276/1231) /LAB/test3.mp4: 640x640 (no detections), 6.1ms\n",
      "video 1/1 (277/1231) /LAB/test3.mp4: 640x640 (no detections), 6.3ms\n",
      "video 1/1 (278/1231) /LAB/test3.mp4: 640x640 (no detections), 6.2ms\n",
      "video 1/1 (279/1231) /LAB/test3.mp4: 640x640 (no detections), 6.4ms\n",
      "video 1/1 (280/1231) /LAB/test3.mp4: 640x640 (no detections), 6.2ms\n",
      "video 1/1 (281/1231) /LAB/test3.mp4: 640x640 (no detections), 6.4ms\n",
      "video 1/1 (282/1231) /LAB/test3.mp4: 640x640 (no detections), 6.2ms\n",
      "video 1/1 (283/1231) /LAB/test3.mp4: 640x640 (no detections), 7.1ms\n",
      "video 1/1 (284/1231) /LAB/test3.mp4: 640x640 1 Tow_Truck, 6.3ms\n",
      "video 1/1 (285/1231) /LAB/test3.mp4: 640x640 1 Tow_Truck, 6.2ms\n",
      "video 1/1 (286/1231) /LAB/test3.mp4: 640x640 1 Tow_Truck, 6.4ms\n",
      "video 1/1 (287/1231) /LAB/test3.mp4: 640x640 1 Tow_Truck, 6.3ms\n",
      "video 1/1 (288/1231) /LAB/test3.mp4: 640x640 1 Tow_Truck, 6.1ms\n",
      "video 1/1 (289/1231) /LAB/test3.mp4: 640x640 2 Tow_Trucks, 6.2ms\n",
      "video 1/1 (290/1231) /LAB/test3.mp4: 640x640 1 Tow_Truck, 6.3ms\n",
      "video 1/1 (291/1231) /LAB/test3.mp4: 640x640 1 Tow_Truck, 6.3ms\n",
      "video 1/1 (292/1231) /LAB/test3.mp4: 640x640 1 Tow_Truck, 7.2ms\n",
      "video 1/1 (293/1231) /LAB/test3.mp4: 640x640 (no detections), 6.4ms\n",
      "video 1/1 (294/1231) /LAB/test3.mp4: 640x640 1 Tow_Truck, 6.2ms\n",
      "video 1/1 (295/1231) /LAB/test3.mp4: 640x640 (no detections), 6.3ms\n",
      "video 1/1 (296/1231) /LAB/test3.mp4: 640x640 1 Tow_Truck_with_vehicle, 19.5ms\n",
      "video 1/1 (297/1231) /LAB/test3.mp4: 640x640 1 Tow_Truck_with_vehicle, 6.7ms\n",
      "video 1/1 (298/1231) /LAB/test3.mp4: 640x640 (no detections), 6.3ms\n",
      "video 1/1 (299/1231) /LAB/test3.mp4: 640x640 1 Tow_Truck_with_vehicle, 6.1ms\n",
      "video 1/1 (300/1231) /LAB/test3.mp4: 640x640 1 Tow_Truck_with_vehicle, 6.2ms\n",
      "video 1/1 (301/1231) /LAB/test3.mp4: 640x640 1 Tow_Truck_with_vehicle, 6.2ms\n",
      "video 1/1 (302/1231) /LAB/test3.mp4: 640x640 1 Tow_Truck_with_vehicle, 6.2ms\n",
      "video 1/1 (303/1231) /LAB/test3.mp4: 640x640 1 Tow_Truck_with_vehicle, 6.3ms\n",
      "video 1/1 (304/1231) /LAB/test3.mp4: 640x640 (no detections), 7.3ms\n",
      "video 1/1 (305/1231) /LAB/test3.mp4: 640x640 (no detections), 6.1ms\n",
      "video 1/1 (306/1231) /LAB/test3.mp4: 640x640 (no detections), 6.1ms\n",
      "video 1/1 (307/1231) /LAB/test3.mp4: 640x640 (no detections), 6.1ms\n",
      "video 1/1 (308/1231) /LAB/test3.mp4: 640x640 (no detections), 6.1ms\n",
      "video 1/1 (309/1231) /LAB/test3.mp4: 640x640 1 Tow_Truck, 8.3ms\n",
      "video 1/1 (310/1231) /LAB/test3.mp4: 640x640 1 Tow_Truck_with_vehicle, 6.0ms\n",
      "video 1/1 (311/1231) /LAB/test3.mp4: 640x640 1 Tow_Truck_with_vehicle, 6.1ms\n",
      "video 1/1 (312/1231) /LAB/test3.mp4: 640x640 1 Tow_Truck, 6.2ms\n",
      "video 1/1 (313/1231) /LAB/test3.mp4: 640x640 1 Tow_Truck, 6.2ms\n",
      "video 1/1 (314/1231) /LAB/test3.mp4: 640x640 1 Tow_Truck, 8.5ms\n",
      "video 1/1 (315/1231) /LAB/test3.mp4: 640x640 1 Tow_Truck_with_vehicle, 6.0ms\n",
      "video 1/1 (316/1231) /LAB/test3.mp4: 640x640 1 Tow_Truck_with_vehicle, 6.2ms\n",
      "video 1/1 (317/1231) /LAB/test3.mp4: 640x640 1 Tow_Truck_with_vehicle, 6.1ms\n",
      "video 1/1 (318/1231) /LAB/test3.mp4: 640x640 1 Tow_Truck_with_vehicle, 6.2ms\n",
      "video 1/1 (319/1231) /LAB/test3.mp4: 640x640 1 Tow_Truck_with_vehicle, 6.2ms\n",
      "video 1/1 (320/1231) /LAB/test3.mp4: 640x640 1 Tow_Truck_with_vehicle, 6.1ms\n",
      "video 1/1 (321/1231) /LAB/test3.mp4: 640x640 1 Tow_Truck_with_vehicle, 6.1ms\n",
      "video 1/1 (322/1231) /LAB/test3.mp4: 640x640 1 Tow_Truck, 6.1ms\n",
      "video 1/1 (323/1231) /LAB/test3.mp4: 640x640 (no detections), 6.2ms\n",
      "video 1/1 (324/1231) /LAB/test3.mp4: 640x640 1 Tow_Truck, 6.1ms\n",
      "video 1/1 (325/1231) /LAB/test3.mp4: 640x640 (no detections), 6.4ms\n",
      "video 1/1 (326/1231) /LAB/test3.mp4: 640x640 (no detections), 6.2ms\n",
      "video 1/1 (327/1231) /LAB/test3.mp4: 640x640 (no detections), 6.1ms\n",
      "video 1/1 (328/1231) /LAB/test3.mp4: 640x640 1 Tow_Truck, 6.2ms\n",
      "video 1/1 (329/1231) /LAB/test3.mp4: 640x640 1 Tow_Truck, 6.1ms\n",
      "video 1/1 (330/1231) /LAB/test3.mp4: 640x640 (no detections), 6.1ms\n",
      "video 1/1 (331/1231) /LAB/test3.mp4: 640x640 (no detections), 6.2ms\n",
      "video 1/1 (332/1231) /LAB/test3.mp4: 640x640 1 Tow_Truck_with_vehicle, 6.1ms\n",
      "video 1/1 (333/1231) /LAB/test3.mp4: 640x640 1 Tow_Truck, 1 Tow_Truck_with_vehicle, 6.2ms\n",
      "video 1/1 (334/1231) /LAB/test3.mp4: 640x640 1 Tow_Truck_with_vehicle, 6.1ms\n",
      "video 1/1 (335/1231) /LAB/test3.mp4: 640x640 (no detections), 6.0ms\n",
      "video 1/1 (336/1231) /LAB/test3.mp4: 640x640 1 Tow_Truck_with_vehicle, 6.2ms\n",
      "video 1/1 (337/1231) /LAB/test3.mp4: 640x640 1 Tow_Truck, 1 Tow_Truck_with_vehicle, 7.2ms\n",
      "video 1/1 (338/1231) /LAB/test3.mp4: 640x640 1 Tow_Truck_with_vehicle, 6.5ms\n",
      "video 1/1 (339/1231) /LAB/test3.mp4: 640x640 (no detections), 6.3ms\n",
      "video 1/1 (340/1231) /LAB/test3.mp4: 640x640 1 Tow_Truck, 6.2ms\n",
      "video 1/1 (341/1231) /LAB/test3.mp4: 640x640 1 Tow_Truck, 6.3ms\n",
      "video 1/1 (342/1231) /LAB/test3.mp4: 640x640 1 Tow_Truck, 6.2ms\n",
      "video 1/1 (343/1231) /LAB/test3.mp4: 640x640 1 Tow_Truck, 1 Tow_Truck_with_vehicle, 6.2ms\n",
      "video 1/1 (344/1231) /LAB/test3.mp4: 640x640 1 Tow_Truck, 1 Tow_Truck_with_vehicle, 6.2ms\n",
      "video 1/1 (345/1231) /LAB/test3.mp4: 640x640 1 Tow_Truck, 1 Tow_Truck_with_vehicle, 6.1ms\n",
      "video 1/1 (346/1231) /LAB/test3.mp4: 640x640 1 Tow_Truck, 1 Tow_Truck_with_vehicle, 6.4ms\n",
      "video 1/1 (347/1231) /LAB/test3.mp4: 640x640 1 Tow_Truck, 1 Tow_Truck_with_vehicle, 6.3ms\n",
      "video 1/1 (348/1231) /LAB/test3.mp4: 640x640 1 Tow_Truck, 1 Tow_Truck_with_vehicle, 6.2ms\n",
      "video 1/1 (349/1231) /LAB/test3.mp4: 640x640 1 Tow_Truck, 6.1ms\n",
      "video 1/1 (350/1231) /LAB/test3.mp4: 640x640 (no detections), 6.3ms\n",
      "video 1/1 (351/1231) /LAB/test3.mp4: 640x640 (no detections), 6.1ms\n",
      "video 1/1 (352/1231) /LAB/test3.mp4: 640x640 1 Tow_Truck, 6.3ms\n",
      "video 1/1 (353/1231) /LAB/test3.mp4: 640x640 (no detections), 6.2ms\n",
      "video 1/1 (354/1231) /LAB/test3.mp4: 640x640 1 Tow_Truck_with_vehicle, 6.2ms\n",
      "video 1/1 (355/1231) /LAB/test3.mp4: 640x640 (no detections), 6.1ms\n",
      "video 1/1 (356/1231) /LAB/test3.mp4: 640x640 (no detections), 6.2ms\n",
      "video 1/1 (357/1231) /LAB/test3.mp4: 640x640 (no detections), 6.4ms\n",
      "video 1/1 (358/1231) /LAB/test3.mp4: 640x640 (no detections), 6.3ms\n",
      "video 1/1 (359/1231) /LAB/test3.mp4: 640x640 (no detections), 6.2ms\n",
      "video 1/1 (360/1231) /LAB/test3.mp4: 640x640 (no detections), 6.0ms\n",
      "video 1/1 (361/1231) /LAB/test3.mp4: 640x640 (no detections), 6.1ms\n",
      "video 1/1 (362/1231) /LAB/test3.mp4: 640x640 1 Tow_Truck, 6.2ms\n",
      "video 1/1 (363/1231) /LAB/test3.mp4: 640x640 (no detections), 6.3ms\n",
      "video 1/1 (364/1231) /LAB/test3.mp4: 640x640 1 Tow_Truck, 6.0ms\n",
      "video 1/1 (365/1231) /LAB/test3.mp4: 640x640 (no detections), 6.3ms\n",
      "video 1/1 (366/1231) /LAB/test3.mp4: 640x640 (no detections), 6.1ms\n",
      "video 1/1 (367/1231) /LAB/test3.mp4: 640x640 (no detections), 6.2ms\n",
      "video 1/1 (368/1231) /LAB/test3.mp4: 640x640 (no detections), 6.3ms\n",
      "video 1/1 (369/1231) /LAB/test3.mp4: 640x640 1 Tow_Truck, 1 Tow_Truck_with_vehicle, 6.2ms\n",
      "video 1/1 (370/1231) /LAB/test3.mp4: 640x640 (no detections), 6.4ms\n",
      "video 1/1 (371/1231) /LAB/test3.mp4: 640x640 (no detections), 6.0ms\n",
      "video 1/1 (372/1231) /LAB/test3.mp4: 640x640 (no detections), 6.1ms\n",
      "video 1/1 (373/1231) /LAB/test3.mp4: 640x640 1 Tow_Truck, 1 Tow_Truck_with_vehicle, 6.1ms\n",
      "video 1/1 (374/1231) /LAB/test3.mp4: 640x640 1 Tow_Truck, 1 Tow_Truck_with_vehicle, 6.1ms\n",
      "video 1/1 (375/1231) /LAB/test3.mp4: 640x640 1 Tow_Truck, 1 Tow_Truck_with_vehicle, 6.1ms\n",
      "video 1/1 (376/1231) /LAB/test3.mp4: 640x640 1 Tow_Truck, 1 Tow_Truck_with_vehicle, 6.2ms\n",
      "video 1/1 (377/1231) /LAB/test3.mp4: 640x640 1 Tow_Truck, 2 Tow_Truck_with_vehicles, 6.2ms\n",
      "video 1/1 (378/1231) /LAB/test3.mp4: 640x640 1 Tow_Truck, 1 Tow_Truck_with_vehicle, 6.2ms\n",
      "video 1/1 (379/1231) /LAB/test3.mp4: 640x640 1 Tow_Truck, 1 Tow_Truck_with_vehicle, 6.2ms\n",
      "video 1/1 (380/1231) /LAB/test3.mp4: 640x640 1 Tow_Truck, 6.2ms\n",
      "video 1/1 (381/1231) /LAB/test3.mp4: 640x640 1 Tow_Truck, 6.3ms\n",
      "video 1/1 (382/1231) /LAB/test3.mp4: 640x640 1 Tow_Truck, 6.3ms\n",
      "video 1/1 (383/1231) /LAB/test3.mp4: 640x640 1 Tow_Truck, 6.1ms\n",
      "video 1/1 (384/1231) /LAB/test3.mp4: 640x640 2 Tow_Trucks, 6.2ms\n",
      "video 1/1 (385/1231) /LAB/test3.mp4: 640x640 1 Tow_Truck, 6.0ms\n",
      "video 1/1 (386/1231) /LAB/test3.mp4: 640x640 1 Tow_Truck, 6.2ms\n",
      "video 1/1 (387/1231) /LAB/test3.mp4: 640x640 1 Tow_Truck_with_vehicle, 6.1ms\n",
      "video 1/1 (388/1231) /LAB/test3.mp4: 640x640 1 Tow_Truck, 1 Tow_Truck_with_vehicle, 6.2ms\n",
      "video 1/1 (389/1231) /LAB/test3.mp4: 640x640 1 Tow_Truck, 1 Tow_Truck_with_vehicle, 6.2ms\n",
      "video 1/1 (390/1231) /LAB/test3.mp4: 640x640 1 Tow_Truck, 1 Tow_Truck_with_vehicle, 6.1ms\n",
      "video 1/1 (391/1231) /LAB/test3.mp4: 640x640 1 Tow_Truck, 1 Tow_Truck_with_vehicle, 6.1ms\n",
      "video 1/1 (392/1231) /LAB/test3.mp4: 640x640 2 Tow_Trucks, 6.3ms\n",
      "video 1/1 (393/1231) /LAB/test3.mp4: 640x640 2 Tow_Trucks, 6.2ms\n",
      "video 1/1 (394/1231) /LAB/test3.mp4: 640x640 1 Tow_Truck, 6.1ms\n",
      "video 1/1 (395/1231) /LAB/test3.mp4: 640x640 1 Tow_Truck, 6.1ms\n",
      "video 1/1 (396/1231) /LAB/test3.mp4: 640x640 1 Tow_Truck, 6.2ms\n",
      "video 1/1 (397/1231) /LAB/test3.mp4: 640x640 1 Tow_Truck, 6.1ms\n",
      "video 1/1 (398/1231) /LAB/test3.mp4: 640x640 1 Tow_Truck, 6.1ms\n",
      "video 1/1 (399/1231) /LAB/test3.mp4: 640x640 1 Tow_Truck, 6.2ms\n",
      "video 1/1 (400/1231) /LAB/test3.mp4: 640x640 (no detections), 6.1ms\n",
      "video 1/1 (401/1231) /LAB/test3.mp4: 640x640 (no detections), 6.2ms\n",
      "video 1/1 (402/1231) /LAB/test3.mp4: 640x640 1 Tow_Truck, 6.2ms\n",
      "video 1/1 (403/1231) /LAB/test3.mp4: 640x640 1 Tow_Truck, 6.1ms\n",
      "video 1/1 (404/1231) /LAB/test3.mp4: 640x640 1 Tow_Truck, 1 Tow_Truck_with_vehicle, 6.1ms\n",
      "video 1/1 (405/1231) /LAB/test3.mp4: 640x640 1 Tow_Truck, 1 Tow_Truck_with_vehicle, 6.0ms\n",
      "video 1/1 (406/1231) /LAB/test3.mp4: 640x640 1 Tow_Truck, 1 Tow_Truck_with_vehicle, 6.1ms\n",
      "video 1/1 (407/1231) /LAB/test3.mp4: 640x640 1 Tow_Truck_with_vehicle, 6.3ms\n",
      "video 1/1 (408/1231) /LAB/test3.mp4: 640x640 1 Tow_Truck, 1 Tow_Truck_with_vehicle, 6.1ms\n",
      "video 1/1 (409/1231) /LAB/test3.mp4: 640x640 1 Tow_Truck_with_vehicle, 6.5ms\n",
      "video 1/1 (410/1231) /LAB/test3.mp4: 640x640 1 Tow_Truck_with_vehicle, 6.3ms\n",
      "video 1/1 (411/1231) /LAB/test3.mp4: 640x640 1 Tow_Truck_with_vehicle, 6.1ms\n",
      "video 1/1 (412/1231) /LAB/test3.mp4: 640x640 2 Tow_Truck_with_vehicles, 6.1ms\n",
      "video 1/1 (413/1231) /LAB/test3.mp4: 640x640 1 Tow_Truck_with_vehicle, 6.1ms\n",
      "video 1/1 (414/1231) /LAB/test3.mp4: 640x640 1 Tow_Truck, 1 Tow_Truck_with_vehicle, 6.1ms\n",
      "video 1/1 (415/1231) /LAB/test3.mp4: 640x640 1 Tow_Truck_with_vehicle, 6.3ms\n",
      "video 1/1 (416/1231) /LAB/test3.mp4: 640x640 1 Tow_Truck_with_vehicle, 6.1ms\n",
      "video 1/1 (417/1231) /LAB/test3.mp4: 640x640 1 Tow_Truck, 1 Tow_Truck_with_vehicle, 6.0ms\n",
      "video 1/1 (418/1231) /LAB/test3.mp4: 640x640 1 Tow_Truck, 6.2ms\n",
      "video 1/1 (419/1231) /LAB/test3.mp4: 640x640 1 Tow_Truck, 6.2ms\n",
      "video 1/1 (420/1231) /LAB/test3.mp4: 640x640 1 Tow_Truck, 6.2ms\n",
      "video 1/1 (421/1231) /LAB/test3.mp4: 640x640 1 Tow_Truck, 6.1ms\n",
      "video 1/1 (422/1231) /LAB/test3.mp4: 640x640 1 Tow_Truck, 6.4ms\n",
      "video 1/1 (423/1231) /LAB/test3.mp4: 640x640 1 Tow_Truck, 7.0ms\n",
      "video 1/1 (424/1231) /LAB/test3.mp4: 640x640 1 Tow_Truck, 6.1ms\n",
      "video 1/1 (425/1231) /LAB/test3.mp4: 640x640 1 Tow_Truck_with_vehicle, 6.1ms\n",
      "video 1/1 (426/1231) /LAB/test3.mp4: 640x640 1 Tow_Truck_with_vehicle, 6.3ms\n",
      "video 1/1 (427/1231) /LAB/test3.mp4: 640x640 (no detections), 6.2ms\n",
      "video 1/1 (428/1231) /LAB/test3.mp4: 640x640 1 Tow_Truck_with_vehicle, 6.2ms\n",
      "video 1/1 (429/1231) /LAB/test3.mp4: 640x640 1 Tow_Truck_with_vehicle, 6.2ms\n",
      "video 1/1 (430/1231) /LAB/test3.mp4: 640x640 (no detections), 6.2ms\n",
      "video 1/1 (431/1231) /LAB/test3.mp4: 640x640 (no detections), 6.1ms\n",
      "video 1/1 (432/1231) /LAB/test3.mp4: 640x640 1 Tow_Truck_with_vehicle, 7.2ms\n",
      "video 1/1 (433/1231) /LAB/test3.mp4: 640x640 2 Tow_Trucks, 6.1ms\n",
      "video 1/1 (434/1231) /LAB/test3.mp4: 640x640 1 Tow_Truck, 6.1ms\n",
      "video 1/1 (435/1231) /LAB/test3.mp4: 640x640 2 Tow_Truck_with_vehicles, 6.3ms\n",
      "video 1/1 (436/1231) /LAB/test3.mp4: 640x640 1 Tow_Truck, 1 Tow_Truck_with_vehicle, 6.1ms\n",
      "video 1/1 (437/1231) /LAB/test3.mp4: 640x640 2 Tow_Trucks, 6.2ms\n",
      "video 1/1 (438/1231) /LAB/test3.mp4: 640x640 1 Tow_Truck, 6.1ms\n",
      "video 1/1 (439/1231) /LAB/test3.mp4: 640x640 1 Tow_Truck, 6.3ms\n",
      "video 1/1 (440/1231) /LAB/test3.mp4: 640x640 1 Tow_Truck, 6.4ms\n",
      "video 1/1 (441/1231) /LAB/test3.mp4: 640x640 1 Tow_Truck, 6.2ms\n",
      "video 1/1 (442/1231) /LAB/test3.mp4: 640x640 1 Tow_Truck, 1 Tow_Truck_with_vehicle, 6.1ms\n",
      "video 1/1 (443/1231) /LAB/test3.mp4: 640x640 1 Tow_Truck, 6.1ms\n",
      "video 1/1 (444/1231) /LAB/test3.mp4: 640x640 1 Tow_Truck, 1 Tow_Truck_with_vehicle, 6.0ms\n",
      "video 1/1 (445/1231) /LAB/test3.mp4: 640x640 1 Tow_Truck, 1 Tow_Truck_with_vehicle, 6.1ms\n",
      "video 1/1 (446/1231) /LAB/test3.mp4: 640x640 1 Tow_Truck, 1 Tow_Truck_with_vehicle, 6.1ms\n",
      "video 1/1 (447/1231) /LAB/test3.mp4: 640x640 1 Tow_Truck_with_vehicle, 6.2ms\n",
      "video 1/1 (448/1231) /LAB/test3.mp4: 640x640 1 Tow_Truck_with_vehicle, 6.1ms\n",
      "video 1/1 (449/1231) /LAB/test3.mp4: 640x640 1 Tow_Truck_with_vehicle, 6.1ms\n",
      "video 1/1 (450/1231) /LAB/test3.mp4: 640x640 1 Tow_Truck_with_vehicle, 6.1ms\n",
      "video 1/1 (451/1231) /LAB/test3.mp4: 640x640 1 Tow_Truck_with_vehicle, 6.3ms\n",
      "video 1/1 (452/1231) /LAB/test3.mp4: 640x640 1 Tow_Truck, 6.1ms\n",
      "video 1/1 (453/1231) /LAB/test3.mp4: 640x640 1 Tow_Truck, 6.0ms\n",
      "video 1/1 (454/1231) /LAB/test3.mp4: 640x640 1 Tow_Truck, 6.1ms\n",
      "video 1/1 (455/1231) /LAB/test3.mp4: 640x640 1 Tow_Truck, 6.3ms\n",
      "video 1/1 (456/1231) /LAB/test3.mp4: 640x640 1 Tow_Truck, 6.2ms\n",
      "video 1/1 (457/1231) /LAB/test3.mp4: 640x640 1 Tow_Truck, 6.2ms\n",
      "video 1/1 (458/1231) /LAB/test3.mp4: 640x640 1 Tow_Truck, 6.2ms\n",
      "video 1/1 (459/1231) /LAB/test3.mp4: 640x640 1 Tow_Truck, 6.2ms\n",
      "video 1/1 (460/1231) /LAB/test3.mp4: 640x640 1 Tow_Truck, 6.1ms\n",
      "video 1/1 (461/1231) /LAB/test3.mp4: 640x640 1 Tow_Truck, 6.3ms\n",
      "video 1/1 (462/1231) /LAB/test3.mp4: 640x640 1 Tow_Truck, 1 Tow_Truck_with_vehicle, 6.2ms\n",
      "video 1/1 (463/1231) /LAB/test3.mp4: 640x640 1 Tow_Truck, 6.1ms\n",
      "video 1/1 (464/1231) /LAB/test3.mp4: 640x640 1 Tow_Truck, 6.1ms\n",
      "video 1/1 (465/1231) /LAB/test3.mp4: 640x640 1 Tow_Truck, 6.0ms\n",
      "video 1/1 (466/1231) /LAB/test3.mp4: 640x640 1 Tow_Truck, 6.3ms\n",
      "video 1/1 (467/1231) /LAB/test3.mp4: 640x640 1 Tow_Truck, 6.2ms\n",
      "video 1/1 (468/1231) /LAB/test3.mp4: 640x640 (no detections), 6.1ms\n",
      "video 1/1 (469/1231) /LAB/test3.mp4: 640x640 1 Tow_Truck, 6.1ms\n",
      "video 1/1 (470/1231) /LAB/test3.mp4: 640x640 (no detections), 6.3ms\n",
      "video 1/1 (471/1231) /LAB/test3.mp4: 640x640 (no detections), 6.2ms\n",
      "video 1/1 (472/1231) /LAB/test3.mp4: 640x640 (no detections), 6.2ms\n",
      "video 1/1 (473/1231) /LAB/test3.mp4: 640x640 (no detections), 6.2ms\n",
      "video 1/1 (474/1231) /LAB/test3.mp4: 640x640 (no detections), 6.2ms\n",
      "video 1/1 (475/1231) /LAB/test3.mp4: 640x640 (no detections), 6.1ms\n",
      "video 1/1 (476/1231) /LAB/test3.mp4: 640x640 (no detections), 6.0ms\n",
      "video 1/1 (477/1231) /LAB/test3.mp4: 640x640 (no detections), 6.0ms\n",
      "video 1/1 (478/1231) /LAB/test3.mp4: 640x640 (no detections), 6.0ms\n",
      "video 1/1 (479/1231) /LAB/test3.mp4: 640x640 (no detections), 6.0ms\n",
      "video 1/1 (480/1231) /LAB/test3.mp4: 640x640 (no detections), 6.2ms\n",
      "video 1/1 (481/1231) /LAB/test3.mp4: 640x640 (no detections), 6.1ms\n",
      "video 1/1 (482/1231) /LAB/test3.mp4: 640x640 1 Tow_Truck, 6.2ms\n",
      "video 1/1 (483/1231) /LAB/test3.mp4: 640x640 2 Tow_Trucks, 6.2ms\n",
      "video 1/1 (484/1231) /LAB/test3.mp4: 640x640 (no detections), 6.2ms\n",
      "video 1/1 (485/1231) /LAB/test3.mp4: 640x640 (no detections), 6.2ms\n",
      "video 1/1 (486/1231) /LAB/test3.mp4: 640x640 (no detections), 6.1ms\n",
      "video 1/1 (487/1231) /LAB/test3.mp4: 640x640 1 Tow_Truck_with_vehicle, 6.2ms\n",
      "video 1/1 (488/1231) /LAB/test3.mp4: 640x640 1 Tow_Truck, 1 Tow_Truck_with_vehicle, 6.1ms\n",
      "video 1/1 (489/1231) /LAB/test3.mp4: 640x640 1 Tow_Truck, 1 Tow_Truck_with_vehicle, 6.4ms\n",
      "video 1/1 (490/1231) /LAB/test3.mp4: 640x640 1 Tow_Truck, 1 Tow_Truck_with_vehicle, 6.4ms\n",
      "video 1/1 (491/1231) /LAB/test3.mp4: 640x640 1 Tow_Truck, 1 Tow_Truck_with_vehicle, 6.2ms\n",
      "video 1/1 (492/1231) /LAB/test3.mp4: 640x640 1 Tow_Truck, 6.3ms\n",
      "video 1/1 (493/1231) /LAB/test3.mp4: 640x640 (no detections), 6.3ms\n",
      "video 1/1 (494/1231) /LAB/test3.mp4: 640x640 (no detections), 6.1ms\n",
      "video 1/1 (495/1231) /LAB/test3.mp4: 640x640 (no detections), 6.2ms\n",
      "video 1/1 (496/1231) /LAB/test3.mp4: 640x640 (no detections), 6.2ms\n",
      "video 1/1 (497/1231) /LAB/test3.mp4: 640x640 (no detections), 6.1ms\n",
      "video 1/1 (498/1231) /LAB/test3.mp4: 640x640 (no detections), 6.1ms\n",
      "video 1/1 (499/1231) /LAB/test3.mp4: 640x640 (no detections), 6.1ms\n",
      "video 1/1 (500/1231) /LAB/test3.mp4: 640x640 1 Tow_Truck, 6.2ms\n",
      "video 1/1 (501/1231) /LAB/test3.mp4: 640x640 2 Tow_Trucks, 6.3ms\n",
      "video 1/1 (502/1231) /LAB/test3.mp4: 640x640 2 Tow_Trucks, 6.2ms\n",
      "video 1/1 (503/1231) /LAB/test3.mp4: 640x640 1 Tow_Truck, 1 Tow_Truck_with_vehicle, 6.1ms\n",
      "video 1/1 (504/1231) /LAB/test3.mp4: 640x640 1 Tow_Truck, 1 Tow_Truck_with_vehicle, 6.3ms\n",
      "video 1/1 (505/1231) /LAB/test3.mp4: 640x640 1 Tow_Truck, 6.1ms\n",
      "video 1/1 (506/1231) /LAB/test3.mp4: 640x640 1 Tow_Truck, 6.2ms\n",
      "video 1/1 (507/1231) /LAB/test3.mp4: 640x640 1 Tow_Truck, 6.2ms\n",
      "video 1/1 (508/1231) /LAB/test3.mp4: 640x640 2 Tow_Trucks, 6.3ms\n",
      "video 1/1 (509/1231) /LAB/test3.mp4: 640x640 2 Tow_Trucks, 6.1ms\n",
      "video 1/1 (510/1231) /LAB/test3.mp4: 640x640 2 Tow_Trucks, 6.1ms\n",
      "video 1/1 (511/1231) /LAB/test3.mp4: 640x640 2 Tow_Trucks, 6.4ms\n",
      "video 1/1 (512/1231) /LAB/test3.mp4: 640x640 2 Tow_Trucks, 6.2ms\n",
      "video 1/1 (513/1231) /LAB/test3.mp4: 640x640 2 Tow_Trucks, 7.8ms\n",
      "video 1/1 (514/1231) /LAB/test3.mp4: 640x640 2 Tow_Trucks, 6.2ms\n",
      "video 1/1 (515/1231) /LAB/test3.mp4: 640x640 2 Tow_Trucks, 6.2ms\n",
      "video 1/1 (516/1231) /LAB/test3.mp4: 640x640 2 Tow_Trucks, 6.1ms\n",
      "video 1/1 (517/1231) /LAB/test3.mp4: 640x640 2 Tow_Trucks, 6.2ms\n",
      "video 1/1 (518/1231) /LAB/test3.mp4: 640x640 1 Tow_Truck, 6.2ms\n",
      "video 1/1 (519/1231) /LAB/test3.mp4: 640x640 1 Tow_Truck, 1 Tow_Truck_with_vehicle, 6.4ms\n",
      "video 1/1 (520/1231) /LAB/test3.mp4: 640x640 1 Tow_Truck_with_vehicle, 6.2ms\n",
      "video 1/1 (521/1231) /LAB/test3.mp4: 640x640 1 Tow_Truck_with_vehicle, 6.1ms\n",
      "video 1/1 (522/1231) /LAB/test3.mp4: 640x640 1 Tow_Truck_with_vehicle, 6.2ms\n",
      "video 1/1 (523/1231) /LAB/test3.mp4: 640x640 1 Tow_Truck, 1 Tow_Truck_with_vehicle, 6.2ms\n",
      "video 1/1 (524/1231) /LAB/test3.mp4: 640x640 1 Tow_Truck_with_vehicle, 7.2ms\n",
      "video 1/1 (525/1231) /LAB/test3.mp4: 640x640 1 Tow_Truck_with_vehicle, 6.2ms\n",
      "video 1/1 (526/1231) /LAB/test3.mp4: 640x640 1 Tow_Truck_with_vehicle, 6.1ms\n",
      "video 1/1 (527/1231) /LAB/test3.mp4: 640x640 1 Tow_Truck_with_vehicle, 6.1ms\n",
      "video 1/1 (528/1231) /LAB/test3.mp4: 640x640 1 Tow_Truck_with_vehicle, 6.4ms\n",
      "video 1/1 (529/1231) /LAB/test3.mp4: 640x640 1 Tow_Truck_with_vehicle, 6.3ms\n",
      "video 1/1 (530/1231) /LAB/test3.mp4: 640x640 2 Tow_Truck_with_vehicles, 6.3ms\n",
      "video 1/1 (531/1231) /LAB/test3.mp4: 640x640 2 Tow_Truck_with_vehicles, 6.3ms\n",
      "video 1/1 (532/1231) /LAB/test3.mp4: 640x640 2 Tow_Truck_with_vehicles, 6.3ms\n",
      "video 1/1 (533/1231) /LAB/test3.mp4: 640x640 2 Tow_Truck_with_vehicles, 6.2ms\n",
      "video 1/1 (534/1231) /LAB/test3.mp4: 640x640 2 Tow_Truck_with_vehicles, 6.2ms\n",
      "video 1/1 (535/1231) /LAB/test3.mp4: 640x640 1 Tow_Truck_with_vehicle, 6.2ms\n",
      "video 1/1 (536/1231) /LAB/test3.mp4: 640x640 1 Tow_Truck_with_vehicle, 6.2ms\n",
      "video 1/1 (537/1231) /LAB/test3.mp4: 640x640 1 Tow_Truck_with_vehicle, 6.2ms\n",
      "video 1/1 (538/1231) /LAB/test3.mp4: 640x640 1 Tow_Truck_with_vehicle, 6.4ms\n",
      "video 1/1 (539/1231) /LAB/test3.mp4: 640x640 1 Tow_Truck_with_vehicle, 6.2ms\n",
      "video 1/1 (540/1231) /LAB/test3.mp4: 640x640 1 Tow_Truck_with_vehicle, 6.2ms\n",
      "video 1/1 (541/1231) /LAB/test3.mp4: 640x640 1 Tow_Truck_with_vehicle, 6.2ms\n",
      "video 1/1 (542/1231) /LAB/test3.mp4: 640x640 1 Tow_Truck_with_vehicle, 7.3ms\n",
      "video 1/1 (543/1231) /LAB/test3.mp4: 640x640 2 Tow_Truck_with_vehicles, 6.4ms\n",
      "video 1/1 (544/1231) /LAB/test3.mp4: 640x640 1 Tow_Truck_with_vehicle, 6.3ms\n",
      "video 1/1 (545/1231) /LAB/test3.mp4: 640x640 1 Tow_Truck_with_vehicle, 6.1ms\n",
      "video 1/1 (546/1231) /LAB/test3.mp4: 640x640 1 Tow_Truck_with_vehicle, 6.2ms\n",
      "video 1/1 (547/1231) /LAB/test3.mp4: 640x640 1 Tow_Truck_with_vehicle, 6.4ms\n",
      "video 1/1 (548/1231) /LAB/test3.mp4: 640x640 1 Tow_Truck_with_vehicle, 6.2ms\n",
      "video 1/1 (549/1231) /LAB/test3.mp4: 640x640 1 Tow_Truck_with_vehicle, 6.2ms\n",
      "video 1/1 (550/1231) /LAB/test3.mp4: 640x640 1 Tow_Truck_with_vehicle, 6.2ms\n",
      "video 1/1 (551/1231) /LAB/test3.mp4: 640x640 1 Tow_Truck_with_vehicle, 6.2ms\n",
      "video 1/1 (552/1231) /LAB/test3.mp4: 640x640 1 Tow_Truck_with_vehicle, 6.1ms\n",
      "video 1/1 (553/1231) /LAB/test3.mp4: 640x640 1 Tow_Truck_with_vehicle, 6.1ms\n",
      "video 1/1 (554/1231) /LAB/test3.mp4: 640x640 1 Tow_Truck_with_vehicle, 6.5ms\n",
      "video 1/1 (555/1231) /LAB/test3.mp4: 640x640 1 Tow_Truck_with_vehicle, 6.0ms\n",
      "video 1/1 (556/1231) /LAB/test3.mp4: 640x640 1 Tow_Truck_with_vehicle, 6.1ms\n",
      "video 1/1 (557/1231) /LAB/test3.mp4: 640x640 1 Tow_Truck_with_vehicle, 6.1ms\n",
      "video 1/1 (558/1231) /LAB/test3.mp4: 640x640 1 Tow_Truck_with_vehicle, 6.3ms\n",
      "video 1/1 (559/1231) /LAB/test3.mp4: 640x640 2 Tow_Truck_with_vehicles, 6.2ms\n",
      "video 1/1 (560/1231) /LAB/test3.mp4: 640x640 1 Tow_Truck_with_vehicle, 6.2ms\n",
      "video 1/1 (561/1231) /LAB/test3.mp4: 640x640 1 Tow_Truck_with_vehicle, 6.2ms\n",
      "video 1/1 (562/1231) /LAB/test3.mp4: 640x640 2 Tow_Truck_with_vehicles, 6.1ms\n",
      "video 1/1 (563/1231) /LAB/test3.mp4: 640x640 2 Tow_Truck_with_vehicles, 6.2ms\n",
      "video 1/1 (564/1231) /LAB/test3.mp4: 640x640 1 Tow_Truck_with_vehicle, 6.2ms\n",
      "video 1/1 (565/1231) /LAB/test3.mp4: 640x640 (no detections), 6.1ms\n",
      "video 1/1 (566/1231) /LAB/test3.mp4: 640x640 (no detections), 6.1ms\n",
      "video 1/1 (567/1231) /LAB/test3.mp4: 640x640 1 Tow_Truck_with_vehicle, 8.0ms\n",
      "video 1/1 (568/1231) /LAB/test3.mp4: 640x640 (no detections), 6.1ms\n",
      "video 1/1 (569/1231) /LAB/test3.mp4: 640x640 (no detections), 6.3ms\n",
      "video 1/1 (570/1231) /LAB/test3.mp4: 640x640 1 Tow_Truck_with_vehicle, 6.2ms\n",
      "video 1/1 (571/1231) /LAB/test3.mp4: 640x640 1 Tow_Truck_with_vehicle, 6.2ms\n",
      "video 1/1 (572/1231) /LAB/test3.mp4: 640x640 1 Tow_Truck_with_vehicle, 6.2ms\n",
      "video 1/1 (573/1231) /LAB/test3.mp4: 640x640 (no detections), 6.2ms\n",
      "video 1/1 (574/1231) /LAB/test3.mp4: 640x640 (no detections), 6.1ms\n",
      "video 1/1 (575/1231) /LAB/test3.mp4: 640x640 1 Tow_Truck_with_vehicle, 6.1ms\n",
      "video 1/1 (576/1231) /LAB/test3.mp4: 640x640 1 Tow_Truck_with_vehicle, 6.1ms\n",
      "video 1/1 (577/1231) /LAB/test3.mp4: 640x640 2 Tow_Truck_with_vehicles, 6.2ms\n",
      "video 1/1 (578/1231) /LAB/test3.mp4: 640x640 1 Tow_Truck_with_vehicle, 6.2ms\n",
      "video 1/1 (579/1231) /LAB/test3.mp4: 640x640 1 Tow_Truck_with_vehicle, 6.3ms\n",
      "video 1/1 (580/1231) /LAB/test3.mp4: 640x640 2 Tow_Truck_with_vehicles, 6.2ms\n",
      "video 1/1 (581/1231) /LAB/test3.mp4: 640x640 2 Tow_Truck_with_vehicles, 6.1ms\n",
      "video 1/1 (582/1231) /LAB/test3.mp4: 640x640 1 Tow_Truck_with_vehicle, 6.1ms\n",
      "video 1/1 (583/1231) /LAB/test3.mp4: 640x640 1 Tow_Truck, 1 Tow_Truck_with_vehicle, 6.3ms\n",
      "video 1/1 (584/1231) /LAB/test3.mp4: 640x640 2 Tow_Truck_with_vehicles, 6.3ms\n",
      "video 1/1 (585/1231) /LAB/test3.mp4: 640x640 2 Tow_Truck_with_vehicles, 6.0ms\n",
      "video 1/1 (586/1231) /LAB/test3.mp4: 640x640 2 Tow_Truck_with_vehicles, 6.3ms\n",
      "video 1/1 (587/1231) /LAB/test3.mp4: 640x640 1 Tow_Truck_with_vehicle, 6.2ms\n",
      "video 1/1 (588/1231) /LAB/test3.mp4: 640x640 1 Tow_Truck_with_vehicle, 6.3ms\n",
      "video 1/1 (589/1231) /LAB/test3.mp4: 640x640 1 Tow_Truck_with_vehicle, 6.2ms\n",
      "video 1/1 (590/1231) /LAB/test3.mp4: 640x640 1 Tow_Truck, 1 Tow_Truck_with_vehicle, 6.3ms\n",
      "video 1/1 (591/1231) /LAB/test3.mp4: 640x640 1 Tow_Truck, 1 Tow_Truck_with_vehicle, 6.1ms\n",
      "video 1/1 (592/1231) /LAB/test3.mp4: 640x640 1 Tow_Truck, 1 Tow_Truck_with_vehicle, 6.2ms\n",
      "video 1/1 (593/1231) /LAB/test3.mp4: 640x640 1 Tow_Truck, 1 Tow_Truck_with_vehicle, 6.1ms\n",
      "video 1/1 (594/1231) /LAB/test3.mp4: 640x640 1 Tow_Truck, 1 Tow_Truck_with_vehicle, 6.3ms\n",
      "video 1/1 (595/1231) /LAB/test3.mp4: 640x640 1 Tow_Truck, 6.2ms\n",
      "video 1/1 (596/1231) /LAB/test3.mp4: 640x640 1 Tow_Truck, 6.4ms\n",
      "video 1/1 (597/1231) /LAB/test3.mp4: 640x640 1 Tow_Truck_with_vehicle, 6.1ms\n",
      "video 1/1 (598/1231) /LAB/test3.mp4: 640x640 1 Tow_Truck_with_vehicle, 6.3ms\n",
      "video 1/1 (599/1231) /LAB/test3.mp4: 640x640 2 Tow_Truck_with_vehicles, 6.2ms\n",
      "video 1/1 (600/1231) /LAB/test3.mp4: 640x640 1 Tow_Truck_with_vehicle, 6.2ms\n",
      "video 1/1 (601/1231) /LAB/test3.mp4: 640x640 1 Tow_Truck_with_vehicle, 6.3ms\n",
      "video 1/1 (602/1231) /LAB/test3.mp4: 640x640 2 Tow_Truck_with_vehicles, 6.2ms\n",
      "video 1/1 (603/1231) /LAB/test3.mp4: 640x640 2 Tow_Truck_with_vehicles, 6.1ms\n",
      "video 1/1 (604/1231) /LAB/test3.mp4: 640x640 (no detections), 6.2ms\n",
      "video 1/1 (605/1231) /LAB/test3.mp4: 640x640 1 Tow_Truck, 1 Tow_Truck_with_vehicle, 7.9ms\n",
      "video 1/1 (606/1231) /LAB/test3.mp4: 640x640 1 Tow_Truck, 1 Tow_Truck_with_vehicle, 6.8ms\n",
      "video 1/1 (607/1231) /LAB/test3.mp4: 640x640 1 Tow_Truck_with_vehicle, 6.2ms\n",
      "video 1/1 (608/1231) /LAB/test3.mp4: 640x640 1 Tow_Truck, 1 Tow_Truck_with_vehicle, 6.3ms\n",
      "video 1/1 (609/1231) /LAB/test3.mp4: 640x640 (no detections), 6.1ms\n",
      "video 1/1 (610/1231) /LAB/test3.mp4: 640x640 1 Tow_Truck_with_vehicle, 6.2ms\n",
      "video 1/1 (611/1231) /LAB/test3.mp4: 640x640 1 Tow_Truck_with_vehicle, 6.1ms\n",
      "video 1/1 (612/1231) /LAB/test3.mp4: 640x640 2 Tow_Truck_with_vehicles, 6.1ms\n",
      "video 1/1 (613/1231) /LAB/test3.mp4: 640x640 2 Tow_Truck_with_vehicles, 6.2ms\n",
      "video 1/1 (614/1231) /LAB/test3.mp4: 640x640 1 Tow_Truck_with_vehicle, 6.1ms\n",
      "video 1/1 (615/1231) /LAB/test3.mp4: 640x640 1 Tow_Truck, 6.0ms\n",
      "video 1/1 (616/1231) /LAB/test3.mp4: 640x640 1 Tow_Truck, 6.2ms\n",
      "video 1/1 (617/1231) /LAB/test3.mp4: 640x640 1 Tow_Truck, 6.2ms\n",
      "video 1/1 (618/1231) /LAB/test3.mp4: 640x640 1 Tow_Truck_with_vehicle, 6.3ms\n",
      "video 1/1 (619/1231) /LAB/test3.mp4: 640x640 1 Tow_Truck_with_vehicle, 6.2ms\n",
      "video 1/1 (620/1231) /LAB/test3.mp4: 640x640 1 Tow_Truck_with_vehicle, 6.3ms\n",
      "video 1/1 (621/1231) /LAB/test3.mp4: 640x640 1 Tow_Truck_with_vehicle, 6.1ms\n",
      "video 1/1 (622/1231) /LAB/test3.mp4: 640x640 1 Tow_Truck_with_vehicle, 6.1ms\n",
      "video 1/1 (623/1231) /LAB/test3.mp4: 640x640 1 Tow_Truck_with_vehicle, 6.1ms\n",
      "video 1/1 (624/1231) /LAB/test3.mp4: 640x640 1 Tow_Truck_with_vehicle, 6.1ms\n",
      "video 1/1 (625/1231) /LAB/test3.mp4: 640x640 1 Tow_Truck_with_vehicle, 6.3ms\n",
      "video 1/1 (626/1231) /LAB/test3.mp4: 640x640 1 Tow_Truck_with_vehicle, 6.2ms\n",
      "video 1/1 (627/1231) /LAB/test3.mp4: 640x640 1 Tow_Truck_with_vehicle, 6.2ms\n",
      "video 1/1 (628/1231) /LAB/test3.mp4: 640x640 1 Tow_Truck_with_vehicle, 6.2ms\n",
      "video 1/1 (629/1231) /LAB/test3.mp4: 640x640 1 Tow_Truck_with_vehicle, 6.1ms\n",
      "video 1/1 (630/1231) /LAB/test3.mp4: 640x640 1 Tow_Truck_with_vehicle, 6.2ms\n",
      "video 1/1 (631/1231) /LAB/test3.mp4: 640x640 1 Tow_Truck_with_vehicle, 6.2ms\n",
      "video 1/1 (632/1231) /LAB/test3.mp4: 640x640 1 Tow_Truck_with_vehicle, 6.1ms\n",
      "video 1/1 (633/1231) /LAB/test3.mp4: 640x640 1 Tow_Truck_with_vehicle, 6.3ms\n",
      "video 1/1 (634/1231) /LAB/test3.mp4: 640x640 1 Tow_Truck, 1 Tow_Truck_with_vehicle, 6.3ms\n",
      "video 1/1 (635/1231) /LAB/test3.mp4: 640x640 1 Tow_Truck, 1 Tow_Truck_with_vehicle, 6.2ms\n",
      "video 1/1 (636/1231) /LAB/test3.mp4: 640x640 1 Tow_Truck, 1 Tow_Truck_with_vehicle, 6.3ms\n",
      "video 1/1 (637/1231) /LAB/test3.mp4: 640x640 1 Tow_Truck, 1 Tow_Truck_with_vehicle, 6.2ms\n",
      "video 1/1 (638/1231) /LAB/test3.mp4: 640x640 1 Tow_Truck_with_vehicle, 6.2ms\n",
      "video 1/1 (639/1231) /LAB/test3.mp4: 640x640 1 Tow_Truck_with_vehicle, 6.2ms\n",
      "video 1/1 (640/1231) /LAB/test3.mp4: 640x640 1 Tow_Truck_with_vehicle, 6.1ms\n",
      "video 1/1 (641/1231) /LAB/test3.mp4: 640x640 1 Tow_Truck_with_vehicle, 6.2ms\n",
      "video 1/1 (642/1231) /LAB/test3.mp4: 640x640 1 Tow_Truck_with_vehicle, 6.3ms\n",
      "video 1/1 (643/1231) /LAB/test3.mp4: 640x640 2 Tow_Truck_with_vehicles, 6.4ms\n",
      "video 1/1 (644/1231) /LAB/test3.mp4: 640x640 2 Tow_Truck_with_vehicles, 6.3ms\n",
      "video 1/1 (645/1231) /LAB/test3.mp4: 640x640 1 Tow_Truck_with_vehicle, 6.1ms\n",
      "video 1/1 (646/1231) /LAB/test3.mp4: 640x640 1 Tow_Truck_with_vehicle, 6.1ms\n",
      "video 1/1 (647/1231) /LAB/test3.mp4: 640x640 1 Tow_Truck_with_vehicle, 6.1ms\n",
      "video 1/1 (648/1231) /LAB/test3.mp4: 640x640 1 Tow_Truck, 1 Tow_Truck_with_vehicle, 6.4ms\n",
      "video 1/1 (649/1231) /LAB/test3.mp4: 640x640 1 Tow_Truck_with_vehicle, 6.3ms\n",
      "video 1/1 (650/1231) /LAB/test3.mp4: 640x640 1 Tow_Truck_with_vehicle, 6.2ms\n",
      "video 1/1 (651/1231) /LAB/test3.mp4: 640x640 1 Tow_Truck_with_vehicle, 6.2ms\n",
      "video 1/1 (652/1231) /LAB/test3.mp4: 640x640 1 Tow_Truck_with_vehicle, 6.1ms\n",
      "video 1/1 (653/1231) /LAB/test3.mp4: 640x640 1 Tow_Truck_with_vehicle, 6.2ms\n",
      "video 1/1 (654/1231) /LAB/test3.mp4: 640x640 1 Tow_Truck_with_vehicle, 6.1ms\n",
      "video 1/1 (655/1231) /LAB/test3.mp4: 640x640 2 Tow_Truck_with_vehicles, 6.1ms\n",
      "video 1/1 (656/1231) /LAB/test3.mp4: 640x640 2 Tow_Truck_with_vehicles, 6.1ms\n",
      "video 1/1 (657/1231) /LAB/test3.mp4: 640x640 1 Tow_Truck_with_vehicle, 6.1ms\n",
      "video 1/1 (658/1231) /LAB/test3.mp4: 640x640 1 Tow_Truck_with_vehicle, 6.2ms\n",
      "video 1/1 (659/1231) /LAB/test3.mp4: 640x640 1 Tow_Truck_with_vehicle, 6.2ms\n",
      "video 1/1 (660/1231) /LAB/test3.mp4: 640x640 1 Tow_Truck_with_vehicle, 6.2ms\n",
      "video 1/1 (661/1231) /LAB/test3.mp4: 640x640 1 Tow_Truck_with_vehicle, 6.1ms\n",
      "video 1/1 (662/1231) /LAB/test3.mp4: 640x640 (no detections), 6.1ms\n",
      "video 1/1 (663/1231) /LAB/test3.mp4: 640x640 1 Tow_Truck_with_vehicle, 6.2ms\n",
      "video 1/1 (664/1231) /LAB/test3.mp4: 640x640 (no detections), 6.3ms\n",
      "video 1/1 (665/1231) /LAB/test3.mp4: 640x640 (no detections), 6.1ms\n",
      "video 1/1 (666/1231) /LAB/test3.mp4: 640x640 (no detections), 6.2ms\n",
      "video 1/1 (667/1231) /LAB/test3.mp4: 640x640 1 Tow_Truck, 1 Tow_Truck_with_vehicle, 6.1ms\n",
      "video 1/1 (668/1231) /LAB/test3.mp4: 640x640 1 Tow_Truck_with_vehicle, 6.3ms\n",
      "video 1/1 (669/1231) /LAB/test3.mp4: 640x640 1 Tow_Truck_with_vehicle, 6.2ms\n",
      "video 1/1 (670/1231) /LAB/test3.mp4: 640x640 1 Tow_Truck_with_vehicle, 6.2ms\n",
      "video 1/1 (671/1231) /LAB/test3.mp4: 640x640 1 Tow_Truck_with_vehicle, 6.2ms\n",
      "video 1/1 (672/1231) /LAB/test3.mp4: 640x640 1 Tow_Truck_with_vehicle, 6.1ms\n",
      "video 1/1 (673/1231) /LAB/test3.mp4: 640x640 (no detections), 6.1ms\n",
      "video 1/1 (674/1231) /LAB/test3.mp4: 640x640 (no detections), 6.2ms\n",
      "video 1/1 (675/1231) /LAB/test3.mp4: 640x640 (no detections), 6.2ms\n",
      "video 1/1 (676/1231) /LAB/test3.mp4: 640x640 (no detections), 6.2ms\n",
      "video 1/1 (677/1231) /LAB/test3.mp4: 640x640 (no detections), 6.1ms\n",
      "video 1/1 (678/1231) /LAB/test3.mp4: 640x640 (no detections), 6.1ms\n",
      "video 1/1 (679/1231) /LAB/test3.mp4: 640x640 (no detections), 6.2ms\n",
      "video 1/1 (680/1231) /LAB/test3.mp4: 640x640 (no detections), 6.1ms\n",
      "video 1/1 (681/1231) /LAB/test3.mp4: 640x640 (no detections), 6.2ms\n",
      "video 1/1 (682/1231) /LAB/test3.mp4: 640x640 (no detections), 6.2ms\n",
      "video 1/1 (683/1231) /LAB/test3.mp4: 640x640 (no detections), 6.4ms\n",
      "video 1/1 (684/1231) /LAB/test3.mp4: 640x640 (no detections), 6.2ms\n",
      "video 1/1 (685/1231) /LAB/test3.mp4: 640x640 (no detections), 6.0ms\n",
      "video 1/1 (686/1231) /LAB/test3.mp4: 640x640 (no detections), 6.1ms\n",
      "video 1/1 (687/1231) /LAB/test3.mp4: 640x640 (no detections), 6.1ms\n",
      "video 1/1 (688/1231) /LAB/test3.mp4: 640x640 (no detections), 6.1ms\n",
      "video 1/1 (689/1231) /LAB/test3.mp4: 640x640 1 Tow_Truck_with_vehicle, 6.0ms\n",
      "video 1/1 (690/1231) /LAB/test3.mp4: 640x640 2 Tow_Truck_with_vehicles, 6.3ms\n",
      "video 1/1 (691/1231) /LAB/test3.mp4: 640x640 2 Tow_Truck_with_vehicles, 6.2ms\n",
      "video 1/1 (692/1231) /LAB/test3.mp4: 640x640 1 Tow_Truck_with_vehicle, 6.1ms\n",
      "video 1/1 (693/1231) /LAB/test3.mp4: 640x640 2 Tow_Truck_with_vehicles, 6.3ms\n",
      "video 1/1 (694/1231) /LAB/test3.mp4: 640x640 1 Tow_Truck_with_vehicle, 6.2ms\n",
      "video 1/1 (695/1231) /LAB/test3.mp4: 640x640 1 Tow_Truck_with_vehicle, 6.2ms\n",
      "video 1/1 (696/1231) /LAB/test3.mp4: 640x640 1 Tow_Truck_with_vehicle, 6.2ms\n",
      "video 1/1 (697/1231) /LAB/test3.mp4: 640x640 1 Tow_Truck_with_vehicle, 6.3ms\n",
      "video 1/1 (698/1231) /LAB/test3.mp4: 640x640 1 Tow_Truck, 6.4ms\n",
      "video 1/1 (699/1231) /LAB/test3.mp4: 640x640 1 Tow_Truck_with_vehicle, 6.3ms\n",
      "video 1/1 (700/1231) /LAB/test3.mp4: 640x640 (no detections), 6.3ms\n",
      "video 1/1 (701/1231) /LAB/test3.mp4: 640x640 (no detections), 6.2ms\n",
      "video 1/1 (702/1231) /LAB/test3.mp4: 640x640 (no detections), 6.1ms\n",
      "video 1/1 (703/1231) /LAB/test3.mp4: 640x640 (no detections), 6.2ms\n",
      "video 1/1 (704/1231) /LAB/test3.mp4: 640x640 (no detections), 6.2ms\n",
      "video 1/1 (705/1231) /LAB/test3.mp4: 640x640 (no detections), 6.3ms\n",
      "video 1/1 (706/1231) /LAB/test3.mp4: 640x640 (no detections), 6.2ms\n",
      "video 1/1 (707/1231) /LAB/test3.mp4: 640x640 1 Tow_Truck, 6.2ms\n",
      "video 1/1 (708/1231) /LAB/test3.mp4: 640x640 (no detections), 6.1ms\n",
      "video 1/1 (709/1231) /LAB/test3.mp4: 640x640 (no detections), 6.2ms\n",
      "video 1/1 (710/1231) /LAB/test3.mp4: 640x640 1 Tow_Truck_with_vehicle, 6.2ms\n",
      "video 1/1 (711/1231) /LAB/test3.mp4: 640x640 1 Tow_Truck_with_vehicle, 6.1ms\n",
      "video 1/1 (712/1231) /LAB/test3.mp4: 640x640 1 Tow_Truck_with_vehicle, 6.1ms\n",
      "video 1/1 (713/1231) /LAB/test3.mp4: 640x640 (no detections), 6.1ms\n",
      "video 1/1 (714/1231) /LAB/test3.mp4: 640x640 (no detections), 6.3ms\n",
      "video 1/1 (715/1231) /LAB/test3.mp4: 640x640 (no detections), 6.1ms\n",
      "video 1/1 (716/1231) /LAB/test3.mp4: 640x640 (no detections), 6.1ms\n",
      "video 1/1 (717/1231) /LAB/test3.mp4: 640x640 (no detections), 6.2ms\n",
      "video 1/1 (718/1231) /LAB/test3.mp4: 640x640 1 Tow_Truck_with_vehicle, 6.2ms\n",
      "video 1/1 (719/1231) /LAB/test3.mp4: 640x640 (no detections), 7.1ms\n",
      "video 1/1 (720/1231) /LAB/test3.mp4: 640x640 1 Tow_Truck, 6.1ms\n",
      "video 1/1 (721/1231) /LAB/test3.mp4: 640x640 1 Tow_Truck, 6.0ms\n",
      "video 1/1 (722/1231) /LAB/test3.mp4: 640x640 (no detections), 6.3ms\n",
      "video 1/1 (723/1231) /LAB/test3.mp4: 640x640 1 Tow_Truck, 6.4ms\n",
      "video 1/1 (724/1231) /LAB/test3.mp4: 640x640 2 Tow_Truck_with_vehicles, 6.2ms\n",
      "video 1/1 (725/1231) /LAB/test3.mp4: 640x640 1 Tow_Truck, 1 Tow_Truck_with_vehicle, 6.3ms\n",
      "video 1/1 (726/1231) /LAB/test3.mp4: 640x640 1 Tow_Truck, 1 Tow_Truck_with_vehicle, 6.3ms\n",
      "video 1/1 (727/1231) /LAB/test3.mp4: 640x640 1 Tow_Truck, 1 Tow_Truck_with_vehicle, 6.2ms\n",
      "video 1/1 (728/1231) /LAB/test3.mp4: 640x640 1 Tow_Truck, 1 Tow_Truck_with_vehicle, 6.3ms\n",
      "video 1/1 (729/1231) /LAB/test3.mp4: 640x640 1 Tow_Truck, 1 Tow_Truck_with_vehicle, 6.1ms\n",
      "video 1/1 (730/1231) /LAB/test3.mp4: 640x640 1 Tow_Truck, 1 Tow_Truck_with_vehicle, 6.2ms\n",
      "video 1/1 (731/1231) /LAB/test3.mp4: 640x640 1 Tow_Truck, 1 Tow_Truck_with_vehicle, 6.1ms\n",
      "video 1/1 (732/1231) /LAB/test3.mp4: 640x640 1 Tow_Truck, 1 Tow_Truck_with_vehicle, 6.2ms\n",
      "video 1/1 (733/1231) /LAB/test3.mp4: 640x640 1 Tow_Truck, 6.3ms\n",
      "video 1/1 (734/1231) /LAB/test3.mp4: 640x640 1 Tow_Truck, 6.4ms\n",
      "video 1/1 (735/1231) /LAB/test3.mp4: 640x640 (no detections), 6.2ms\n",
      "video 1/1 (736/1231) /LAB/test3.mp4: 640x640 (no detections), 6.2ms\n",
      "video 1/1 (737/1231) /LAB/test3.mp4: 640x640 (no detections), 6.4ms\n",
      "video 1/1 (738/1231) /LAB/test3.mp4: 640x640 (no detections), 6.3ms\n",
      "video 1/1 (739/1231) /LAB/test3.mp4: 640x640 (no detections), 6.2ms\n",
      "video 1/1 (740/1231) /LAB/test3.mp4: 640x640 (no detections), 6.0ms\n",
      "video 1/1 (741/1231) /LAB/test3.mp4: 640x640 (no detections), 6.1ms\n",
      "video 1/1 (742/1231) /LAB/test3.mp4: 640x640 (no detections), 6.2ms\n",
      "video 1/1 (743/1231) /LAB/test3.mp4: 640x640 (no detections), 6.2ms\n",
      "video 1/1 (744/1231) /LAB/test3.mp4: 640x640 (no detections), 6.1ms\n",
      "video 1/1 (745/1231) /LAB/test3.mp4: 640x640 (no detections), 6.2ms\n",
      "video 1/1 (746/1231) /LAB/test3.mp4: 640x640 (no detections), 7.2ms\n",
      "video 1/1 (747/1231) /LAB/test3.mp4: 640x640 (no detections), 6.1ms\n",
      "video 1/1 (748/1231) /LAB/test3.mp4: 640x640 (no detections), 6.2ms\n",
      "video 1/1 (749/1231) /LAB/test3.mp4: 640x640 (no detections), 6.1ms\n",
      "video 1/1 (750/1231) /LAB/test3.mp4: 640x640 (no detections), 6.2ms\n",
      "video 1/1 (751/1231) /LAB/test3.mp4: 640x640 (no detections), 6.1ms\n",
      "video 1/1 (752/1231) /LAB/test3.mp4: 640x640 (no detections), 6.2ms\n",
      "video 1/1 (753/1231) /LAB/test3.mp4: 640x640 (no detections), 6.1ms\n",
      "video 1/1 (754/1231) /LAB/test3.mp4: 640x640 (no detections), 6.2ms\n",
      "video 1/1 (755/1231) /LAB/test3.mp4: 640x640 (no detections), 6.0ms\n",
      "video 1/1 (756/1231) /LAB/test3.mp4: 640x640 (no detections), 6.3ms\n",
      "video 1/1 (757/1231) /LAB/test3.mp4: 640x640 (no detections), 6.2ms\n",
      "video 1/1 (758/1231) /LAB/test3.mp4: 640x640 2 Tow_Truck_with_vehicles, 6.2ms\n",
      "video 1/1 (759/1231) /LAB/test3.mp4: 640x640 1 Tow_Truck_with_vehicle, 6.2ms\n",
      "video 1/1 (760/1231) /LAB/test3.mp4: 640x640 1 Tow_Truck_with_vehicle, 6.1ms\n",
      "video 1/1 (761/1231) /LAB/test3.mp4: 640x640 1 Tow_Truck_with_vehicle, 6.1ms\n",
      "video 1/1 (762/1231) /LAB/test3.mp4: 640x640 1 Tow_Truck, 1 Tow_Truck_with_vehicle, 6.2ms\n",
      "video 1/1 (763/1231) /LAB/test3.mp4: 640x640 1 Tow_Truck, 6.1ms\n",
      "video 1/1 (764/1231) /LAB/test3.mp4: 640x640 1 Tow_Truck, 6.2ms\n",
      "video 1/1 (765/1231) /LAB/test3.mp4: 640x640 1 Tow_Truck, 6.2ms\n",
      "video 1/1 (766/1231) /LAB/test3.mp4: 640x640 1 Tow_Truck, 6.2ms\n",
      "video 1/1 (767/1231) /LAB/test3.mp4: 640x640 1 Tow_Truck_with_vehicle, 6.1ms\n",
      "video 1/1 (768/1231) /LAB/test3.mp4: 640x640 1 Tow_Truck_with_vehicle, 6.2ms\n",
      "video 1/1 (769/1231) /LAB/test3.mp4: 640x640 1 Tow_Truck_with_vehicle, 6.1ms\n",
      "video 1/1 (770/1231) /LAB/test3.mp4: 640x640 1 Tow_Truck_with_vehicle, 6.2ms\n",
      "video 1/1 (771/1231) /LAB/test3.mp4: 640x640 1 Tow_Truck_with_vehicle, 6.2ms\n",
      "video 1/1 (772/1231) /LAB/test3.mp4: 640x640 1 Tow_Truck, 1 Tow_Truck_with_vehicle, 6.1ms\n",
      "video 1/1 (773/1231) /LAB/test3.mp4: 640x640 1 Tow_Truck, 1 Tow_Truck_with_vehicle, 6.3ms\n",
      "video 1/1 (774/1231) /LAB/test3.mp4: 640x640 1 Tow_Truck, 1 Tow_Truck_with_vehicle, 6.4ms\n",
      "video 1/1 (775/1231) /LAB/test3.mp4: 640x640 1 Tow_Truck_with_vehicle, 6.3ms\n",
      "video 1/1 (776/1231) /LAB/test3.mp4: 640x640 1 Tow_Truck_with_vehicle, 6.2ms\n",
      "video 1/1 (777/1231) /LAB/test3.mp4: 640x640 1 Tow_Truck, 6.2ms\n",
      "video 1/1 (778/1231) /LAB/test3.mp4: 640x640 1 Tow_Truck, 6.3ms\n",
      "video 1/1 (779/1231) /LAB/test3.mp4: 640x640 1 Tow_Truck, 6.2ms\n",
      "video 1/1 (780/1231) /LAB/test3.mp4: 640x640 1 Tow_Truck, 6.2ms\n",
      "video 1/1 (781/1231) /LAB/test3.mp4: 640x640 1 Tow_Truck, 6.1ms\n",
      "video 1/1 (782/1231) /LAB/test3.mp4: 640x640 1 Tow_Truck, 1 Tow_Truck_with_vehicle, 6.3ms\n",
      "video 1/1 (783/1231) /LAB/test3.mp4: 640x640 1 Tow_Truck, 1 Tow_Truck_with_vehicle, 6.2ms\n",
      "video 1/1 (784/1231) /LAB/test3.mp4: 640x640 1 Tow_Truck, 1 Tow_Truck_with_vehicle, 6.2ms\n",
      "video 1/1 (785/1231) /LAB/test3.mp4: 640x640 1 Tow_Truck_with_vehicle, 6.1ms\n",
      "video 1/1 (786/1231) /LAB/test3.mp4: 640x640 1 Tow_Truck_with_vehicle, 6.2ms\n",
      "video 1/1 (787/1231) /LAB/test3.mp4: 640x640 1 Tow_Truck, 1 Tow_Truck_with_vehicle, 6.2ms\n",
      "video 1/1 (788/1231) /LAB/test3.mp4: 640x640 1 Tow_Truck, 1 Tow_Truck_with_vehicle, 6.3ms\n",
      "video 1/1 (789/1231) /LAB/test3.mp4: 640x640 1 Tow_Truck, 1 Tow_Truck_with_vehicle, 6.2ms\n",
      "video 1/1 (790/1231) /LAB/test3.mp4: 640x640 2 Tow_Trucks, 1 Tow_Truck_with_vehicle, 6.1ms\n",
      "video 1/1 (791/1231) /LAB/test3.mp4: 640x640 2 Tow_Trucks, 1 Tow_Truck_with_vehicle, 6.2ms\n",
      "video 1/1 (792/1231) /LAB/test3.mp4: 640x640 1 Tow_Truck, 1 Tow_Truck_with_vehicle, 6.2ms\n",
      "video 1/1 (793/1231) /LAB/test3.mp4: 640x640 1 Tow_Truck_with_vehicle, 6.1ms\n",
      "video 1/1 (794/1231) /LAB/test3.mp4: 640x640 2 Tow_Trucks, 6.2ms\n",
      "video 1/1 (795/1231) /LAB/test3.mp4: 640x640 1 Tow_Truck, 6.1ms\n",
      "video 1/1 (796/1231) /LAB/test3.mp4: 640x640 1 Tow_Truck, 6.1ms\n",
      "video 1/1 (797/1231) /LAB/test3.mp4: 640x640 1 Tow_Truck, 1 Tow_Truck_with_vehicle, 6.1ms\n",
      "video 1/1 (798/1231) /LAB/test3.mp4: 640x640 1 Tow_Truck, 1 Tow_Truck_with_vehicle, 6.1ms\n",
      "video 1/1 (799/1231) /LAB/test3.mp4: 640x640 1 Tow_Truck_with_vehicle, 6.1ms\n",
      "video 1/1 (800/1231) /LAB/test3.mp4: 640x640 1 Tow_Truck_with_vehicle, 6.1ms\n",
      "video 1/1 (801/1231) /LAB/test3.mp4: 640x640 1 Tow_Truck_with_vehicle, 6.0ms\n",
      "video 1/1 (802/1231) /LAB/test3.mp4: 640x640 1 Tow_Truck_with_vehicle, 6.2ms\n",
      "video 1/1 (803/1231) /LAB/test3.mp4: 640x640 1 Tow_Truck_with_vehicle, 6.1ms\n",
      "video 1/1 (804/1231) /LAB/test3.mp4: 640x640 1 Tow_Truck_with_vehicle, 6.2ms\n",
      "video 1/1 (805/1231) /LAB/test3.mp4: 640x640 1 Tow_Truck_with_vehicle, 6.2ms\n",
      "video 1/1 (806/1231) /LAB/test3.mp4: 640x640 1 Tow_Truck_with_vehicle, 6.1ms\n",
      "video 1/1 (807/1231) /LAB/test3.mp4: 640x640 1 Tow_Truck_with_vehicle, 6.2ms\n",
      "video 1/1 (808/1231) /LAB/test3.mp4: 640x640 1 Tow_Truck_with_vehicle, 6.1ms\n",
      "video 1/1 (809/1231) /LAB/test3.mp4: 640x640 1 Tow_Truck_with_vehicle, 6.2ms\n",
      "video 1/1 (810/1231) /LAB/test3.mp4: 640x640 1 Tow_Truck_with_vehicle, 6.1ms\n",
      "video 1/1 (811/1231) /LAB/test3.mp4: 640x640 1 Tow_Truck_with_vehicle, 6.1ms\n",
      "video 1/1 (812/1231) /LAB/test3.mp4: 640x640 1 Tow_Truck_with_vehicle, 6.1ms\n",
      "video 1/1 (813/1231) /LAB/test3.mp4: 640x640 (no detections), 6.2ms\n",
      "video 1/1 (814/1231) /LAB/test3.mp4: 640x640 2 Tow_Truck_with_vehicles, 6.3ms\n",
      "video 1/1 (815/1231) /LAB/test3.mp4: 640x640 (no detections), 6.1ms\n",
      "video 1/1 (816/1231) /LAB/test3.mp4: 640x640 (no detections), 6.1ms\n",
      "video 1/1 (817/1231) /LAB/test3.mp4: 640x640 (no detections), 6.3ms\n",
      "video 1/1 (818/1231) /LAB/test3.mp4: 640x640 (no detections), 6.3ms\n",
      "video 1/1 (819/1231) /LAB/test3.mp4: 640x640 1 Tow_Truck, 6.1ms\n",
      "video 1/1 (820/1231) /LAB/test3.mp4: 640x640 (no detections), 6.3ms\n",
      "video 1/1 (821/1231) /LAB/test3.mp4: 640x640 (no detections), 6.1ms\n",
      "video 1/1 (822/1231) /LAB/test3.mp4: 640x640 (no detections), 6.2ms\n",
      "video 1/1 (823/1231) /LAB/test3.mp4: 640x640 1 Tow_Truck_with_vehicle, 7.1ms\n",
      "video 1/1 (824/1231) /LAB/test3.mp4: 640x640 1 Tow_Truck_with_vehicle, 6.3ms\n",
      "video 1/1 (825/1231) /LAB/test3.mp4: 640x640 1 Tow_Truck_with_vehicle, 6.2ms\n",
      "video 1/1 (826/1231) /LAB/test3.mp4: 640x640 1 Tow_Truck_with_vehicle, 6.1ms\n",
      "video 1/1 (827/1231) /LAB/test3.mp4: 640x640 (no detections), 6.2ms\n",
      "video 1/1 (828/1231) /LAB/test3.mp4: 640x640 1 Tow_Truck_with_vehicle, 6.1ms\n",
      "video 1/1 (829/1231) /LAB/test3.mp4: 640x640 1 Tow_Truck_with_vehicle, 6.2ms\n",
      "video 1/1 (830/1231) /LAB/test3.mp4: 640x640 (no detections), 6.2ms\n",
      "video 1/1 (831/1231) /LAB/test3.mp4: 640x640 (no detections), 6.3ms\n",
      "video 1/1 (832/1231) /LAB/test3.mp4: 640x640 1 Tow_Truck, 7.1ms\n",
      "video 1/1 (833/1231) /LAB/test3.mp4: 640x640 1 Tow_Truck, 1 Tow_Truck_with_vehicle, 6.1ms\n",
      "video 1/1 (834/1231) /LAB/test3.mp4: 640x640 1 Tow_Truck, 1 Tow_Truck_with_vehicle, 6.2ms\n",
      "video 1/1 (835/1231) /LAB/test3.mp4: 640x640 1 Tow_Truck_with_vehicle, 6.2ms\n",
      "video 1/1 (836/1231) /LAB/test3.mp4: 640x640 1 Tow_Truck_with_vehicle, 6.2ms\n",
      "video 1/1 (837/1231) /LAB/test3.mp4: 640x640 1 Tow_Truck_with_vehicle, 6.2ms\n",
      "video 1/1 (838/1231) /LAB/test3.mp4: 640x640 1 Tow_Truck_with_vehicle, 6.2ms\n",
      "video 1/1 (839/1231) /LAB/test3.mp4: 640x640 1 Tow_Truck_with_vehicle, 6.2ms\n",
      "video 1/1 (840/1231) /LAB/test3.mp4: 640x640 1 Tow_Truck_with_vehicle, 6.1ms\n",
      "video 1/1 (841/1231) /LAB/test3.mp4: 640x640 1 Tow_Truck_with_vehicle, 6.2ms\n",
      "video 1/1 (842/1231) /LAB/test3.mp4: 640x640 1 Tow_Truck, 6.2ms\n",
      "video 1/1 (843/1231) /LAB/test3.mp4: 640x640 1 Tow_Truck, 6.3ms\n",
      "video 1/1 (844/1231) /LAB/test3.mp4: 640x640 1 Tow_Truck_with_vehicle, 6.3ms\n",
      "video 1/1 (845/1231) /LAB/test3.mp4: 640x640 1 Tow_Truck_with_vehicle, 6.3ms\n",
      "video 1/1 (846/1231) /LAB/test3.mp4: 640x640 1 Tow_Truck_with_vehicle, 6.1ms\n",
      "video 1/1 (847/1231) /LAB/test3.mp4: 640x640 1 Tow_Truck_with_vehicle, 6.1ms\n",
      "video 1/1 (848/1231) /LAB/test3.mp4: 640x640 1 Tow_Truck, 1 Tow_Truck_with_vehicle, 6.1ms\n",
      "video 1/1 (849/1231) /LAB/test3.mp4: 640x640 1 Tow_Truck, 6.2ms\n",
      "video 1/1 (850/1231) /LAB/test3.mp4: 640x640 1 Tow_Truck, 6.2ms\n",
      "video 1/1 (851/1231) /LAB/test3.mp4: 640x640 1 Tow_Truck_with_vehicle, 6.2ms\n",
      "video 1/1 (852/1231) /LAB/test3.mp4: 640x640 1 Tow_Truck, 6.1ms\n",
      "video 1/1 (853/1231) /LAB/test3.mp4: 640x640 (no detections), 6.2ms\n",
      "video 1/1 (854/1231) /LAB/test3.mp4: 640x640 (no detections), 6.1ms\n",
      "video 1/1 (855/1231) /LAB/test3.mp4: 640x640 (no detections), 6.3ms\n",
      "video 1/1 (856/1231) /LAB/test3.mp4: 640x640 1 Tow_Truck, 6.2ms\n",
      "video 1/1 (857/1231) /LAB/test3.mp4: 640x640 1 Tow_Truck, 6.0ms\n",
      "video 1/1 (858/1231) /LAB/test3.mp4: 640x640 1 Tow_Truck_with_vehicle, 6.3ms\n",
      "video 1/1 (859/1231) /LAB/test3.mp4: 640x640 (no detections), 6.1ms\n",
      "video 1/1 (860/1231) /LAB/test3.mp4: 640x640 (no detections), 6.1ms\n",
      "video 1/1 (861/1231) /LAB/test3.mp4: 640x640 (no detections), 6.2ms\n",
      "video 1/1 (862/1231) /LAB/test3.mp4: 640x640 1 Tow_Truck_with_vehicle, 6.3ms\n",
      "video 1/1 (863/1231) /LAB/test3.mp4: 640x640 1 Tow_Truck_with_vehicle, 6.2ms\n",
      "video 1/1 (864/1231) /LAB/test3.mp4: 640x640 1 Tow_Truck_with_vehicle, 6.3ms\n",
      "video 1/1 (865/1231) /LAB/test3.mp4: 640x640 (no detections), 6.1ms\n",
      "video 1/1 (866/1231) /LAB/test3.mp4: 640x640 1 Tow_Truck_with_vehicle, 6.4ms\n",
      "video 1/1 (867/1231) /LAB/test3.mp4: 640x640 (no detections), 6.1ms\n",
      "video 1/1 (868/1231) /LAB/test3.mp4: 640x640 (no detections), 6.1ms\n",
      "video 1/1 (869/1231) /LAB/test3.mp4: 640x640 (no detections), 6.2ms\n",
      "video 1/1 (870/1231) /LAB/test3.mp4: 640x640 (no detections), 6.2ms\n",
      "video 1/1 (871/1231) /LAB/test3.mp4: 640x640 (no detections), 6.2ms\n",
      "video 1/1 (872/1231) /LAB/test3.mp4: 640x640 (no detections), 6.1ms\n",
      "video 1/1 (873/1231) /LAB/test3.mp4: 640x640 (no detections), 6.1ms\n",
      "video 1/1 (874/1231) /LAB/test3.mp4: 640x640 (no detections), 6.0ms\n",
      "video 1/1 (875/1231) /LAB/test3.mp4: 640x640 (no detections), 6.0ms\n",
      "video 1/1 (876/1231) /LAB/test3.mp4: 640x640 (no detections), 6.0ms\n",
      "video 1/1 (877/1231) /LAB/test3.mp4: 640x640 (no detections), 6.1ms\n",
      "video 1/1 (878/1231) /LAB/test3.mp4: 640x640 (no detections), 7.1ms\n",
      "video 1/1 (879/1231) /LAB/test3.mp4: 640x640 (no detections), 6.0ms\n",
      "video 1/1 (880/1231) /LAB/test3.mp4: 640x640 (no detections), 6.0ms\n",
      "video 1/1 (881/1231) /LAB/test3.mp4: 640x640 (no detections), 6.0ms\n",
      "video 1/1 (882/1231) /LAB/test3.mp4: 640x640 (no detections), 6.2ms\n",
      "video 1/1 (883/1231) /LAB/test3.mp4: 640x640 (no detections), 6.1ms\n",
      "video 1/1 (884/1231) /LAB/test3.mp4: 640x640 (no detections), 6.1ms\n",
      "video 1/1 (885/1231) /LAB/test3.mp4: 640x640 (no detections), 6.0ms\n",
      "video 1/1 (886/1231) /LAB/test3.mp4: 640x640 (no detections), 6.3ms\n",
      "video 1/1 (887/1231) /LAB/test3.mp4: 640x640 (no detections), 6.1ms\n",
      "video 1/1 (888/1231) /LAB/test3.mp4: 640x640 (no detections), 6.9ms\n",
      "video 1/1 (889/1231) /LAB/test3.mp4: 640x640 (no detections), 6.2ms\n",
      "video 1/1 (890/1231) /LAB/test3.mp4: 640x640 (no detections), 6.1ms\n",
      "video 1/1 (891/1231) /LAB/test3.mp4: 640x640 (no detections), 6.1ms\n",
      "video 1/1 (892/1231) /LAB/test3.mp4: 640x640 (no detections), 6.3ms\n",
      "video 1/1 (893/1231) /LAB/test3.mp4: 640x640 (no detections), 6.1ms\n",
      "video 1/1 (894/1231) /LAB/test3.mp4: 640x640 (no detections), 6.1ms\n",
      "video 1/1 (895/1231) /LAB/test3.mp4: 640x640 (no detections), 6.2ms\n",
      "video 1/1 (896/1231) /LAB/test3.mp4: 640x640 (no detections), 6.1ms\n",
      "video 1/1 (897/1231) /LAB/test3.mp4: 640x640 (no detections), 6.1ms\n",
      "video 1/1 (898/1231) /LAB/test3.mp4: 640x640 (no detections), 6.3ms\n",
      "video 1/1 (899/1231) /LAB/test3.mp4: 640x640 (no detections), 6.1ms\n",
      "video 1/1 (900/1231) /LAB/test3.mp4: 640x640 1 Tow_Truck_with_vehicle, 6.3ms\n",
      "video 1/1 (901/1231) /LAB/test3.mp4: 640x640 1 Tow_Truck_with_vehicle, 6.2ms\n",
      "video 1/1 (902/1231) /LAB/test3.mp4: 640x640 (no detections), 6.1ms\n",
      "video 1/1 (903/1231) /LAB/test3.mp4: 640x640 (no detections), 6.0ms\n",
      "video 1/1 (904/1231) /LAB/test3.mp4: 640x640 1 Tow_Truck_with_vehicle, 6.1ms\n",
      "video 1/1 (905/1231) /LAB/test3.mp4: 640x640 1 Tow_Truck_with_vehicle, 6.2ms\n",
      "video 1/1 (906/1231) /LAB/test3.mp4: 640x640 1 Tow_Truck_with_vehicle, 6.1ms\n",
      "video 1/1 (907/1231) /LAB/test3.mp4: 640x640 1 Tow_Truck_with_vehicle, 6.3ms\n",
      "video 1/1 (908/1231) /LAB/test3.mp4: 640x640 1 Tow_Truck_with_vehicle, 6.1ms\n",
      "video 1/1 (909/1231) /LAB/test3.mp4: 640x640 (no detections), 6.1ms\n",
      "video 1/1 (910/1231) /LAB/test3.mp4: 640x640 (no detections), 6.3ms\n",
      "video 1/1 (911/1231) /LAB/test3.mp4: 640x640 1 Tow_Truck_with_vehicle, 6.2ms\n",
      "video 1/1 (912/1231) /LAB/test3.mp4: 640x640 1 Tow_Truck_with_vehicle, 6.2ms\n",
      "video 1/1 (913/1231) /LAB/test3.mp4: 640x640 1 Tow_Truck_with_vehicle, 6.3ms\n",
      "video 1/1 (914/1231) /LAB/test3.mp4: 640x640 (no detections), 6.2ms\n",
      "video 1/1 (915/1231) /LAB/test3.mp4: 640x640 (no detections), 6.1ms\n",
      "video 1/1 (916/1231) /LAB/test3.mp4: 640x640 (no detections), 6.5ms\n",
      "video 1/1 (917/1231) /LAB/test3.mp4: 640x640 1 Tow_Truck_with_vehicle, 6.1ms\n",
      "video 1/1 (918/1231) /LAB/test3.mp4: 640x640 1 Tow_Truck_with_vehicle, 6.1ms\n",
      "video 1/1 (919/1231) /LAB/test3.mp4: 640x640 1 Tow_Truck_with_vehicle, 6.3ms\n",
      "video 1/1 (920/1231) /LAB/test3.mp4: 640x640 1 Tow_Truck_with_vehicle, 6.0ms\n",
      "video 1/1 (921/1231) /LAB/test3.mp4: 640x640 1 Tow_Truck_with_vehicle, 6.3ms\n",
      "video 1/1 (922/1231) /LAB/test3.mp4: 640x640 1 Tow_Truck_with_vehicle, 6.0ms\n",
      "video 1/1 (923/1231) /LAB/test3.mp4: 640x640 1 Tow_Truck_with_vehicle, 6.3ms\n",
      "video 1/1 (924/1231) /LAB/test3.mp4: 640x640 1 Tow_Truck_with_vehicle, 6.4ms\n",
      "video 1/1 (925/1231) /LAB/test3.mp4: 640x640 1 Tow_Truck_with_vehicle, 6.2ms\n",
      "video 1/1 (926/1231) /LAB/test3.mp4: 640x640 1 Tow_Truck_with_vehicle, 6.1ms\n",
      "video 1/1 (927/1231) /LAB/test3.mp4: 640x640 1 Tow_Truck_with_vehicle, 6.2ms\n",
      "video 1/1 (928/1231) /LAB/test3.mp4: 640x640 1 Tow_Truck_with_vehicle, 6.1ms\n",
      "video 1/1 (929/1231) /LAB/test3.mp4: 640x640 1 Tow_Truck_with_vehicle, 6.2ms\n",
      "video 1/1 (930/1231) /LAB/test3.mp4: 640x640 (no detections), 6.2ms\n",
      "video 1/1 (931/1231) /LAB/test3.mp4: 640x640 (no detections), 6.3ms\n",
      "video 1/1 (932/1231) /LAB/test3.mp4: 640x640 1 Tow_Truck_with_vehicle, 6.1ms\n",
      "video 1/1 (933/1231) /LAB/test3.mp4: 640x640 1 Tow_Truck_with_vehicle, 6.3ms\n",
      "video 1/1 (934/1231) /LAB/test3.mp4: 640x640 1 Tow_Truck_with_vehicle, 6.3ms\n",
      "video 1/1 (935/1231) /LAB/test3.mp4: 640x640 1 Tow_Truck_with_vehicle, 6.2ms\n",
      "video 1/1 (936/1231) /LAB/test3.mp4: 640x640 1 Tow_Truck_with_vehicle, 6.2ms\n",
      "video 1/1 (937/1231) /LAB/test3.mp4: 640x640 1 Tow_Truck_with_vehicle, 6.1ms\n",
      "video 1/1 (938/1231) /LAB/test3.mp4: 640x640 1 Tow_Truck_with_vehicle, 6.2ms\n",
      "video 1/1 (939/1231) /LAB/test3.mp4: 640x640 1 Tow_Truck_with_vehicle, 6.1ms\n",
      "video 1/1 (940/1231) /LAB/test3.mp4: 640x640 (no detections), 6.2ms\n",
      "video 1/1 (941/1231) /LAB/test3.mp4: 640x640 1 Tow_Truck_with_vehicle, 6.1ms\n",
      "video 1/1 (942/1231) /LAB/test3.mp4: 640x640 1 Tow_Truck_with_vehicle, 6.1ms\n",
      "video 1/1 (943/1231) /LAB/test3.mp4: 640x640 1 Tow_Truck_with_vehicle, 6.4ms\n",
      "video 1/1 (944/1231) /LAB/test3.mp4: 640x640 1 Tow_Truck_with_vehicle, 6.1ms\n",
      "video 1/1 (945/1231) /LAB/test3.mp4: 640x640 1 Tow_Truck_with_vehicle, 5.9ms\n",
      "video 1/1 (946/1231) /LAB/test3.mp4: 640x640 (no detections), 6.2ms\n",
      "video 1/1 (947/1231) /LAB/test3.mp4: 640x640 (no detections), 6.1ms\n",
      "video 1/1 (948/1231) /LAB/test3.mp4: 640x640 (no detections), 6.2ms\n",
      "video 1/1 (949/1231) /LAB/test3.mp4: 640x640 1 Tow_Truck_with_vehicle, 6.2ms\n",
      "video 1/1 (950/1231) /LAB/test3.mp4: 640x640 (no detections), 6.3ms\n",
      "video 1/1 (951/1231) /LAB/test3.mp4: 640x640 (no detections), 6.2ms\n",
      "video 1/1 (952/1231) /LAB/test3.mp4: 640x640 (no detections), 8.5ms\n",
      "video 1/1 (953/1231) /LAB/test3.mp4: 640x640 (no detections), 6.1ms\n",
      "video 1/1 (954/1231) /LAB/test3.mp4: 640x640 (no detections), 6.2ms\n",
      "video 1/1 (955/1231) /LAB/test3.mp4: 640x640 (no detections), 6.2ms\n",
      "video 1/1 (956/1231) /LAB/test3.mp4: 640x640 (no detections), 6.1ms\n",
      "video 1/1 (957/1231) /LAB/test3.mp4: 640x640 (no detections), 6.1ms\n",
      "video 1/1 (958/1231) /LAB/test3.mp4: 640x640 (no detections), 6.1ms\n",
      "video 1/1 (959/1231) /LAB/test3.mp4: 640x640 (no detections), 6.1ms\n",
      "video 1/1 (960/1231) /LAB/test3.mp4: 640x640 (no detections), 6.0ms\n",
      "video 1/1 (961/1231) /LAB/test3.mp4: 640x640 (no detections), 8.2ms\n",
      "video 1/1 (962/1231) /LAB/test3.mp4: 640x640 (no detections), 6.1ms\n",
      "video 1/1 (963/1231) /LAB/test3.mp4: 640x640 (no detections), 6.3ms\n",
      "video 1/1 (964/1231) /LAB/test3.mp4: 640x640 (no detections), 6.1ms\n",
      "video 1/1 (965/1231) /LAB/test3.mp4: 640x640 (no detections), 6.4ms\n",
      "video 1/1 (966/1231) /LAB/test3.mp4: 640x640 (no detections), 6.1ms\n",
      "video 1/1 (967/1231) /LAB/test3.mp4: 640x640 (no detections), 6.1ms\n",
      "video 1/1 (968/1231) /LAB/test3.mp4: 640x640 (no detections), 6.1ms\n",
      "video 1/1 (969/1231) /LAB/test3.mp4: 640x640 (no detections), 6.4ms\n",
      "video 1/1 (970/1231) /LAB/test3.mp4: 640x640 (no detections), 6.2ms\n",
      "video 1/1 (971/1231) /LAB/test3.mp4: 640x640 (no detections), 6.2ms\n",
      "video 1/1 (972/1231) /LAB/test3.mp4: 640x640 (no detections), 6.2ms\n",
      "video 1/1 (973/1231) /LAB/test3.mp4: 640x640 (no detections), 6.1ms\n",
      "video 1/1 (974/1231) /LAB/test3.mp4: 640x640 (no detections), 6.2ms\n",
      "video 1/1 (975/1231) /LAB/test3.mp4: 640x640 (no detections), 6.2ms\n",
      "video 1/1 (976/1231) /LAB/test3.mp4: 640x640 (no detections), 6.3ms\n",
      "video 1/1 (977/1231) /LAB/test3.mp4: 640x640 (no detections), 6.2ms\n",
      "video 1/1 (978/1231) /LAB/test3.mp4: 640x640 (no detections), 6.2ms\n",
      "video 1/1 (979/1231) /LAB/test3.mp4: 640x640 (no detections), 6.0ms\n",
      "video 1/1 (980/1231) /LAB/test3.mp4: 640x640 (no detections), 6.3ms\n",
      "video 1/1 (981/1231) /LAB/test3.mp4: 640x640 (no detections), 6.2ms\n",
      "video 1/1 (982/1231) /LAB/test3.mp4: 640x640 (no detections), 6.3ms\n",
      "video 1/1 (983/1231) /LAB/test3.mp4: 640x640 (no detections), 6.1ms\n",
      "video 1/1 (984/1231) /LAB/test3.mp4: 640x640 (no detections), 6.2ms\n",
      "video 1/1 (985/1231) /LAB/test3.mp4: 640x640 (no detections), 6.3ms\n",
      "video 1/1 (986/1231) /LAB/test3.mp4: 640x640 (no detections), 6.1ms\n",
      "video 1/1 (987/1231) /LAB/test3.mp4: 640x640 (no detections), 6.2ms\n",
      "video 1/1 (988/1231) /LAB/test3.mp4: 640x640 (no detections), 6.1ms\n",
      "video 1/1 (989/1231) /LAB/test3.mp4: 640x640 (no detections), 6.1ms\n",
      "video 1/1 (990/1231) /LAB/test3.mp4: 640x640 (no detections), 6.1ms\n",
      "video 1/1 (991/1231) /LAB/test3.mp4: 640x640 (no detections), 6.1ms\n",
      "video 1/1 (992/1231) /LAB/test3.mp4: 640x640 (no detections), 6.3ms\n",
      "video 1/1 (993/1231) /LAB/test3.mp4: 640x640 (no detections), 6.0ms\n",
      "video 1/1 (994/1231) /LAB/test3.mp4: 640x640 (no detections), 6.0ms\n",
      "video 1/1 (995/1231) /LAB/test3.mp4: 640x640 (no detections), 6.2ms\n",
      "video 1/1 (996/1231) /LAB/test3.mp4: 640x640 (no detections), 6.0ms\n",
      "video 1/1 (997/1231) /LAB/test3.mp4: 640x640 (no detections), 6.1ms\n",
      "video 1/1 (998/1231) /LAB/test3.mp4: 640x640 (no detections), 6.1ms\n",
      "video 1/1 (999/1231) /LAB/test3.mp4: 640x640 (no detections), 6.0ms\n",
      "video 1/1 (1000/1231) /LAB/test3.mp4: 640x640 1 Tow_Truck, 6.1ms\n",
      "video 1/1 (1001/1231) /LAB/test3.mp4: 640x640 1 Tow_Truck, 6.2ms\n",
      "video 1/1 (1002/1231) /LAB/test3.mp4: 640x640 1 Tow_Truck, 6.0ms\n",
      "video 1/1 (1003/1231) /LAB/test3.mp4: 640x640 1 Tow_Truck, 6.2ms\n",
      "video 1/1 (1004/1231) /LAB/test3.mp4: 640x640 (no detections), 6.1ms\n",
      "video 1/1 (1005/1231) /LAB/test3.mp4: 640x640 (no detections), 6.2ms\n",
      "video 1/1 (1006/1231) /LAB/test3.mp4: 640x640 (no detections), 6.3ms\n",
      "video 1/1 (1007/1231) /LAB/test3.mp4: 640x640 1 Tow_Truck, 6.1ms\n",
      "video 1/1 (1008/1231) /LAB/test3.mp4: 640x640 (no detections), 6.2ms\n",
      "video 1/1 (1009/1231) /LAB/test3.mp4: 640x640 (no detections), 5.9ms\n",
      "video 1/1 (1010/1231) /LAB/test3.mp4: 640x640 (no detections), 6.3ms\n",
      "video 1/1 (1011/1231) /LAB/test3.mp4: 640x640 (no detections), 6.2ms\n",
      "video 1/1 (1012/1231) /LAB/test3.mp4: 640x640 (no detections), 6.0ms\n",
      "video 1/1 (1013/1231) /LAB/test3.mp4: 640x640 (no detections), 6.1ms\n",
      "video 1/1 (1014/1231) /LAB/test3.mp4: 640x640 (no detections), 6.0ms\n",
      "video 1/1 (1015/1231) /LAB/test3.mp4: 640x640 (no detections), 6.2ms\n",
      "video 1/1 (1016/1231) /LAB/test3.mp4: 640x640 1 Tow_Truck, 6.1ms\n",
      "video 1/1 (1017/1231) /LAB/test3.mp4: 640x640 1 Tow_Truck, 6.2ms\n",
      "video 1/1 (1018/1231) /LAB/test3.mp4: 640x640 1 Tow_Truck, 6.1ms\n",
      "video 1/1 (1019/1231) /LAB/test3.mp4: 640x640 1 Tow_Truck, 6.4ms\n",
      "video 1/1 (1020/1231) /LAB/test3.mp4: 640x640 1 Tow_Truck, 6.1ms\n",
      "video 1/1 (1021/1231) /LAB/test3.mp4: 640x640 (no detections), 6.1ms\n",
      "video 1/1 (1022/1231) /LAB/test3.mp4: 640x640 1 Tow_Truck, 6.1ms\n",
      "video 1/1 (1023/1231) /LAB/test3.mp4: 640x640 1 Tow_Truck, 6.4ms\n",
      "video 1/1 (1024/1231) /LAB/test3.mp4: 640x640 1 Tow_Truck, 6.3ms\n",
      "video 1/1 (1025/1231) /LAB/test3.mp4: 640x640 1 Tow_Truck, 6.5ms\n",
      "video 1/1 (1026/1231) /LAB/test3.mp4: 640x640 1 Tow_Truck, 6.2ms\n",
      "video 1/1 (1027/1231) /LAB/test3.mp4: 640x640 1 Tow_Truck, 6.2ms\n",
      "video 1/1 (1028/1231) /LAB/test3.mp4: 640x640 1 Tow_Truck, 6.3ms\n",
      "video 1/1 (1029/1231) /LAB/test3.mp4: 640x640 1 Tow_Truck, 6.4ms\n",
      "video 1/1 (1030/1231) /LAB/test3.mp4: 640x640 1 Tow_Truck, 6.2ms\n",
      "video 1/1 (1031/1231) /LAB/test3.mp4: 640x640 (no detections), 6.3ms\n",
      "video 1/1 (1032/1231) /LAB/test3.mp4: 640x640 (no detections), 6.4ms\n",
      "video 1/1 (1033/1231) /LAB/test3.mp4: 640x640 (no detections), 6.2ms\n",
      "video 1/1 (1034/1231) /LAB/test3.mp4: 640x640 (no detections), 6.1ms\n",
      "video 1/1 (1035/1231) /LAB/test3.mp4: 640x640 (no detections), 6.3ms\n",
      "video 1/1 (1036/1231) /LAB/test3.mp4: 640x640 (no detections), 6.2ms\n",
      "video 1/1 (1037/1231) /LAB/test3.mp4: 640x640 (no detections), 6.2ms\n",
      "video 1/1 (1038/1231) /LAB/test3.mp4: 640x640 (no detections), 6.1ms\n",
      "video 1/1 (1039/1231) /LAB/test3.mp4: 640x640 (no detections), 6.2ms\n",
      "video 1/1 (1040/1231) /LAB/test3.mp4: 640x640 1 Tow_Truck_with_vehicle, 6.3ms\n",
      "video 1/1 (1041/1231) /LAB/test3.mp4: 640x640 1 Tow_Truck_with_vehicle, 6.2ms\n",
      "video 1/1 (1042/1231) /LAB/test3.mp4: 640x640 1 Tow_Truck, 6.2ms\n",
      "video 1/1 (1043/1231) /LAB/test3.mp4: 640x640 1 Tow_Truck, 6.2ms\n",
      "video 1/1 (1044/1231) /LAB/test3.mp4: 640x640 1 Tow_Truck, 6.1ms\n",
      "video 1/1 (1045/1231) /LAB/test3.mp4: 640x640 1 Tow_Truck, 6.2ms\n",
      "video 1/1 (1046/1231) /LAB/test3.mp4: 640x640 1 Tow_Truck_with_vehicle, 6.1ms\n",
      "video 1/1 (1047/1231) /LAB/test3.mp4: 640x640 1 Tow_Truck_with_vehicle, 6.2ms\n",
      "video 1/1 (1048/1231) /LAB/test3.mp4: 640x640 1 Tow_Truck_with_vehicle, 6.3ms\n",
      "video 1/1 (1049/1231) /LAB/test3.mp4: 640x640 1 Tow_Truck_with_vehicle, 6.2ms\n",
      "video 1/1 (1050/1231) /LAB/test3.mp4: 640x640 1 Tow_Truck_with_vehicle, 6.2ms\n",
      "video 1/1 (1051/1231) /LAB/test3.mp4: 640x640 1 Tow_Truck, 6.3ms\n",
      "video 1/1 (1052/1231) /LAB/test3.mp4: 640x640 1 Tow_Truck_with_vehicle, 7.4ms\n",
      "video 1/1 (1053/1231) /LAB/test3.mp4: 640x640 1 Tow_Truck_with_vehicle, 6.3ms\n",
      "video 1/1 (1054/1231) /LAB/test3.mp4: 640x640 1 Tow_Truck_with_vehicle, 6.4ms\n",
      "video 1/1 (1055/1231) /LAB/test3.mp4: 640x640 1 Tow_Truck_with_vehicle, 6.4ms\n",
      "video 1/1 (1056/1231) /LAB/test3.mp4: 640x640 1 Tow_Truck_with_vehicle, 6.2ms\n",
      "video 1/1 (1057/1231) /LAB/test3.mp4: 640x640 1 Tow_Truck_with_vehicle, 6.2ms\n",
      "video 1/1 (1058/1231) /LAB/test3.mp4: 640x640 1 Tow_Truck_with_vehicle, 6.3ms\n",
      "video 1/1 (1059/1231) /LAB/test3.mp4: 640x640 1 Tow_Truck_with_vehicle, 6.3ms\n",
      "video 1/1 (1060/1231) /LAB/test3.mp4: 640x640 (no detections), 6.3ms\n",
      "video 1/1 (1061/1231) /LAB/test3.mp4: 640x640 1 Tow_Truck, 6.3ms\n",
      "video 1/1 (1062/1231) /LAB/test3.mp4: 640x640 1 Tow_Truck_with_vehicle, 6.2ms\n",
      "video 1/1 (1063/1231) /LAB/test3.mp4: 640x640 1 Tow_Truck_with_vehicle, 6.2ms\n",
      "video 1/1 (1064/1231) /LAB/test3.mp4: 640x640 1 Tow_Truck_with_vehicle, 6.2ms\n",
      "video 1/1 (1065/1231) /LAB/test3.mp4: 640x640 1 Tow_Truck_with_vehicle, 6.4ms\n",
      "video 1/1 (1066/1231) /LAB/test3.mp4: 640x640 (no detections), 6.1ms\n",
      "video 1/1 (1067/1231) /LAB/test3.mp4: 640x640 (no detections), 6.4ms\n",
      "video 1/1 (1068/1231) /LAB/test3.mp4: 640x640 (no detections), 6.2ms\n",
      "video 1/1 (1069/1231) /LAB/test3.mp4: 640x640 (no detections), 6.2ms\n",
      "video 1/1 (1070/1231) /LAB/test3.mp4: 640x640 (no detections), 6.2ms\n",
      "video 1/1 (1071/1231) /LAB/test3.mp4: 640x640 1 Tow_Truck, 6.2ms\n",
      "video 1/1 (1072/1231) /LAB/test3.mp4: 640x640 (no detections), 6.2ms\n",
      "video 1/1 (1073/1231) /LAB/test3.mp4: 640x640 (no detections), 6.0ms\n",
      "video 1/1 (1074/1231) /LAB/test3.mp4: 640x640 (no detections), 6.1ms\n",
      "video 1/1 (1075/1231) /LAB/test3.mp4: 640x640 (no detections), 6.2ms\n",
      "video 1/1 (1076/1231) /LAB/test3.mp4: 640x640 (no detections), 6.1ms\n",
      "video 1/1 (1077/1231) /LAB/test3.mp4: 640x640 2 Tow_Trucks, 6.1ms\n",
      "video 1/1 (1078/1231) /LAB/test3.mp4: 640x640 2 Tow_Trucks, 6.1ms\n",
      "video 1/1 (1079/1231) /LAB/test3.mp4: 640x640 2 Tow_Trucks, 6.3ms\n",
      "video 1/1 (1080/1231) /LAB/test3.mp4: 640x640 2 Tow_Trucks, 6.1ms\n",
      "video 1/1 (1081/1231) /LAB/test3.mp4: 640x640 1 Tow_Truck, 6.1ms\n",
      "video 1/1 (1082/1231) /LAB/test3.mp4: 640x640 (no detections), 6.3ms\n",
      "video 1/1 (1083/1231) /LAB/test3.mp4: 640x640 1 Tow_Truck, 6.2ms\n",
      "video 1/1 (1084/1231) /LAB/test3.mp4: 640x640 1 Tow_Truck, 6.1ms\n",
      "video 1/1 (1085/1231) /LAB/test3.mp4: 640x640 (no detections), 6.2ms\n",
      "video 1/1 (1086/1231) /LAB/test3.mp4: 640x640 (no detections), 6.2ms\n",
      "video 1/1 (1087/1231) /LAB/test3.mp4: 640x640 (no detections), 6.1ms\n",
      "video 1/1 (1088/1231) /LAB/test3.mp4: 640x640 1 Tow_Truck_with_vehicle, 6.1ms\n",
      "video 1/1 (1089/1231) /LAB/test3.mp4: 640x640 (no detections), 6.1ms\n",
      "video 1/1 (1090/1231) /LAB/test3.mp4: 640x640 (no detections), 6.3ms\n",
      "video 1/1 (1091/1231) /LAB/test3.mp4: 640x640 (no detections), 6.1ms\n",
      "video 1/1 (1092/1231) /LAB/test3.mp4: 640x640 (no detections), 6.2ms\n",
      "video 1/1 (1093/1231) /LAB/test3.mp4: 640x640 (no detections), 6.2ms\n",
      "video 1/1 (1094/1231) /LAB/test3.mp4: 640x640 (no detections), 6.1ms\n",
      "video 1/1 (1095/1231) /LAB/test3.mp4: 640x640 1 Tow_Truck_with_vehicle, 6.1ms\n",
      "video 1/1 (1096/1231) /LAB/test3.mp4: 640x640 1 Tow_Truck_with_vehicle, 6.1ms\n",
      "video 1/1 (1097/1231) /LAB/test3.mp4: 640x640 1 Tow_Truck, 6.1ms\n",
      "video 1/1 (1098/1231) /LAB/test3.mp4: 640x640 1 Tow_Truck, 6.2ms\n",
      "video 1/1 (1099/1231) /LAB/test3.mp4: 640x640 1 Tow_Truck, 6.1ms\n",
      "video 1/1 (1100/1231) /LAB/test3.mp4: 640x640 1 Tow_Truck_with_vehicle, 6.1ms\n",
      "video 1/1 (1101/1231) /LAB/test3.mp4: 640x640 1 Tow_Truck_with_vehicle, 6.2ms\n",
      "video 1/1 (1102/1231) /LAB/test3.mp4: 640x640 1 Tow_Truck_with_vehicle, 6.2ms\n",
      "video 1/1 (1103/1231) /LAB/test3.mp4: 640x640 1 Tow_Truck_with_vehicle, 6.2ms\n",
      "video 1/1 (1104/1231) /LAB/test3.mp4: 640x640 1 Tow_Truck_with_vehicle, 6.2ms\n",
      "video 1/1 (1105/1231) /LAB/test3.mp4: 640x640 1 Tow_Truck, 6.1ms\n",
      "video 1/1 (1106/1231) /LAB/test3.mp4: 640x640 1 Tow_Truck, 6.3ms\n",
      "video 1/1 (1107/1231) /LAB/test3.mp4: 640x640 (no detections), 6.2ms\n",
      "video 1/1 (1108/1231) /LAB/test3.mp4: 640x640 1 Tow_Truck_with_vehicle, 6.2ms\n",
      "video 1/1 (1109/1231) /LAB/test3.mp4: 640x640 1 Tow_Truck_with_vehicle, 6.3ms\n",
      "video 1/1 (1110/1231) /LAB/test3.mp4: 640x640 1 Tow_Truck, 6.3ms\n",
      "video 1/1 (1111/1231) /LAB/test3.mp4: 640x640 1 Tow_Truck, 6.4ms\n",
      "video 1/1 (1112/1231) /LAB/test3.mp4: 640x640 1 Tow_Truck_with_vehicle, 6.3ms\n",
      "video 1/1 (1113/1231) /LAB/test3.mp4: 640x640 1 Tow_Truck, 6.3ms\n",
      "video 1/1 (1114/1231) /LAB/test3.mp4: 640x640 1 Tow_Truck, 6.4ms\n",
      "video 1/1 (1115/1231) /LAB/test3.mp4: 640x640 1 Tow_Truck_with_vehicle, 6.3ms\n",
      "video 1/1 (1116/1231) /LAB/test3.mp4: 640x640 1 Tow_Truck_with_vehicle, 6.1ms\n",
      "video 1/1 (1117/1231) /LAB/test3.mp4: 640x640 1 Tow_Truck_with_vehicle, 6.3ms\n",
      "video 1/1 (1118/1231) /LAB/test3.mp4: 640x640 1 Tow_Truck, 6.3ms\n",
      "video 1/1 (1119/1231) /LAB/test3.mp4: 640x640 1 Tow_Truck, 6.3ms\n",
      "video 1/1 (1120/1231) /LAB/test3.mp4: 640x640 1 Tow_Truck, 6.3ms\n",
      "video 1/1 (1121/1231) /LAB/test3.mp4: 640x640 1 Tow_Truck, 6.5ms\n",
      "video 1/1 (1122/1231) /LAB/test3.mp4: 640x640 1 Tow_Truck, 6.3ms\n",
      "video 1/1 (1123/1231) /LAB/test3.mp4: 640x640 1 Tow_Truck, 6.2ms\n",
      "video 1/1 (1124/1231) /LAB/test3.mp4: 640x640 1 Tow_Truck, 6.4ms\n",
      "video 1/1 (1125/1231) /LAB/test3.mp4: 640x640 1 Tow_Truck, 6.3ms\n",
      "video 1/1 (1126/1231) /LAB/test3.mp4: 640x640 1 Tow_Truck, 6.1ms\n",
      "video 1/1 (1127/1231) /LAB/test3.mp4: 640x640 1 Tow_Truck, 6.2ms\n",
      "video 1/1 (1128/1231) /LAB/test3.mp4: 640x640 1 Tow_Truck, 6.1ms\n",
      "video 1/1 (1129/1231) /LAB/test3.mp4: 640x640 1 Tow_Truck, 1 Tow_Truck_with_vehicle, 6.2ms\n",
      "video 1/1 (1130/1231) /LAB/test3.mp4: 640x640 1 Tow_Truck, 6.2ms\n",
      "video 1/1 (1131/1231) /LAB/test3.mp4: 640x640 1 Tow_Truck, 6.3ms\n",
      "video 1/1 (1132/1231) /LAB/test3.mp4: 640x640 1 Tow_Truck, 6.3ms\n",
      "video 1/1 (1133/1231) /LAB/test3.mp4: 640x640 1 Tow_Truck, 6.4ms\n",
      "video 1/1 (1134/1231) /LAB/test3.mp4: 640x640 1 Tow_Truck, 6.1ms\n",
      "video 1/1 (1135/1231) /LAB/test3.mp4: 640x640 1 Tow_Truck, 6.2ms\n",
      "video 1/1 (1136/1231) /LAB/test3.mp4: 640x640 1 Tow_Truck, 6.3ms\n",
      "video 1/1 (1137/1231) /LAB/test3.mp4: 640x640 1 Tow_Truck, 6.0ms\n",
      "video 1/1 (1138/1231) /LAB/test3.mp4: 640x640 1 Tow_Truck, 6.2ms\n",
      "video 1/1 (1139/1231) /LAB/test3.mp4: 640x640 1 Tow_Truck, 6.2ms\n",
      "video 1/1 (1140/1231) /LAB/test3.mp4: 640x640 1 Tow_Truck, 6.3ms\n",
      "video 1/1 (1141/1231) /LAB/test3.mp4: 640x640 1 Tow_Truck, 6.3ms\n",
      "video 1/1 (1142/1231) /LAB/test3.mp4: 640x640 1 Tow_Truck, 6.3ms\n",
      "video 1/1 (1143/1231) /LAB/test3.mp4: 640x640 1 Tow_Truck, 6.2ms\n",
      "video 1/1 (1144/1231) /LAB/test3.mp4: 640x640 1 Tow_Truck, 6.2ms\n",
      "video 1/1 (1145/1231) /LAB/test3.mp4: 640x640 1 Tow_Truck, 6.3ms\n",
      "video 1/1 (1146/1231) /LAB/test3.mp4: 640x640 1 Tow_Truck, 6.2ms\n",
      "video 1/1 (1147/1231) /LAB/test3.mp4: 640x640 1 Tow_Truck, 6.3ms\n",
      "video 1/1 (1148/1231) /LAB/test3.mp4: 640x640 1 Tow_Truck, 6.3ms\n",
      "video 1/1 (1149/1231) /LAB/test3.mp4: 640x640 1 Tow_Truck, 6.3ms\n",
      "video 1/1 (1150/1231) /LAB/test3.mp4: 640x640 1 Tow_Truck, 6.2ms\n",
      "video 1/1 (1151/1231) /LAB/test3.mp4: 640x640 1 Tow_Truck, 6.2ms\n",
      "video 1/1 (1152/1231) /LAB/test3.mp4: 640x640 1 Tow_Truck, 6.2ms\n",
      "video 1/1 (1153/1231) /LAB/test3.mp4: 640x640 1 Tow_Truck, 6.1ms\n",
      "video 1/1 (1154/1231) /LAB/test3.mp4: 640x640 1 Tow_Truck, 6.2ms\n",
      "video 1/1 (1155/1231) /LAB/test3.mp4: 640x640 1 Tow_Truck, 1 Tow_Truck_with_vehicle, 6.3ms\n",
      "video 1/1 (1156/1231) /LAB/test3.mp4: 640x640 1 Tow_Truck, 1 Tow_Truck_with_vehicle, 7.3ms\n",
      "video 1/1 (1157/1231) /LAB/test3.mp4: 640x640 1 Tow_Truck, 6.1ms\n",
      "video 1/1 (1158/1231) /LAB/test3.mp4: 640x640 1 Tow_Truck, 6.1ms\n",
      "video 1/1 (1159/1231) /LAB/test3.mp4: 640x640 1 Tow_Truck, 6.2ms\n",
      "video 1/1 (1160/1231) /LAB/test3.mp4: 640x640 1 Tow_Truck, 6.2ms\n",
      "video 1/1 (1161/1231) /LAB/test3.mp4: 640x640 (no detections), 6.2ms\n",
      "video 1/1 (1162/1231) /LAB/test3.mp4: 640x640 1 Tow_Truck, 6.2ms\n",
      "video 1/1 (1163/1231) /LAB/test3.mp4: 640x640 1 Tow_Truck, 6.2ms\n",
      "video 1/1 (1164/1231) /LAB/test3.mp4: 640x640 1 Tow_Truck, 6.2ms\n",
      "video 1/1 (1165/1231) /LAB/test3.mp4: 640x640 1 Tow_Truck, 6.5ms\n",
      "video 1/1 (1166/1231) /LAB/test3.mp4: 640x640 1 Tow_Truck, 6.2ms\n",
      "video 1/1 (1167/1231) /LAB/test3.mp4: 640x640 1 Tow_Truck, 6.4ms\n",
      "video 1/1 (1168/1231) /LAB/test3.mp4: 640x640 1 Tow_Truck, 6.3ms\n",
      "video 1/1 (1169/1231) /LAB/test3.mp4: 640x640 1 Tow_Truck, 6.2ms\n",
      "video 1/1 (1170/1231) /LAB/test3.mp4: 640x640 1 Tow_Truck, 6.2ms\n",
      "video 1/1 (1171/1231) /LAB/test3.mp4: 640x640 1 Tow_Truck_with_vehicle, 6.2ms\n",
      "video 1/1 (1172/1231) /LAB/test3.mp4: 640x640 1 Tow_Truck_with_vehicle, 6.2ms\n",
      "video 1/1 (1173/1231) /LAB/test3.mp4: 640x640 (no detections), 6.3ms\n",
      "video 1/1 (1174/1231) /LAB/test3.mp4: 640x640 (no detections), 6.2ms\n",
      "video 1/1 (1175/1231) /LAB/test3.mp4: 640x640 (no detections), 6.3ms\n",
      "video 1/1 (1176/1231) /LAB/test3.mp4: 640x640 (no detections), 6.2ms\n",
      "video 1/1 (1177/1231) /LAB/test3.mp4: 640x640 (no detections), 6.1ms\n",
      "video 1/1 (1178/1231) /LAB/test3.mp4: 640x640 (no detections), 6.2ms\n",
      "video 1/1 (1179/1231) /LAB/test3.mp4: 640x640 (no detections), 6.2ms\n",
      "video 1/1 (1180/1231) /LAB/test3.mp4: 640x640 (no detections), 6.2ms\n",
      "video 1/1 (1181/1231) /LAB/test3.mp4: 640x640 (no detections), 6.1ms\n",
      "video 1/1 (1182/1231) /LAB/test3.mp4: 640x640 (no detections), 6.1ms\n",
      "video 1/1 (1183/1231) /LAB/test3.mp4: 640x640 (no detections), 6.2ms\n",
      "video 1/1 (1184/1231) /LAB/test3.mp4: 640x640 (no detections), 6.2ms\n",
      "video 1/1 (1185/1231) /LAB/test3.mp4: 640x640 (no detections), 6.2ms\n",
      "video 1/1 (1186/1231) /LAB/test3.mp4: 640x640 (no detections), 6.1ms\n",
      "video 1/1 (1187/1231) /LAB/test3.mp4: 640x640 (no detections), 6.3ms\n",
      "video 1/1 (1188/1231) /LAB/test3.mp4: 640x640 (no detections), 6.2ms\n",
      "video 1/1 (1189/1231) /LAB/test3.mp4: 640x640 (no detections), 6.3ms\n",
      "video 1/1 (1190/1231) /LAB/test3.mp4: 640x640 (no detections), 6.2ms\n",
      "video 1/1 (1191/1231) /LAB/test3.mp4: 640x640 (no detections), 6.1ms\n",
      "video 1/1 (1192/1231) /LAB/test3.mp4: 640x640 (no detections), 6.2ms\n",
      "video 1/1 (1193/1231) /LAB/test3.mp4: 640x640 (no detections), 6.1ms\n",
      "video 1/1 (1194/1231) /LAB/test3.mp4: 640x640 (no detections), 6.2ms\n",
      "video 1/1 (1195/1231) /LAB/test3.mp4: 640x640 (no detections), 6.1ms\n",
      "video 1/1 (1196/1231) /LAB/test3.mp4: 640x640 (no detections), 6.2ms\n",
      "video 1/1 (1197/1231) /LAB/test3.mp4: 640x640 (no detections), 6.2ms\n",
      "video 1/1 (1198/1231) /LAB/test3.mp4: 640x640 (no detections), 6.2ms\n",
      "video 1/1 (1199/1231) /LAB/test3.mp4: 640x640 1 Tow_Truck_with_vehicle, 6.1ms\n",
      "video 1/1 (1200/1231) /LAB/test3.mp4: 640x640 (no detections), 6.1ms\n",
      "video 1/1 (1201/1231) /LAB/test3.mp4: 640x640 1 Tow_Truck, 6.1ms\n",
      "video 1/1 (1202/1231) /LAB/test3.mp4: 640x640 1 Tow_Truck, 6.1ms\n",
      "video 1/1 (1203/1231) /LAB/test3.mp4: 640x640 (no detections), 6.1ms\n",
      "video 1/1 (1204/1231) /LAB/test3.mp4: 640x640 (no detections), 6.1ms\n",
      "video 1/1 (1205/1231) /LAB/test3.mp4: 640x640 (no detections), 6.1ms\n",
      "video 1/1 (1206/1231) /LAB/test3.mp4: 640x640 (no detections), 6.2ms\n",
      "video 1/1 (1207/1231) /LAB/test3.mp4: 640x640 (no detections), 6.1ms\n",
      "video 1/1 (1208/1231) /LAB/test3.mp4: 640x640 (no detections), 6.2ms\n",
      "video 1/1 (1209/1231) /LAB/test3.mp4: 640x640 (no detections), 6.4ms\n",
      "video 1/1 (1210/1231) /LAB/test3.mp4: 640x640 (no detections), 6.2ms\n",
      "video 1/1 (1211/1231) /LAB/test3.mp4: 640x640 (no detections), 6.2ms\n",
      "video 1/1 (1212/1231) /LAB/test3.mp4: 640x640 (no detections), 6.1ms\n",
      "video 1/1 (1213/1231) /LAB/test3.mp4: 640x640 (no detections), 6.2ms\n",
      "video 1/1 (1214/1231) /LAB/test3.mp4: 640x640 (no detections), 6.2ms\n",
      "video 1/1 (1215/1231) /LAB/test3.mp4: 640x640 (no detections), 14.2ms\n",
      "video 1/1 (1216/1231) /LAB/test3.mp4: 640x640 (no detections), 6.0ms\n",
      "video 1/1 (1217/1231) /LAB/test3.mp4: 640x640 (no detections), 5.9ms\n",
      "video 1/1 (1218/1231) /LAB/test3.mp4: 640x640 (no detections), 5.9ms\n",
      "video 1/1 (1219/1231) /LAB/test3.mp4: 640x640 (no detections), 6.2ms\n",
      "video 1/1 (1220/1231) /LAB/test3.mp4: 640x640 (no detections), 5.9ms\n",
      "video 1/1 (1221/1231) /LAB/test3.mp4: 640x640 (no detections), 6.0ms\n",
      "video 1/1 (1222/1231) /LAB/test3.mp4: 640x640 (no detections), 5.9ms\n",
      "video 1/1 (1223/1231) /LAB/test3.mp4: 640x640 (no detections), 5.9ms\n",
      "video 1/1 (1224/1231) /LAB/test3.mp4: 640x640 (no detections), 5.9ms\n",
      "video 1/1 (1225/1231) /LAB/test3.mp4: 640x640 (no detections), 5.9ms\n",
      "video 1/1 (1226/1231) /LAB/test3.mp4: 640x640 (no detections), 6.0ms\n",
      "video 1/1 (1227/1231) /LAB/test3.mp4: 640x640 (no detections), 6.0ms\n",
      "video 1/1 (1228/1231) /LAB/test3.mp4: 640x640 (no detections), 5.9ms\n",
      "video 1/1 (1229/1231) /LAB/test3.mp4: 640x640 (no detections), 6.0ms\n",
      "video 1/1 (1230/1231) /LAB/test3.mp4: 640x640 (no detections), 5.9ms\n",
      "video 1/1 (1231/1231) /LAB/test3.mp4: 640x640 (no detections), 6.2ms\n",
      "Speed: 1.8ms preprocess, 6.3ms inference, 0.8ms postprocess per image at shape (1, 3, 640, 640)\n",
      "Results saved to \u001b[1mruns/detect/predict9\u001b[0m\n"
     ]
    }
   ],
   "source": [
    "model = YOLO(\"Yolov8s.torchscript\")\n",
    "result = model.predict(\"test3.mp4\", save = True, conf = 0.25, show_boxes = True)"
   ]
  },
  {
   "cell_type": "code",
   "execution_count": null,
   "id": "b8775c9b",
   "metadata": {},
   "outputs": [],
   "source": []
  }
 ],
 "metadata": {
  "kernelspec": {
   "display_name": "Python 3 (ipykernel)",
   "language": "python",
   "name": "python3"
  },
  "language_info": {
   "codemirror_mode": {
    "name": "ipython",
    "version": 3
   },
   "file_extension": ".py",
   "mimetype": "text/x-python",
   "name": "python",
   "nbconvert_exporter": "python",
   "pygments_lexer": "ipython3",
   "version": "3.8.10"
  }
 },
 "nbformat": 4,
 "nbformat_minor": 5
}
